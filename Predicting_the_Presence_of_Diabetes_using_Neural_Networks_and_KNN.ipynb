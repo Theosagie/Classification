{
  "nbformat": 4,
  "nbformat_minor": 0,
  "metadata": {
    "colab": {
      "provenance": [],
      "mount_file_id": "17CvIMaoKvhF8pSu3TdzTnIQq-undo6vq",
      "authorship_tag": "ABX9TyMaVqcwq6jTJY/hTbUAML3M",
      "include_colab_link": true
    },
    "kernelspec": {
      "name": "python3",
      "display_name": "Python 3"
    },
    "language_info": {
      "name": "python"
    },
    "gpuClass": "standard"
  },
  "cells": [
    {
      "cell_type": "markdown",
      "metadata": {
        "id": "view-in-github",
        "colab_type": "text"
      },
      "source": [
        "<a href=\"https://colab.research.google.com/github/Theosagie/Classification/blob/main/Predicting_the_Presence_of_Diabetes_using_Neural_Networks_and_KNN.ipynb\" target=\"_parent\"><img src=\"https://colab.research.google.com/assets/colab-badge.svg\" alt=\"Open In Colab\"/></a>"
      ]
    },
    {
      "cell_type": "code",
      "execution_count": null,
      "metadata": {
        "id": "SgS_HyaBORbd"
      },
      "outputs": [],
      "source": [
        "                                                          #TASK 1- CLASSIFICATION               "
      ]
    },
    {
      "cell_type": "code",
      "source": [
        "import pandas as pd\n",
        "import numpy as np\n",
        "import matplotlib.pyplot as plt\n",
        "import seaborn as sns\n",
        "import sklearn as sk"
      ],
      "metadata": {
        "id": "c-yOAVAwv8GA"
      },
      "execution_count": null,
      "outputs": []
    },
    {
      "cell_type": "code",
      "source": [
        "\n",
        "\n",
        "fileName ='/content/pima-indians-diabetes.data.csv'"
      ],
      "metadata": {
        "id": "_I4J3syMQ3GE"
      },
      "execution_count": null,
      "outputs": []
    },
    {
      "cell_type": "code",
      "source": [
        "#fileName2 = '/pima-indians-diabetes.data.csv'"
      ],
      "metadata": {
        "id": "GBE40oWLfkka"
      },
      "execution_count": null,
      "outputs": []
    },
    {
      "cell_type": "code",
      "source": [
        "df = pd.read_csv(fileName, header=None)"
      ],
      "metadata": {
        "id": "43VAzhBPgCuQ"
      },
      "execution_count": null,
      "outputs": []
    },
    {
      "cell_type": "code",
      "source": [
        "names = ['Number of times pregnant','Plasma glucose concentration a 2 hours in an oral glucose tolerance test',\n",
        "         'Diastolic blood pressure (mm Hg)','Triceps skin fold thickness (mm)','2-Hour serum insulin (mu U/ml)',\n",
        "        'Body mass index (weight in kg/(height in m)^2)','Diabetes pedigree function','Age (years)',\n",
        "        'Class variable (0 or 1)']"
      ],
      "metadata": {
        "id": "pnyKtrJNQ5MN"
      },
      "execution_count": null,
      "outputs": []
    },
    {
      "cell_type": "code",
      "source": [
        "df.info()"
      ],
      "metadata": {
        "colab": {
          "base_uri": "https://localhost:8080/"
        },
        "id": "x0kpQPa8Q5Q4",
        "outputId": "eaf4b0ef-1e29-4c50-b6c9-70566ebca804"
      },
      "execution_count": null,
      "outputs": [
        {
          "output_type": "stream",
          "name": "stdout",
          "text": [
            "<class 'pandas.core.frame.DataFrame'>\n",
            "RangeIndex: 768 entries, 0 to 767\n",
            "Data columns (total 9 columns):\n",
            " #   Column  Non-Null Count  Dtype  \n",
            "---  ------  --------------  -----  \n",
            " 0   0       768 non-null    int64  \n",
            " 1   1       768 non-null    int64  \n",
            " 2   2       768 non-null    int64  \n",
            " 3   3       768 non-null    int64  \n",
            " 4   4       768 non-null    int64  \n",
            " 5   5       768 non-null    float64\n",
            " 6   6       768 non-null    float64\n",
            " 7   7       768 non-null    int64  \n",
            " 8   8       768 non-null    int64  \n",
            "dtypes: float64(2), int64(7)\n",
            "memory usage: 54.1 KB\n"
          ]
        }
      ]
    },
    {
      "cell_type": "code",
      "source": [
        "df.head()"
      ],
      "metadata": {
        "colab": {
          "base_uri": "https://localhost:8080/",
          "height": 206
        },
        "id": "hGsB2t8JrlgN",
        "outputId": "79ab1a69-5add-4180-e3aa-119292cc9ac5"
      },
      "execution_count": null,
      "outputs": [
        {
          "output_type": "execute_result",
          "data": {
            "text/plain": [
              "   0    1   2   3    4     5      6   7  8\n",
              "0  6  148  72  35    0  33.6  0.627  50  1\n",
              "1  1   85  66  29    0  26.6  0.351  31  0\n",
              "2  8  183  64   0    0  23.3  0.672  32  1\n",
              "3  1   89  66  23   94  28.1  0.167  21  0\n",
              "4  0  137  40  35  168  43.1  2.288  33  1"
            ],
            "text/html": [
              "\n",
              "  <div id=\"df-bc11f9c0-6ebd-4678-bd2a-c1a1fd91ac54\">\n",
              "    <div class=\"colab-df-container\">\n",
              "      <div>\n",
              "<style scoped>\n",
              "    .dataframe tbody tr th:only-of-type {\n",
              "        vertical-align: middle;\n",
              "    }\n",
              "\n",
              "    .dataframe tbody tr th {\n",
              "        vertical-align: top;\n",
              "    }\n",
              "\n",
              "    .dataframe thead th {\n",
              "        text-align: right;\n",
              "    }\n",
              "</style>\n",
              "<table border=\"1\" class=\"dataframe\">\n",
              "  <thead>\n",
              "    <tr style=\"text-align: right;\">\n",
              "      <th></th>\n",
              "      <th>0</th>\n",
              "      <th>1</th>\n",
              "      <th>2</th>\n",
              "      <th>3</th>\n",
              "      <th>4</th>\n",
              "      <th>5</th>\n",
              "      <th>6</th>\n",
              "      <th>7</th>\n",
              "      <th>8</th>\n",
              "    </tr>\n",
              "  </thead>\n",
              "  <tbody>\n",
              "    <tr>\n",
              "      <th>0</th>\n",
              "      <td>6</td>\n",
              "      <td>148</td>\n",
              "      <td>72</td>\n",
              "      <td>35</td>\n",
              "      <td>0</td>\n",
              "      <td>33.6</td>\n",
              "      <td>0.627</td>\n",
              "      <td>50</td>\n",
              "      <td>1</td>\n",
              "    </tr>\n",
              "    <tr>\n",
              "      <th>1</th>\n",
              "      <td>1</td>\n",
              "      <td>85</td>\n",
              "      <td>66</td>\n",
              "      <td>29</td>\n",
              "      <td>0</td>\n",
              "      <td>26.6</td>\n",
              "      <td>0.351</td>\n",
              "      <td>31</td>\n",
              "      <td>0</td>\n",
              "    </tr>\n",
              "    <tr>\n",
              "      <th>2</th>\n",
              "      <td>8</td>\n",
              "      <td>183</td>\n",
              "      <td>64</td>\n",
              "      <td>0</td>\n",
              "      <td>0</td>\n",
              "      <td>23.3</td>\n",
              "      <td>0.672</td>\n",
              "      <td>32</td>\n",
              "      <td>1</td>\n",
              "    </tr>\n",
              "    <tr>\n",
              "      <th>3</th>\n",
              "      <td>1</td>\n",
              "      <td>89</td>\n",
              "      <td>66</td>\n",
              "      <td>23</td>\n",
              "      <td>94</td>\n",
              "      <td>28.1</td>\n",
              "      <td>0.167</td>\n",
              "      <td>21</td>\n",
              "      <td>0</td>\n",
              "    </tr>\n",
              "    <tr>\n",
              "      <th>4</th>\n",
              "      <td>0</td>\n",
              "      <td>137</td>\n",
              "      <td>40</td>\n",
              "      <td>35</td>\n",
              "      <td>168</td>\n",
              "      <td>43.1</td>\n",
              "      <td>2.288</td>\n",
              "      <td>33</td>\n",
              "      <td>1</td>\n",
              "    </tr>\n",
              "  </tbody>\n",
              "</table>\n",
              "</div>\n",
              "      <button class=\"colab-df-convert\" onclick=\"convertToInteractive('df-bc11f9c0-6ebd-4678-bd2a-c1a1fd91ac54')\"\n",
              "              title=\"Convert this dataframe to an interactive table.\"\n",
              "              style=\"display:none;\">\n",
              "        \n",
              "  <svg xmlns=\"http://www.w3.org/2000/svg\" height=\"24px\"viewBox=\"0 0 24 24\"\n",
              "       width=\"24px\">\n",
              "    <path d=\"M0 0h24v24H0V0z\" fill=\"none\"/>\n",
              "    <path d=\"M18.56 5.44l.94 2.06.94-2.06 2.06-.94-2.06-.94-.94-2.06-.94 2.06-2.06.94zm-11 1L8.5 8.5l.94-2.06 2.06-.94-2.06-.94L8.5 2.5l-.94 2.06-2.06.94zm10 10l.94 2.06.94-2.06 2.06-.94-2.06-.94-.94-2.06-.94 2.06-2.06.94z\"/><path d=\"M17.41 7.96l-1.37-1.37c-.4-.4-.92-.59-1.43-.59-.52 0-1.04.2-1.43.59L10.3 9.45l-7.72 7.72c-.78.78-.78 2.05 0 2.83L4 21.41c.39.39.9.59 1.41.59.51 0 1.02-.2 1.41-.59l7.78-7.78 2.81-2.81c.8-.78.8-2.07 0-2.86zM5.41 20L4 18.59l7.72-7.72 1.47 1.35L5.41 20z\"/>\n",
              "  </svg>\n",
              "      </button>\n",
              "      \n",
              "  <style>\n",
              "    .colab-df-container {\n",
              "      display:flex;\n",
              "      flex-wrap:wrap;\n",
              "      gap: 12px;\n",
              "    }\n",
              "\n",
              "    .colab-df-convert {\n",
              "      background-color: #E8F0FE;\n",
              "      border: none;\n",
              "      border-radius: 50%;\n",
              "      cursor: pointer;\n",
              "      display: none;\n",
              "      fill: #1967D2;\n",
              "      height: 32px;\n",
              "      padding: 0 0 0 0;\n",
              "      width: 32px;\n",
              "    }\n",
              "\n",
              "    .colab-df-convert:hover {\n",
              "      background-color: #E2EBFA;\n",
              "      box-shadow: 0px 1px 2px rgba(60, 64, 67, 0.3), 0px 1px 3px 1px rgba(60, 64, 67, 0.15);\n",
              "      fill: #174EA6;\n",
              "    }\n",
              "\n",
              "    [theme=dark] .colab-df-convert {\n",
              "      background-color: #3B4455;\n",
              "      fill: #D2E3FC;\n",
              "    }\n",
              "\n",
              "    [theme=dark] .colab-df-convert:hover {\n",
              "      background-color: #434B5C;\n",
              "      box-shadow: 0px 1px 3px 1px rgba(0, 0, 0, 0.15);\n",
              "      filter: drop-shadow(0px 1px 2px rgba(0, 0, 0, 0.3));\n",
              "      fill: #FFFFFF;\n",
              "    }\n",
              "  </style>\n",
              "\n",
              "      <script>\n",
              "        const buttonEl =\n",
              "          document.querySelector('#df-bc11f9c0-6ebd-4678-bd2a-c1a1fd91ac54 button.colab-df-convert');\n",
              "        buttonEl.style.display =\n",
              "          google.colab.kernel.accessAllowed ? 'block' : 'none';\n",
              "\n",
              "        async function convertToInteractive(key) {\n",
              "          const element = document.querySelector('#df-bc11f9c0-6ebd-4678-bd2a-c1a1fd91ac54');\n",
              "          const dataTable =\n",
              "            await google.colab.kernel.invokeFunction('convertToInteractive',\n",
              "                                                     [key], {});\n",
              "          if (!dataTable) return;\n",
              "\n",
              "          const docLinkHtml = 'Like what you see? Visit the ' +\n",
              "            '<a target=\"_blank\" href=https://colab.research.google.com/notebooks/data_table.ipynb>data table notebook</a>'\n",
              "            + ' to learn more about interactive tables.';\n",
              "          element.innerHTML = '';\n",
              "          dataTable['output_type'] = 'display_data';\n",
              "          await google.colab.output.renderOutput(dataTable, element);\n",
              "          const docLink = document.createElement('div');\n",
              "          docLink.innerHTML = docLinkHtml;\n",
              "          element.appendChild(docLink);\n",
              "        }\n",
              "      </script>\n",
              "    </div>\n",
              "  </div>\n",
              "  "
            ]
          },
          "metadata": {},
          "execution_count": 6
        }
      ]
    },
    {
      "cell_type": "code",
      "source": [
        "df.columns = names"
      ],
      "metadata": {
        "id": "yobGdcKvQ5Sp"
      },
      "execution_count": null,
      "outputs": []
    },
    {
      "cell_type": "code",
      "source": [
        "df.info()"
      ],
      "metadata": {
        "colab": {
          "base_uri": "https://localhost:8080/"
        },
        "id": "F4zNOFVVCuwB",
        "outputId": "0c96abea-12d7-4b7b-c770-9df8ae8c05b4"
      },
      "execution_count": null,
      "outputs": [
        {
          "output_type": "stream",
          "name": "stdout",
          "text": [
            "<class 'pandas.core.frame.DataFrame'>\n",
            "RangeIndex: 768 entries, 0 to 767\n",
            "Data columns (total 9 columns):\n",
            " #   Column                                                                    Non-Null Count  Dtype  \n",
            "---  ------                                                                    --------------  -----  \n",
            " 0   Number of times pregnant                                                  768 non-null    int64  \n",
            " 1   Plasma glucose concentration a 2 hours in an oral glucose tolerance test  768 non-null    int64  \n",
            " 2   Diastolic blood pressure (mm Hg)                                          768 non-null    int64  \n",
            " 3   Triceps skin fold thickness (mm)                                          768 non-null    int64  \n",
            " 4   2-Hour serum insulin (mu U/ml)                                            768 non-null    int64  \n",
            " 5   Body mass index (weight in kg/(height in m)^2)                            768 non-null    float64\n",
            " 6   Diabetes pedigree function                                                768 non-null    float64\n",
            " 7   Age (years)                                                               768 non-null    int64  \n",
            " 8   Class variable (0 or 1)                                                   768 non-null    int64  \n",
            "dtypes: float64(2), int64(7)\n",
            "memory usage: 54.1 KB\n"
          ]
        }
      ]
    },
    {
      "cell_type": "code",
      "source": [
        "df.describe()"
      ],
      "metadata": {
        "colab": {
          "base_uri": "https://localhost:8080/",
          "height": 396
        },
        "id": "SbFsDm2LCuxx",
        "outputId": "540cea55-14bd-441f-c8cd-b2e5578baa48"
      },
      "execution_count": null,
      "outputs": [
        {
          "output_type": "execute_result",
          "data": {
            "text/plain": [
              "       Number of times pregnant  \\\n",
              "count                768.000000   \n",
              "mean                   3.845052   \n",
              "std                    3.369578   \n",
              "min                    0.000000   \n",
              "25%                    1.000000   \n",
              "50%                    3.000000   \n",
              "75%                    6.000000   \n",
              "max                   17.000000   \n",
              "\n",
              "       Plasma glucose concentration a 2 hours in an oral glucose tolerance test  \\\n",
              "count                                         768.000000                          \n",
              "mean                                          120.894531                          \n",
              "std                                            31.972618                          \n",
              "min                                             0.000000                          \n",
              "25%                                            99.000000                          \n",
              "50%                                           117.000000                          \n",
              "75%                                           140.250000                          \n",
              "max                                           199.000000                          \n",
              "\n",
              "       Diastolic blood pressure (mm Hg)  Triceps skin fold thickness (mm)  \\\n",
              "count                        768.000000                        768.000000   \n",
              "mean                          69.105469                         20.536458   \n",
              "std                           19.355807                         15.952218   \n",
              "min                            0.000000                          0.000000   \n",
              "25%                           62.000000                          0.000000   \n",
              "50%                           72.000000                         23.000000   \n",
              "75%                           80.000000                         32.000000   \n",
              "max                          122.000000                         99.000000   \n",
              "\n",
              "       2-Hour serum insulin (mu U/ml)  \\\n",
              "count                      768.000000   \n",
              "mean                        79.799479   \n",
              "std                        115.244002   \n",
              "min                          0.000000   \n",
              "25%                          0.000000   \n",
              "50%                         30.500000   \n",
              "75%                        127.250000   \n",
              "max                        846.000000   \n",
              "\n",
              "       Body mass index (weight in kg/(height in m)^2)  \\\n",
              "count                                      768.000000   \n",
              "mean                                        31.992578   \n",
              "std                                          7.884160   \n",
              "min                                          0.000000   \n",
              "25%                                         27.300000   \n",
              "50%                                         32.000000   \n",
              "75%                                         36.600000   \n",
              "max                                         67.100000   \n",
              "\n",
              "       Diabetes pedigree function  Age (years)  Class variable (0 or 1)  \n",
              "count                  768.000000   768.000000               768.000000  \n",
              "mean                     0.471876    33.240885                 0.348958  \n",
              "std                      0.331329    11.760232                 0.476951  \n",
              "min                      0.078000    21.000000                 0.000000  \n",
              "25%                      0.243750    24.000000                 0.000000  \n",
              "50%                      0.372500    29.000000                 0.000000  \n",
              "75%                      0.626250    41.000000                 1.000000  \n",
              "max                      2.420000    81.000000                 1.000000  "
            ],
            "text/html": [
              "\n",
              "  <div id=\"df-81f8e802-b065-4c45-aa71-f17af5bc19bf\">\n",
              "    <div class=\"colab-df-container\">\n",
              "      <div>\n",
              "<style scoped>\n",
              "    .dataframe tbody tr th:only-of-type {\n",
              "        vertical-align: middle;\n",
              "    }\n",
              "\n",
              "    .dataframe tbody tr th {\n",
              "        vertical-align: top;\n",
              "    }\n",
              "\n",
              "    .dataframe thead th {\n",
              "        text-align: right;\n",
              "    }\n",
              "</style>\n",
              "<table border=\"1\" class=\"dataframe\">\n",
              "  <thead>\n",
              "    <tr style=\"text-align: right;\">\n",
              "      <th></th>\n",
              "      <th>Number of times pregnant</th>\n",
              "      <th>Plasma glucose concentration a 2 hours in an oral glucose tolerance test</th>\n",
              "      <th>Diastolic blood pressure (mm Hg)</th>\n",
              "      <th>Triceps skin fold thickness (mm)</th>\n",
              "      <th>2-Hour serum insulin (mu U/ml)</th>\n",
              "      <th>Body mass index (weight in kg/(height in m)^2)</th>\n",
              "      <th>Diabetes pedigree function</th>\n",
              "      <th>Age (years)</th>\n",
              "      <th>Class variable (0 or 1)</th>\n",
              "    </tr>\n",
              "  </thead>\n",
              "  <tbody>\n",
              "    <tr>\n",
              "      <th>count</th>\n",
              "      <td>768.000000</td>\n",
              "      <td>768.000000</td>\n",
              "      <td>768.000000</td>\n",
              "      <td>768.000000</td>\n",
              "      <td>768.000000</td>\n",
              "      <td>768.000000</td>\n",
              "      <td>768.000000</td>\n",
              "      <td>768.000000</td>\n",
              "      <td>768.000000</td>\n",
              "    </tr>\n",
              "    <tr>\n",
              "      <th>mean</th>\n",
              "      <td>3.845052</td>\n",
              "      <td>120.894531</td>\n",
              "      <td>69.105469</td>\n",
              "      <td>20.536458</td>\n",
              "      <td>79.799479</td>\n",
              "      <td>31.992578</td>\n",
              "      <td>0.471876</td>\n",
              "      <td>33.240885</td>\n",
              "      <td>0.348958</td>\n",
              "    </tr>\n",
              "    <tr>\n",
              "      <th>std</th>\n",
              "      <td>3.369578</td>\n",
              "      <td>31.972618</td>\n",
              "      <td>19.355807</td>\n",
              "      <td>15.952218</td>\n",
              "      <td>115.244002</td>\n",
              "      <td>7.884160</td>\n",
              "      <td>0.331329</td>\n",
              "      <td>11.760232</td>\n",
              "      <td>0.476951</td>\n",
              "    </tr>\n",
              "    <tr>\n",
              "      <th>min</th>\n",
              "      <td>0.000000</td>\n",
              "      <td>0.000000</td>\n",
              "      <td>0.000000</td>\n",
              "      <td>0.000000</td>\n",
              "      <td>0.000000</td>\n",
              "      <td>0.000000</td>\n",
              "      <td>0.078000</td>\n",
              "      <td>21.000000</td>\n",
              "      <td>0.000000</td>\n",
              "    </tr>\n",
              "    <tr>\n",
              "      <th>25%</th>\n",
              "      <td>1.000000</td>\n",
              "      <td>99.000000</td>\n",
              "      <td>62.000000</td>\n",
              "      <td>0.000000</td>\n",
              "      <td>0.000000</td>\n",
              "      <td>27.300000</td>\n",
              "      <td>0.243750</td>\n",
              "      <td>24.000000</td>\n",
              "      <td>0.000000</td>\n",
              "    </tr>\n",
              "    <tr>\n",
              "      <th>50%</th>\n",
              "      <td>3.000000</td>\n",
              "      <td>117.000000</td>\n",
              "      <td>72.000000</td>\n",
              "      <td>23.000000</td>\n",
              "      <td>30.500000</td>\n",
              "      <td>32.000000</td>\n",
              "      <td>0.372500</td>\n",
              "      <td>29.000000</td>\n",
              "      <td>0.000000</td>\n",
              "    </tr>\n",
              "    <tr>\n",
              "      <th>75%</th>\n",
              "      <td>6.000000</td>\n",
              "      <td>140.250000</td>\n",
              "      <td>80.000000</td>\n",
              "      <td>32.000000</td>\n",
              "      <td>127.250000</td>\n",
              "      <td>36.600000</td>\n",
              "      <td>0.626250</td>\n",
              "      <td>41.000000</td>\n",
              "      <td>1.000000</td>\n",
              "    </tr>\n",
              "    <tr>\n",
              "      <th>max</th>\n",
              "      <td>17.000000</td>\n",
              "      <td>199.000000</td>\n",
              "      <td>122.000000</td>\n",
              "      <td>99.000000</td>\n",
              "      <td>846.000000</td>\n",
              "      <td>67.100000</td>\n",
              "      <td>2.420000</td>\n",
              "      <td>81.000000</td>\n",
              "      <td>1.000000</td>\n",
              "    </tr>\n",
              "  </tbody>\n",
              "</table>\n",
              "</div>\n",
              "      <button class=\"colab-df-convert\" onclick=\"convertToInteractive('df-81f8e802-b065-4c45-aa71-f17af5bc19bf')\"\n",
              "              title=\"Convert this dataframe to an interactive table.\"\n",
              "              style=\"display:none;\">\n",
              "        \n",
              "  <svg xmlns=\"http://www.w3.org/2000/svg\" height=\"24px\"viewBox=\"0 0 24 24\"\n",
              "       width=\"24px\">\n",
              "    <path d=\"M0 0h24v24H0V0z\" fill=\"none\"/>\n",
              "    <path d=\"M18.56 5.44l.94 2.06.94-2.06 2.06-.94-2.06-.94-.94-2.06-.94 2.06-2.06.94zm-11 1L8.5 8.5l.94-2.06 2.06-.94-2.06-.94L8.5 2.5l-.94 2.06-2.06.94zm10 10l.94 2.06.94-2.06 2.06-.94-2.06-.94-.94-2.06-.94 2.06-2.06.94z\"/><path d=\"M17.41 7.96l-1.37-1.37c-.4-.4-.92-.59-1.43-.59-.52 0-1.04.2-1.43.59L10.3 9.45l-7.72 7.72c-.78.78-.78 2.05 0 2.83L4 21.41c.39.39.9.59 1.41.59.51 0 1.02-.2 1.41-.59l7.78-7.78 2.81-2.81c.8-.78.8-2.07 0-2.86zM5.41 20L4 18.59l7.72-7.72 1.47 1.35L5.41 20z\"/>\n",
              "  </svg>\n",
              "      </button>\n",
              "      \n",
              "  <style>\n",
              "    .colab-df-container {\n",
              "      display:flex;\n",
              "      flex-wrap:wrap;\n",
              "      gap: 12px;\n",
              "    }\n",
              "\n",
              "    .colab-df-convert {\n",
              "      background-color: #E8F0FE;\n",
              "      border: none;\n",
              "      border-radius: 50%;\n",
              "      cursor: pointer;\n",
              "      display: none;\n",
              "      fill: #1967D2;\n",
              "      height: 32px;\n",
              "      padding: 0 0 0 0;\n",
              "      width: 32px;\n",
              "    }\n",
              "\n",
              "    .colab-df-convert:hover {\n",
              "      background-color: #E2EBFA;\n",
              "      box-shadow: 0px 1px 2px rgba(60, 64, 67, 0.3), 0px 1px 3px 1px rgba(60, 64, 67, 0.15);\n",
              "      fill: #174EA6;\n",
              "    }\n",
              "\n",
              "    [theme=dark] .colab-df-convert {\n",
              "      background-color: #3B4455;\n",
              "      fill: #D2E3FC;\n",
              "    }\n",
              "\n",
              "    [theme=dark] .colab-df-convert:hover {\n",
              "      background-color: #434B5C;\n",
              "      box-shadow: 0px 1px 3px 1px rgba(0, 0, 0, 0.15);\n",
              "      filter: drop-shadow(0px 1px 2px rgba(0, 0, 0, 0.3));\n",
              "      fill: #FFFFFF;\n",
              "    }\n",
              "  </style>\n",
              "\n",
              "      <script>\n",
              "        const buttonEl =\n",
              "          document.querySelector('#df-81f8e802-b065-4c45-aa71-f17af5bc19bf button.colab-df-convert');\n",
              "        buttonEl.style.display =\n",
              "          google.colab.kernel.accessAllowed ? 'block' : 'none';\n",
              "\n",
              "        async function convertToInteractive(key) {\n",
              "          const element = document.querySelector('#df-81f8e802-b065-4c45-aa71-f17af5bc19bf');\n",
              "          const dataTable =\n",
              "            await google.colab.kernel.invokeFunction('convertToInteractive',\n",
              "                                                     [key], {});\n",
              "          if (!dataTable) return;\n",
              "\n",
              "          const docLinkHtml = 'Like what you see? Visit the ' +\n",
              "            '<a target=\"_blank\" href=https://colab.research.google.com/notebooks/data_table.ipynb>data table notebook</a>'\n",
              "            + ' to learn more about interactive tables.';\n",
              "          element.innerHTML = '';\n",
              "          dataTable['output_type'] = 'display_data';\n",
              "          await google.colab.output.renderOutput(dataTable, element);\n",
              "          const docLink = document.createElement('div');\n",
              "          docLink.innerHTML = docLinkHtml;\n",
              "          element.appendChild(docLink);\n",
              "        }\n",
              "      </script>\n",
              "    </div>\n",
              "  </div>\n",
              "  "
            ]
          },
          "metadata": {},
          "execution_count": 9
        }
      ]
    },
    {
      "cell_type": "code",
      "source": [],
      "metadata": {
        "id": "yoRcCK4BG_c5"
      },
      "execution_count": null,
      "outputs": []
    },
    {
      "cell_type": "code",
      "source": [
        "df.isna()\n",
        "#to see the number of  missing values"
      ],
      "metadata": {
        "colab": {
          "base_uri": "https://localhost:8080/",
          "height": 520
        },
        "id": "g0VvPqaYCu09",
        "outputId": "72cbb34e-880a-48f7-b640-95642a56bf7c"
      },
      "execution_count": null,
      "outputs": [
        {
          "output_type": "execute_result",
          "data": {
            "text/plain": [
              "     Number of times pregnant  \\\n",
              "0                       False   \n",
              "1                       False   \n",
              "2                       False   \n",
              "3                       False   \n",
              "4                       False   \n",
              "..                        ...   \n",
              "763                     False   \n",
              "764                     False   \n",
              "765                     False   \n",
              "766                     False   \n",
              "767                     False   \n",
              "\n",
              "     Plasma glucose concentration a 2 hours in an oral glucose tolerance test  \\\n",
              "0                                                False                          \n",
              "1                                                False                          \n",
              "2                                                False                          \n",
              "3                                                False                          \n",
              "4                                                False                          \n",
              "..                                                 ...                          \n",
              "763                                              False                          \n",
              "764                                              False                          \n",
              "765                                              False                          \n",
              "766                                              False                          \n",
              "767                                              False                          \n",
              "\n",
              "     Diastolic blood pressure (mm Hg)  Triceps skin fold thickness (mm)  \\\n",
              "0                               False                             False   \n",
              "1                               False                             False   \n",
              "2                               False                             False   \n",
              "3                               False                             False   \n",
              "4                               False                             False   \n",
              "..                                ...                               ...   \n",
              "763                             False                             False   \n",
              "764                             False                             False   \n",
              "765                             False                             False   \n",
              "766                             False                             False   \n",
              "767                             False                             False   \n",
              "\n",
              "     2-Hour serum insulin (mu U/ml)  \\\n",
              "0                             False   \n",
              "1                             False   \n",
              "2                             False   \n",
              "3                             False   \n",
              "4                             False   \n",
              "..                              ...   \n",
              "763                           False   \n",
              "764                           False   \n",
              "765                           False   \n",
              "766                           False   \n",
              "767                           False   \n",
              "\n",
              "     Body mass index (weight in kg/(height in m)^2)  \\\n",
              "0                                             False   \n",
              "1                                             False   \n",
              "2                                             False   \n",
              "3                                             False   \n",
              "4                                             False   \n",
              "..                                              ...   \n",
              "763                                           False   \n",
              "764                                           False   \n",
              "765                                           False   \n",
              "766                                           False   \n",
              "767                                           False   \n",
              "\n",
              "     Diabetes pedigree function  Age (years)  Class variable (0 or 1)  \n",
              "0                         False        False                    False  \n",
              "1                         False        False                    False  \n",
              "2                         False        False                    False  \n",
              "3                         False        False                    False  \n",
              "4                         False        False                    False  \n",
              "..                          ...          ...                      ...  \n",
              "763                       False        False                    False  \n",
              "764                       False        False                    False  \n",
              "765                       False        False                    False  \n",
              "766                       False        False                    False  \n",
              "767                       False        False                    False  \n",
              "\n",
              "[768 rows x 9 columns]"
            ],
            "text/html": [
              "\n",
              "  <div id=\"df-6df3f5cf-a9a4-4a7e-bc56-965236dbf30c\">\n",
              "    <div class=\"colab-df-container\">\n",
              "      <div>\n",
              "<style scoped>\n",
              "    .dataframe tbody tr th:only-of-type {\n",
              "        vertical-align: middle;\n",
              "    }\n",
              "\n",
              "    .dataframe tbody tr th {\n",
              "        vertical-align: top;\n",
              "    }\n",
              "\n",
              "    .dataframe thead th {\n",
              "        text-align: right;\n",
              "    }\n",
              "</style>\n",
              "<table border=\"1\" class=\"dataframe\">\n",
              "  <thead>\n",
              "    <tr style=\"text-align: right;\">\n",
              "      <th></th>\n",
              "      <th>Number of times pregnant</th>\n",
              "      <th>Plasma glucose concentration a 2 hours in an oral glucose tolerance test</th>\n",
              "      <th>Diastolic blood pressure (mm Hg)</th>\n",
              "      <th>Triceps skin fold thickness (mm)</th>\n",
              "      <th>2-Hour serum insulin (mu U/ml)</th>\n",
              "      <th>Body mass index (weight in kg/(height in m)^2)</th>\n",
              "      <th>Diabetes pedigree function</th>\n",
              "      <th>Age (years)</th>\n",
              "      <th>Class variable (0 or 1)</th>\n",
              "    </tr>\n",
              "  </thead>\n",
              "  <tbody>\n",
              "    <tr>\n",
              "      <th>0</th>\n",
              "      <td>False</td>\n",
              "      <td>False</td>\n",
              "      <td>False</td>\n",
              "      <td>False</td>\n",
              "      <td>False</td>\n",
              "      <td>False</td>\n",
              "      <td>False</td>\n",
              "      <td>False</td>\n",
              "      <td>False</td>\n",
              "    </tr>\n",
              "    <tr>\n",
              "      <th>1</th>\n",
              "      <td>False</td>\n",
              "      <td>False</td>\n",
              "      <td>False</td>\n",
              "      <td>False</td>\n",
              "      <td>False</td>\n",
              "      <td>False</td>\n",
              "      <td>False</td>\n",
              "      <td>False</td>\n",
              "      <td>False</td>\n",
              "    </tr>\n",
              "    <tr>\n",
              "      <th>2</th>\n",
              "      <td>False</td>\n",
              "      <td>False</td>\n",
              "      <td>False</td>\n",
              "      <td>False</td>\n",
              "      <td>False</td>\n",
              "      <td>False</td>\n",
              "      <td>False</td>\n",
              "      <td>False</td>\n",
              "      <td>False</td>\n",
              "    </tr>\n",
              "    <tr>\n",
              "      <th>3</th>\n",
              "      <td>False</td>\n",
              "      <td>False</td>\n",
              "      <td>False</td>\n",
              "      <td>False</td>\n",
              "      <td>False</td>\n",
              "      <td>False</td>\n",
              "      <td>False</td>\n",
              "      <td>False</td>\n",
              "      <td>False</td>\n",
              "    </tr>\n",
              "    <tr>\n",
              "      <th>4</th>\n",
              "      <td>False</td>\n",
              "      <td>False</td>\n",
              "      <td>False</td>\n",
              "      <td>False</td>\n",
              "      <td>False</td>\n",
              "      <td>False</td>\n",
              "      <td>False</td>\n",
              "      <td>False</td>\n",
              "      <td>False</td>\n",
              "    </tr>\n",
              "    <tr>\n",
              "      <th>...</th>\n",
              "      <td>...</td>\n",
              "      <td>...</td>\n",
              "      <td>...</td>\n",
              "      <td>...</td>\n",
              "      <td>...</td>\n",
              "      <td>...</td>\n",
              "      <td>...</td>\n",
              "      <td>...</td>\n",
              "      <td>...</td>\n",
              "    </tr>\n",
              "    <tr>\n",
              "      <th>763</th>\n",
              "      <td>False</td>\n",
              "      <td>False</td>\n",
              "      <td>False</td>\n",
              "      <td>False</td>\n",
              "      <td>False</td>\n",
              "      <td>False</td>\n",
              "      <td>False</td>\n",
              "      <td>False</td>\n",
              "      <td>False</td>\n",
              "    </tr>\n",
              "    <tr>\n",
              "      <th>764</th>\n",
              "      <td>False</td>\n",
              "      <td>False</td>\n",
              "      <td>False</td>\n",
              "      <td>False</td>\n",
              "      <td>False</td>\n",
              "      <td>False</td>\n",
              "      <td>False</td>\n",
              "      <td>False</td>\n",
              "      <td>False</td>\n",
              "    </tr>\n",
              "    <tr>\n",
              "      <th>765</th>\n",
              "      <td>False</td>\n",
              "      <td>False</td>\n",
              "      <td>False</td>\n",
              "      <td>False</td>\n",
              "      <td>False</td>\n",
              "      <td>False</td>\n",
              "      <td>False</td>\n",
              "      <td>False</td>\n",
              "      <td>False</td>\n",
              "    </tr>\n",
              "    <tr>\n",
              "      <th>766</th>\n",
              "      <td>False</td>\n",
              "      <td>False</td>\n",
              "      <td>False</td>\n",
              "      <td>False</td>\n",
              "      <td>False</td>\n",
              "      <td>False</td>\n",
              "      <td>False</td>\n",
              "      <td>False</td>\n",
              "      <td>False</td>\n",
              "    </tr>\n",
              "    <tr>\n",
              "      <th>767</th>\n",
              "      <td>False</td>\n",
              "      <td>False</td>\n",
              "      <td>False</td>\n",
              "      <td>False</td>\n",
              "      <td>False</td>\n",
              "      <td>False</td>\n",
              "      <td>False</td>\n",
              "      <td>False</td>\n",
              "      <td>False</td>\n",
              "    </tr>\n",
              "  </tbody>\n",
              "</table>\n",
              "<p>768 rows × 9 columns</p>\n",
              "</div>\n",
              "      <button class=\"colab-df-convert\" onclick=\"convertToInteractive('df-6df3f5cf-a9a4-4a7e-bc56-965236dbf30c')\"\n",
              "              title=\"Convert this dataframe to an interactive table.\"\n",
              "              style=\"display:none;\">\n",
              "        \n",
              "  <svg xmlns=\"http://www.w3.org/2000/svg\" height=\"24px\"viewBox=\"0 0 24 24\"\n",
              "       width=\"24px\">\n",
              "    <path d=\"M0 0h24v24H0V0z\" fill=\"none\"/>\n",
              "    <path d=\"M18.56 5.44l.94 2.06.94-2.06 2.06-.94-2.06-.94-.94-2.06-.94 2.06-2.06.94zm-11 1L8.5 8.5l.94-2.06 2.06-.94-2.06-.94L8.5 2.5l-.94 2.06-2.06.94zm10 10l.94 2.06.94-2.06 2.06-.94-2.06-.94-.94-2.06-.94 2.06-2.06.94z\"/><path d=\"M17.41 7.96l-1.37-1.37c-.4-.4-.92-.59-1.43-.59-.52 0-1.04.2-1.43.59L10.3 9.45l-7.72 7.72c-.78.78-.78 2.05 0 2.83L4 21.41c.39.39.9.59 1.41.59.51 0 1.02-.2 1.41-.59l7.78-7.78 2.81-2.81c.8-.78.8-2.07 0-2.86zM5.41 20L4 18.59l7.72-7.72 1.47 1.35L5.41 20z\"/>\n",
              "  </svg>\n",
              "      </button>\n",
              "      \n",
              "  <style>\n",
              "    .colab-df-container {\n",
              "      display:flex;\n",
              "      flex-wrap:wrap;\n",
              "      gap: 12px;\n",
              "    }\n",
              "\n",
              "    .colab-df-convert {\n",
              "      background-color: #E8F0FE;\n",
              "      border: none;\n",
              "      border-radius: 50%;\n",
              "      cursor: pointer;\n",
              "      display: none;\n",
              "      fill: #1967D2;\n",
              "      height: 32px;\n",
              "      padding: 0 0 0 0;\n",
              "      width: 32px;\n",
              "    }\n",
              "\n",
              "    .colab-df-convert:hover {\n",
              "      background-color: #E2EBFA;\n",
              "      box-shadow: 0px 1px 2px rgba(60, 64, 67, 0.3), 0px 1px 3px 1px rgba(60, 64, 67, 0.15);\n",
              "      fill: #174EA6;\n",
              "    }\n",
              "\n",
              "    [theme=dark] .colab-df-convert {\n",
              "      background-color: #3B4455;\n",
              "      fill: #D2E3FC;\n",
              "    }\n",
              "\n",
              "    [theme=dark] .colab-df-convert:hover {\n",
              "      background-color: #434B5C;\n",
              "      box-shadow: 0px 1px 3px 1px rgba(0, 0, 0, 0.15);\n",
              "      filter: drop-shadow(0px 1px 2px rgba(0, 0, 0, 0.3));\n",
              "      fill: #FFFFFF;\n",
              "    }\n",
              "  </style>\n",
              "\n",
              "      <script>\n",
              "        const buttonEl =\n",
              "          document.querySelector('#df-6df3f5cf-a9a4-4a7e-bc56-965236dbf30c button.colab-df-convert');\n",
              "        buttonEl.style.display =\n",
              "          google.colab.kernel.accessAllowed ? 'block' : 'none';\n",
              "\n",
              "        async function convertToInteractive(key) {\n",
              "          const element = document.querySelector('#df-6df3f5cf-a9a4-4a7e-bc56-965236dbf30c');\n",
              "          const dataTable =\n",
              "            await google.colab.kernel.invokeFunction('convertToInteractive',\n",
              "                                                     [key], {});\n",
              "          if (!dataTable) return;\n",
              "\n",
              "          const docLinkHtml = 'Like what you see? Visit the ' +\n",
              "            '<a target=\"_blank\" href=https://colab.research.google.com/notebooks/data_table.ipynb>data table notebook</a>'\n",
              "            + ' to learn more about interactive tables.';\n",
              "          element.innerHTML = '';\n",
              "          dataTable['output_type'] = 'display_data';\n",
              "          await google.colab.output.renderOutput(dataTable, element);\n",
              "          const docLink = document.createElement('div');\n",
              "          docLink.innerHTML = docLinkHtml;\n",
              "          element.appendChild(docLink);\n",
              "        }\n",
              "      </script>\n",
              "    </div>\n",
              "  </div>\n",
              "  "
            ]
          },
          "metadata": {},
          "execution_count": 10
        }
      ]
    },
    {
      "cell_type": "code",
      "source": [
        "df.isna().sum()"
      ],
      "metadata": {
        "colab": {
          "base_uri": "https://localhost:8080/"
        },
        "id": "7AXBk6rqCu3B",
        "outputId": "0903e0e3-69c5-424b-c1c5-1fc5e5a35a98"
      },
      "execution_count": null,
      "outputs": [
        {
          "output_type": "execute_result",
          "data": {
            "text/plain": [
              "Number of times pregnant                                                    0\n",
              "Plasma glucose concentration a 2 hours in an oral glucose tolerance test    0\n",
              "Diastolic blood pressure (mm Hg)                                            0\n",
              "Triceps skin fold thickness (mm)                                            0\n",
              "2-Hour serum insulin (mu U/ml)                                              0\n",
              "Body mass index (weight in kg/(height in m)^2)                              0\n",
              "Diabetes pedigree function                                                  0\n",
              "Age (years)                                                                 0\n",
              "Class variable (0 or 1)                                                     0\n",
              "dtype: int64"
            ]
          },
          "metadata": {},
          "execution_count": 11
        }
      ]
    },
    {
      "cell_type": "code",
      "source": [
        "df.head()"
      ],
      "metadata": {
        "id": "WaMB2MZbCu5_",
        "colab": {
          "base_uri": "https://localhost:8080/",
          "height": 302
        },
        "outputId": "38a79402-3bfc-4cd1-eada-7b0006836b40"
      },
      "execution_count": null,
      "outputs": [
        {
          "output_type": "execute_result",
          "data": {
            "text/plain": [
              "   Number of times pregnant  \\\n",
              "0                         6   \n",
              "1                         1   \n",
              "2                         8   \n",
              "3                         1   \n",
              "4                         0   \n",
              "\n",
              "   Plasma glucose concentration a 2 hours in an oral glucose tolerance test  \\\n",
              "0                                                148                          \n",
              "1                                                 85                          \n",
              "2                                                183                          \n",
              "3                                                 89                          \n",
              "4                                                137                          \n",
              "\n",
              "   Diastolic blood pressure (mm Hg)  Triceps skin fold thickness (mm)  \\\n",
              "0                                72                                35   \n",
              "1                                66                                29   \n",
              "2                                64                                 0   \n",
              "3                                66                                23   \n",
              "4                                40                                35   \n",
              "\n",
              "   2-Hour serum insulin (mu U/ml)  \\\n",
              "0                               0   \n",
              "1                               0   \n",
              "2                               0   \n",
              "3                              94   \n",
              "4                             168   \n",
              "\n",
              "   Body mass index (weight in kg/(height in m)^2)  Diabetes pedigree function  \\\n",
              "0                                            33.6                       0.627   \n",
              "1                                            26.6                       0.351   \n",
              "2                                            23.3                       0.672   \n",
              "3                                            28.1                       0.167   \n",
              "4                                            43.1                       2.288   \n",
              "\n",
              "   Age (years)  Class variable (0 or 1)  \n",
              "0           50                        1  \n",
              "1           31                        0  \n",
              "2           32                        1  \n",
              "3           21                        0  \n",
              "4           33                        1  "
            ],
            "text/html": [
              "\n",
              "  <div id=\"df-65a60900-532b-48d6-b930-1cfde4c70c49\">\n",
              "    <div class=\"colab-df-container\">\n",
              "      <div>\n",
              "<style scoped>\n",
              "    .dataframe tbody tr th:only-of-type {\n",
              "        vertical-align: middle;\n",
              "    }\n",
              "\n",
              "    .dataframe tbody tr th {\n",
              "        vertical-align: top;\n",
              "    }\n",
              "\n",
              "    .dataframe thead th {\n",
              "        text-align: right;\n",
              "    }\n",
              "</style>\n",
              "<table border=\"1\" class=\"dataframe\">\n",
              "  <thead>\n",
              "    <tr style=\"text-align: right;\">\n",
              "      <th></th>\n",
              "      <th>Number of times pregnant</th>\n",
              "      <th>Plasma glucose concentration a 2 hours in an oral glucose tolerance test</th>\n",
              "      <th>Diastolic blood pressure (mm Hg)</th>\n",
              "      <th>Triceps skin fold thickness (mm)</th>\n",
              "      <th>2-Hour serum insulin (mu U/ml)</th>\n",
              "      <th>Body mass index (weight in kg/(height in m)^2)</th>\n",
              "      <th>Diabetes pedigree function</th>\n",
              "      <th>Age (years)</th>\n",
              "      <th>Class variable (0 or 1)</th>\n",
              "    </tr>\n",
              "  </thead>\n",
              "  <tbody>\n",
              "    <tr>\n",
              "      <th>0</th>\n",
              "      <td>6</td>\n",
              "      <td>148</td>\n",
              "      <td>72</td>\n",
              "      <td>35</td>\n",
              "      <td>0</td>\n",
              "      <td>33.6</td>\n",
              "      <td>0.627</td>\n",
              "      <td>50</td>\n",
              "      <td>1</td>\n",
              "    </tr>\n",
              "    <tr>\n",
              "      <th>1</th>\n",
              "      <td>1</td>\n",
              "      <td>85</td>\n",
              "      <td>66</td>\n",
              "      <td>29</td>\n",
              "      <td>0</td>\n",
              "      <td>26.6</td>\n",
              "      <td>0.351</td>\n",
              "      <td>31</td>\n",
              "      <td>0</td>\n",
              "    </tr>\n",
              "    <tr>\n",
              "      <th>2</th>\n",
              "      <td>8</td>\n",
              "      <td>183</td>\n",
              "      <td>64</td>\n",
              "      <td>0</td>\n",
              "      <td>0</td>\n",
              "      <td>23.3</td>\n",
              "      <td>0.672</td>\n",
              "      <td>32</td>\n",
              "      <td>1</td>\n",
              "    </tr>\n",
              "    <tr>\n",
              "      <th>3</th>\n",
              "      <td>1</td>\n",
              "      <td>89</td>\n",
              "      <td>66</td>\n",
              "      <td>23</td>\n",
              "      <td>94</td>\n",
              "      <td>28.1</td>\n",
              "      <td>0.167</td>\n",
              "      <td>21</td>\n",
              "      <td>0</td>\n",
              "    </tr>\n",
              "    <tr>\n",
              "      <th>4</th>\n",
              "      <td>0</td>\n",
              "      <td>137</td>\n",
              "      <td>40</td>\n",
              "      <td>35</td>\n",
              "      <td>168</td>\n",
              "      <td>43.1</td>\n",
              "      <td>2.288</td>\n",
              "      <td>33</td>\n",
              "      <td>1</td>\n",
              "    </tr>\n",
              "  </tbody>\n",
              "</table>\n",
              "</div>\n",
              "      <button class=\"colab-df-convert\" onclick=\"convertToInteractive('df-65a60900-532b-48d6-b930-1cfde4c70c49')\"\n",
              "              title=\"Convert this dataframe to an interactive table.\"\n",
              "              style=\"display:none;\">\n",
              "        \n",
              "  <svg xmlns=\"http://www.w3.org/2000/svg\" height=\"24px\"viewBox=\"0 0 24 24\"\n",
              "       width=\"24px\">\n",
              "    <path d=\"M0 0h24v24H0V0z\" fill=\"none\"/>\n",
              "    <path d=\"M18.56 5.44l.94 2.06.94-2.06 2.06-.94-2.06-.94-.94-2.06-.94 2.06-2.06.94zm-11 1L8.5 8.5l.94-2.06 2.06-.94-2.06-.94L8.5 2.5l-.94 2.06-2.06.94zm10 10l.94 2.06.94-2.06 2.06-.94-2.06-.94-.94-2.06-.94 2.06-2.06.94z\"/><path d=\"M17.41 7.96l-1.37-1.37c-.4-.4-.92-.59-1.43-.59-.52 0-1.04.2-1.43.59L10.3 9.45l-7.72 7.72c-.78.78-.78 2.05 0 2.83L4 21.41c.39.39.9.59 1.41.59.51 0 1.02-.2 1.41-.59l7.78-7.78 2.81-2.81c.8-.78.8-2.07 0-2.86zM5.41 20L4 18.59l7.72-7.72 1.47 1.35L5.41 20z\"/>\n",
              "  </svg>\n",
              "      </button>\n",
              "      \n",
              "  <style>\n",
              "    .colab-df-container {\n",
              "      display:flex;\n",
              "      flex-wrap:wrap;\n",
              "      gap: 12px;\n",
              "    }\n",
              "\n",
              "    .colab-df-convert {\n",
              "      background-color: #E8F0FE;\n",
              "      border: none;\n",
              "      border-radius: 50%;\n",
              "      cursor: pointer;\n",
              "      display: none;\n",
              "      fill: #1967D2;\n",
              "      height: 32px;\n",
              "      padding: 0 0 0 0;\n",
              "      width: 32px;\n",
              "    }\n",
              "\n",
              "    .colab-df-convert:hover {\n",
              "      background-color: #E2EBFA;\n",
              "      box-shadow: 0px 1px 2px rgba(60, 64, 67, 0.3), 0px 1px 3px 1px rgba(60, 64, 67, 0.15);\n",
              "      fill: #174EA6;\n",
              "    }\n",
              "\n",
              "    [theme=dark] .colab-df-convert {\n",
              "      background-color: #3B4455;\n",
              "      fill: #D2E3FC;\n",
              "    }\n",
              "\n",
              "    [theme=dark] .colab-df-convert:hover {\n",
              "      background-color: #434B5C;\n",
              "      box-shadow: 0px 1px 3px 1px rgba(0, 0, 0, 0.15);\n",
              "      filter: drop-shadow(0px 1px 2px rgba(0, 0, 0, 0.3));\n",
              "      fill: #FFFFFF;\n",
              "    }\n",
              "  </style>\n",
              "\n",
              "      <script>\n",
              "        const buttonEl =\n",
              "          document.querySelector('#df-65a60900-532b-48d6-b930-1cfde4c70c49 button.colab-df-convert');\n",
              "        buttonEl.style.display =\n",
              "          google.colab.kernel.accessAllowed ? 'block' : 'none';\n",
              "\n",
              "        async function convertToInteractive(key) {\n",
              "          const element = document.querySelector('#df-65a60900-532b-48d6-b930-1cfde4c70c49');\n",
              "          const dataTable =\n",
              "            await google.colab.kernel.invokeFunction('convertToInteractive',\n",
              "                                                     [key], {});\n",
              "          if (!dataTable) return;\n",
              "\n",
              "          const docLinkHtml = 'Like what you see? Visit the ' +\n",
              "            '<a target=\"_blank\" href=https://colab.research.google.com/notebooks/data_table.ipynb>data table notebook</a>'\n",
              "            + ' to learn more about interactive tables.';\n",
              "          element.innerHTML = '';\n",
              "          dataTable['output_type'] = 'display_data';\n",
              "          await google.colab.output.renderOutput(dataTable, element);\n",
              "          const docLink = document.createElement('div');\n",
              "          docLink.innerHTML = docLinkHtml;\n",
              "          element.appendChild(docLink);\n",
              "        }\n",
              "      </script>\n",
              "    </div>\n",
              "  </div>\n",
              "  "
            ]
          },
          "metadata": {},
          "execution_count": 12
        }
      ]
    },
    {
      "cell_type": "code",
      "source": [
        "#These columns has some 0 values which are not likely.So the zero values in these columns will be treated as missing values\n",
        "ColName = ['Plasma glucose concentration a 2 hours in an oral glucose tolerance test',\n",
        "         'Diastolic blood pressure (mm Hg)','Triceps skin fold thickness (mm)','2-Hour serum insulin (mu U/ml)',\n",
        "        'Body mass index (weight in kg/(height in m)^2)','Diabetes pedigree function']"
      ],
      "metadata": {
        "id": "_UYFbfT8CvFH"
      },
      "execution_count": null,
      "outputs": []
    },
    {
      "cell_type": "code",
      "source": [
        "df[ColName] = df [ColName].replace(0, np.nan)"
      ],
      "metadata": {
        "id": "YE05c_0TCvIt"
      },
      "execution_count": null,
      "outputs": []
    },
    {
      "cell_type": "code",
      "source": [
        "df.head()"
      ],
      "metadata": {
        "id": "2lh9K2tKCvKa",
        "colab": {
          "base_uri": "https://localhost:8080/",
          "height": 302
        },
        "outputId": "c57cae25-da48-4bfd-e753-dc6752f28d03"
      },
      "execution_count": null,
      "outputs": [
        {
          "output_type": "execute_result",
          "data": {
            "text/plain": [
              "   Number of times pregnant  \\\n",
              "0                         6   \n",
              "1                         1   \n",
              "2                         8   \n",
              "3                         1   \n",
              "4                         0   \n",
              "\n",
              "   Plasma glucose concentration a 2 hours in an oral glucose tolerance test  \\\n",
              "0                                              148.0                          \n",
              "1                                               85.0                          \n",
              "2                                              183.0                          \n",
              "3                                               89.0                          \n",
              "4                                              137.0                          \n",
              "\n",
              "   Diastolic blood pressure (mm Hg)  Triceps skin fold thickness (mm)  \\\n",
              "0                              72.0                              35.0   \n",
              "1                              66.0                              29.0   \n",
              "2                              64.0                               NaN   \n",
              "3                              66.0                              23.0   \n",
              "4                              40.0                              35.0   \n",
              "\n",
              "   2-Hour serum insulin (mu U/ml)  \\\n",
              "0                             NaN   \n",
              "1                             NaN   \n",
              "2                             NaN   \n",
              "3                            94.0   \n",
              "4                           168.0   \n",
              "\n",
              "   Body mass index (weight in kg/(height in m)^2)  Diabetes pedigree function  \\\n",
              "0                                            33.6                       0.627   \n",
              "1                                            26.6                       0.351   \n",
              "2                                            23.3                       0.672   \n",
              "3                                            28.1                       0.167   \n",
              "4                                            43.1                       2.288   \n",
              "\n",
              "   Age (years)  Class variable (0 or 1)  \n",
              "0           50                        1  \n",
              "1           31                        0  \n",
              "2           32                        1  \n",
              "3           21                        0  \n",
              "4           33                        1  "
            ],
            "text/html": [
              "\n",
              "  <div id=\"df-ae681131-9c4a-40f3-a980-6957f85bbdc7\">\n",
              "    <div class=\"colab-df-container\">\n",
              "      <div>\n",
              "<style scoped>\n",
              "    .dataframe tbody tr th:only-of-type {\n",
              "        vertical-align: middle;\n",
              "    }\n",
              "\n",
              "    .dataframe tbody tr th {\n",
              "        vertical-align: top;\n",
              "    }\n",
              "\n",
              "    .dataframe thead th {\n",
              "        text-align: right;\n",
              "    }\n",
              "</style>\n",
              "<table border=\"1\" class=\"dataframe\">\n",
              "  <thead>\n",
              "    <tr style=\"text-align: right;\">\n",
              "      <th></th>\n",
              "      <th>Number of times pregnant</th>\n",
              "      <th>Plasma glucose concentration a 2 hours in an oral glucose tolerance test</th>\n",
              "      <th>Diastolic blood pressure (mm Hg)</th>\n",
              "      <th>Triceps skin fold thickness (mm)</th>\n",
              "      <th>2-Hour serum insulin (mu U/ml)</th>\n",
              "      <th>Body mass index (weight in kg/(height in m)^2)</th>\n",
              "      <th>Diabetes pedigree function</th>\n",
              "      <th>Age (years)</th>\n",
              "      <th>Class variable (0 or 1)</th>\n",
              "    </tr>\n",
              "  </thead>\n",
              "  <tbody>\n",
              "    <tr>\n",
              "      <th>0</th>\n",
              "      <td>6</td>\n",
              "      <td>148.0</td>\n",
              "      <td>72.0</td>\n",
              "      <td>35.0</td>\n",
              "      <td>NaN</td>\n",
              "      <td>33.6</td>\n",
              "      <td>0.627</td>\n",
              "      <td>50</td>\n",
              "      <td>1</td>\n",
              "    </tr>\n",
              "    <tr>\n",
              "      <th>1</th>\n",
              "      <td>1</td>\n",
              "      <td>85.0</td>\n",
              "      <td>66.0</td>\n",
              "      <td>29.0</td>\n",
              "      <td>NaN</td>\n",
              "      <td>26.6</td>\n",
              "      <td>0.351</td>\n",
              "      <td>31</td>\n",
              "      <td>0</td>\n",
              "    </tr>\n",
              "    <tr>\n",
              "      <th>2</th>\n",
              "      <td>8</td>\n",
              "      <td>183.0</td>\n",
              "      <td>64.0</td>\n",
              "      <td>NaN</td>\n",
              "      <td>NaN</td>\n",
              "      <td>23.3</td>\n",
              "      <td>0.672</td>\n",
              "      <td>32</td>\n",
              "      <td>1</td>\n",
              "    </tr>\n",
              "    <tr>\n",
              "      <th>3</th>\n",
              "      <td>1</td>\n",
              "      <td>89.0</td>\n",
              "      <td>66.0</td>\n",
              "      <td>23.0</td>\n",
              "      <td>94.0</td>\n",
              "      <td>28.1</td>\n",
              "      <td>0.167</td>\n",
              "      <td>21</td>\n",
              "      <td>0</td>\n",
              "    </tr>\n",
              "    <tr>\n",
              "      <th>4</th>\n",
              "      <td>0</td>\n",
              "      <td>137.0</td>\n",
              "      <td>40.0</td>\n",
              "      <td>35.0</td>\n",
              "      <td>168.0</td>\n",
              "      <td>43.1</td>\n",
              "      <td>2.288</td>\n",
              "      <td>33</td>\n",
              "      <td>1</td>\n",
              "    </tr>\n",
              "  </tbody>\n",
              "</table>\n",
              "</div>\n",
              "      <button class=\"colab-df-convert\" onclick=\"convertToInteractive('df-ae681131-9c4a-40f3-a980-6957f85bbdc7')\"\n",
              "              title=\"Convert this dataframe to an interactive table.\"\n",
              "              style=\"display:none;\">\n",
              "        \n",
              "  <svg xmlns=\"http://www.w3.org/2000/svg\" height=\"24px\"viewBox=\"0 0 24 24\"\n",
              "       width=\"24px\">\n",
              "    <path d=\"M0 0h24v24H0V0z\" fill=\"none\"/>\n",
              "    <path d=\"M18.56 5.44l.94 2.06.94-2.06 2.06-.94-2.06-.94-.94-2.06-.94 2.06-2.06.94zm-11 1L8.5 8.5l.94-2.06 2.06-.94-2.06-.94L8.5 2.5l-.94 2.06-2.06.94zm10 10l.94 2.06.94-2.06 2.06-.94-2.06-.94-.94-2.06-.94 2.06-2.06.94z\"/><path d=\"M17.41 7.96l-1.37-1.37c-.4-.4-.92-.59-1.43-.59-.52 0-1.04.2-1.43.59L10.3 9.45l-7.72 7.72c-.78.78-.78 2.05 0 2.83L4 21.41c.39.39.9.59 1.41.59.51 0 1.02-.2 1.41-.59l7.78-7.78 2.81-2.81c.8-.78.8-2.07 0-2.86zM5.41 20L4 18.59l7.72-7.72 1.47 1.35L5.41 20z\"/>\n",
              "  </svg>\n",
              "      </button>\n",
              "      \n",
              "  <style>\n",
              "    .colab-df-container {\n",
              "      display:flex;\n",
              "      flex-wrap:wrap;\n",
              "      gap: 12px;\n",
              "    }\n",
              "\n",
              "    .colab-df-convert {\n",
              "      background-color: #E8F0FE;\n",
              "      border: none;\n",
              "      border-radius: 50%;\n",
              "      cursor: pointer;\n",
              "      display: none;\n",
              "      fill: #1967D2;\n",
              "      height: 32px;\n",
              "      padding: 0 0 0 0;\n",
              "      width: 32px;\n",
              "    }\n",
              "\n",
              "    .colab-df-convert:hover {\n",
              "      background-color: #E2EBFA;\n",
              "      box-shadow: 0px 1px 2px rgba(60, 64, 67, 0.3), 0px 1px 3px 1px rgba(60, 64, 67, 0.15);\n",
              "      fill: #174EA6;\n",
              "    }\n",
              "\n",
              "    [theme=dark] .colab-df-convert {\n",
              "      background-color: #3B4455;\n",
              "      fill: #D2E3FC;\n",
              "    }\n",
              "\n",
              "    [theme=dark] .colab-df-convert:hover {\n",
              "      background-color: #434B5C;\n",
              "      box-shadow: 0px 1px 3px 1px rgba(0, 0, 0, 0.15);\n",
              "      filter: drop-shadow(0px 1px 2px rgba(0, 0, 0, 0.3));\n",
              "      fill: #FFFFFF;\n",
              "    }\n",
              "  </style>\n",
              "\n",
              "      <script>\n",
              "        const buttonEl =\n",
              "          document.querySelector('#df-ae681131-9c4a-40f3-a980-6957f85bbdc7 button.colab-df-convert');\n",
              "        buttonEl.style.display =\n",
              "          google.colab.kernel.accessAllowed ? 'block' : 'none';\n",
              "\n",
              "        async function convertToInteractive(key) {\n",
              "          const element = document.querySelector('#df-ae681131-9c4a-40f3-a980-6957f85bbdc7');\n",
              "          const dataTable =\n",
              "            await google.colab.kernel.invokeFunction('convertToInteractive',\n",
              "                                                     [key], {});\n",
              "          if (!dataTable) return;\n",
              "\n",
              "          const docLinkHtml = 'Like what you see? Visit the ' +\n",
              "            '<a target=\"_blank\" href=https://colab.research.google.com/notebooks/data_table.ipynb>data table notebook</a>'\n",
              "            + ' to learn more about interactive tables.';\n",
              "          element.innerHTML = '';\n",
              "          dataTable['output_type'] = 'display_data';\n",
              "          await google.colab.output.renderOutput(dataTable, element);\n",
              "          const docLink = document.createElement('div');\n",
              "          docLink.innerHTML = docLinkHtml;\n",
              "          element.appendChild(docLink);\n",
              "        }\n",
              "      </script>\n",
              "    </div>\n",
              "  </div>\n",
              "  "
            ]
          },
          "metadata": {},
          "execution_count": 15
        }
      ]
    },
    {
      "cell_type": "code",
      "source": [
        "df.head()"
      ],
      "metadata": {
        "colab": {
          "base_uri": "https://localhost:8080/",
          "height": 302
        },
        "id": "NxTk4jtentdj",
        "outputId": "d90a3fda-cd55-45e6-9eac-78c11299f332"
      },
      "execution_count": null,
      "outputs": [
        {
          "output_type": "execute_result",
          "data": {
            "text/plain": [
              "   Number of times pregnant  \\\n",
              "0                         6   \n",
              "1                         1   \n",
              "2                         8   \n",
              "3                         1   \n",
              "4                         0   \n",
              "\n",
              "   Plasma glucose concentration a 2 hours in an oral glucose tolerance test  \\\n",
              "0                                              148.0                          \n",
              "1                                               85.0                          \n",
              "2                                              183.0                          \n",
              "3                                               89.0                          \n",
              "4                                              137.0                          \n",
              "\n",
              "   Diastolic blood pressure (mm Hg)  Triceps skin fold thickness (mm)  \\\n",
              "0                              72.0                              35.0   \n",
              "1                              66.0                              29.0   \n",
              "2                              64.0                               NaN   \n",
              "3                              66.0                              23.0   \n",
              "4                              40.0                              35.0   \n",
              "\n",
              "   2-Hour serum insulin (mu U/ml)  \\\n",
              "0                             NaN   \n",
              "1                             NaN   \n",
              "2                             NaN   \n",
              "3                            94.0   \n",
              "4                           168.0   \n",
              "\n",
              "   Body mass index (weight in kg/(height in m)^2)  Diabetes pedigree function  \\\n",
              "0                                            33.6                       0.627   \n",
              "1                                            26.6                       0.351   \n",
              "2                                            23.3                       0.672   \n",
              "3                                            28.1                       0.167   \n",
              "4                                            43.1                       2.288   \n",
              "\n",
              "   Age (years)  Class variable (0 or 1)  \n",
              "0           50                        1  \n",
              "1           31                        0  \n",
              "2           32                        1  \n",
              "3           21                        0  \n",
              "4           33                        1  "
            ],
            "text/html": [
              "\n",
              "  <div id=\"df-ba9a86f4-b66c-4a8b-b784-7dd9f80dd307\">\n",
              "    <div class=\"colab-df-container\">\n",
              "      <div>\n",
              "<style scoped>\n",
              "    .dataframe tbody tr th:only-of-type {\n",
              "        vertical-align: middle;\n",
              "    }\n",
              "\n",
              "    .dataframe tbody tr th {\n",
              "        vertical-align: top;\n",
              "    }\n",
              "\n",
              "    .dataframe thead th {\n",
              "        text-align: right;\n",
              "    }\n",
              "</style>\n",
              "<table border=\"1\" class=\"dataframe\">\n",
              "  <thead>\n",
              "    <tr style=\"text-align: right;\">\n",
              "      <th></th>\n",
              "      <th>Number of times pregnant</th>\n",
              "      <th>Plasma glucose concentration a 2 hours in an oral glucose tolerance test</th>\n",
              "      <th>Diastolic blood pressure (mm Hg)</th>\n",
              "      <th>Triceps skin fold thickness (mm)</th>\n",
              "      <th>2-Hour serum insulin (mu U/ml)</th>\n",
              "      <th>Body mass index (weight in kg/(height in m)^2)</th>\n",
              "      <th>Diabetes pedigree function</th>\n",
              "      <th>Age (years)</th>\n",
              "      <th>Class variable (0 or 1)</th>\n",
              "    </tr>\n",
              "  </thead>\n",
              "  <tbody>\n",
              "    <tr>\n",
              "      <th>0</th>\n",
              "      <td>6</td>\n",
              "      <td>148.0</td>\n",
              "      <td>72.0</td>\n",
              "      <td>35.0</td>\n",
              "      <td>NaN</td>\n",
              "      <td>33.6</td>\n",
              "      <td>0.627</td>\n",
              "      <td>50</td>\n",
              "      <td>1</td>\n",
              "    </tr>\n",
              "    <tr>\n",
              "      <th>1</th>\n",
              "      <td>1</td>\n",
              "      <td>85.0</td>\n",
              "      <td>66.0</td>\n",
              "      <td>29.0</td>\n",
              "      <td>NaN</td>\n",
              "      <td>26.6</td>\n",
              "      <td>0.351</td>\n",
              "      <td>31</td>\n",
              "      <td>0</td>\n",
              "    </tr>\n",
              "    <tr>\n",
              "      <th>2</th>\n",
              "      <td>8</td>\n",
              "      <td>183.0</td>\n",
              "      <td>64.0</td>\n",
              "      <td>NaN</td>\n",
              "      <td>NaN</td>\n",
              "      <td>23.3</td>\n",
              "      <td>0.672</td>\n",
              "      <td>32</td>\n",
              "      <td>1</td>\n",
              "    </tr>\n",
              "    <tr>\n",
              "      <th>3</th>\n",
              "      <td>1</td>\n",
              "      <td>89.0</td>\n",
              "      <td>66.0</td>\n",
              "      <td>23.0</td>\n",
              "      <td>94.0</td>\n",
              "      <td>28.1</td>\n",
              "      <td>0.167</td>\n",
              "      <td>21</td>\n",
              "      <td>0</td>\n",
              "    </tr>\n",
              "    <tr>\n",
              "      <th>4</th>\n",
              "      <td>0</td>\n",
              "      <td>137.0</td>\n",
              "      <td>40.0</td>\n",
              "      <td>35.0</td>\n",
              "      <td>168.0</td>\n",
              "      <td>43.1</td>\n",
              "      <td>2.288</td>\n",
              "      <td>33</td>\n",
              "      <td>1</td>\n",
              "    </tr>\n",
              "  </tbody>\n",
              "</table>\n",
              "</div>\n",
              "      <button class=\"colab-df-convert\" onclick=\"convertToInteractive('df-ba9a86f4-b66c-4a8b-b784-7dd9f80dd307')\"\n",
              "              title=\"Convert this dataframe to an interactive table.\"\n",
              "              style=\"display:none;\">\n",
              "        \n",
              "  <svg xmlns=\"http://www.w3.org/2000/svg\" height=\"24px\"viewBox=\"0 0 24 24\"\n",
              "       width=\"24px\">\n",
              "    <path d=\"M0 0h24v24H0V0z\" fill=\"none\"/>\n",
              "    <path d=\"M18.56 5.44l.94 2.06.94-2.06 2.06-.94-2.06-.94-.94-2.06-.94 2.06-2.06.94zm-11 1L8.5 8.5l.94-2.06 2.06-.94-2.06-.94L8.5 2.5l-.94 2.06-2.06.94zm10 10l.94 2.06.94-2.06 2.06-.94-2.06-.94-.94-2.06-.94 2.06-2.06.94z\"/><path d=\"M17.41 7.96l-1.37-1.37c-.4-.4-.92-.59-1.43-.59-.52 0-1.04.2-1.43.59L10.3 9.45l-7.72 7.72c-.78.78-.78 2.05 0 2.83L4 21.41c.39.39.9.59 1.41.59.51 0 1.02-.2 1.41-.59l7.78-7.78 2.81-2.81c.8-.78.8-2.07 0-2.86zM5.41 20L4 18.59l7.72-7.72 1.47 1.35L5.41 20z\"/>\n",
              "  </svg>\n",
              "      </button>\n",
              "      \n",
              "  <style>\n",
              "    .colab-df-container {\n",
              "      display:flex;\n",
              "      flex-wrap:wrap;\n",
              "      gap: 12px;\n",
              "    }\n",
              "\n",
              "    .colab-df-convert {\n",
              "      background-color: #E8F0FE;\n",
              "      border: none;\n",
              "      border-radius: 50%;\n",
              "      cursor: pointer;\n",
              "      display: none;\n",
              "      fill: #1967D2;\n",
              "      height: 32px;\n",
              "      padding: 0 0 0 0;\n",
              "      width: 32px;\n",
              "    }\n",
              "\n",
              "    .colab-df-convert:hover {\n",
              "      background-color: #E2EBFA;\n",
              "      box-shadow: 0px 1px 2px rgba(60, 64, 67, 0.3), 0px 1px 3px 1px rgba(60, 64, 67, 0.15);\n",
              "      fill: #174EA6;\n",
              "    }\n",
              "\n",
              "    [theme=dark] .colab-df-convert {\n",
              "      background-color: #3B4455;\n",
              "      fill: #D2E3FC;\n",
              "    }\n",
              "\n",
              "    [theme=dark] .colab-df-convert:hover {\n",
              "      background-color: #434B5C;\n",
              "      box-shadow: 0px 1px 3px 1px rgba(0, 0, 0, 0.15);\n",
              "      filter: drop-shadow(0px 1px 2px rgba(0, 0, 0, 0.3));\n",
              "      fill: #FFFFFF;\n",
              "    }\n",
              "  </style>\n",
              "\n",
              "      <script>\n",
              "        const buttonEl =\n",
              "          document.querySelector('#df-ba9a86f4-b66c-4a8b-b784-7dd9f80dd307 button.colab-df-convert');\n",
              "        buttonEl.style.display =\n",
              "          google.colab.kernel.accessAllowed ? 'block' : 'none';\n",
              "\n",
              "        async function convertToInteractive(key) {\n",
              "          const element = document.querySelector('#df-ba9a86f4-b66c-4a8b-b784-7dd9f80dd307');\n",
              "          const dataTable =\n",
              "            await google.colab.kernel.invokeFunction('convertToInteractive',\n",
              "                                                     [key], {});\n",
              "          if (!dataTable) return;\n",
              "\n",
              "          const docLinkHtml = 'Like what you see? Visit the ' +\n",
              "            '<a target=\"_blank\" href=https://colab.research.google.com/notebooks/data_table.ipynb>data table notebook</a>'\n",
              "            + ' to learn more about interactive tables.';\n",
              "          element.innerHTML = '';\n",
              "          dataTable['output_type'] = 'display_data';\n",
              "          await google.colab.output.renderOutput(dataTable, element);\n",
              "          const docLink = document.createElement('div');\n",
              "          docLink.innerHTML = docLinkHtml;\n",
              "          element.appendChild(docLink);\n",
              "        }\n",
              "      </script>\n",
              "    </div>\n",
              "  </div>\n",
              "  "
            ]
          },
          "metadata": {},
          "execution_count": 16
        }
      ]
    },
    {
      "cell_type": "code",
      "source": [],
      "metadata": {
        "id": "qnDqsmUgtd4W"
      },
      "execution_count": null,
      "outputs": []
    },
    {
      "cell_type": "code",
      "source": [
        "# we have replaced the zero (0) values in specific columns in the dataset with nan. This is because the zero actually suggest empty.\n",
        "# Only the number of times pregnant and the class tarributes are left to still have zero"
      ],
      "metadata": {
        "id": "S7Tkb_ObCvNq"
      },
      "execution_count": null,
      "outputs": []
    },
    {
      "cell_type": "code",
      "source": [
        "#To rename the column names so that we can reduce the keystrokes\n",
        "\n",
        "df.rename(columns = {'Number of times pregnant':'Pregnant','Plasma glucose concentration a 2 hours in an oral glucose tolerance test':'Glucose',\n",
        "         'Diastolic blood pressure (mm Hg)':'BP','Triceps skin fold thickness (mm)':'Skin_Thickness','2-Hour serum insulin (mu U/ml)':'Serum_Insulin',\n",
        "        'Body mass index (weight in kg/(height in m)^2)':'BMI','Diabetes pedigree function':'Diabetes','Age (years)':'Age',\n",
        "        'Class variable (0 or 1)':'Result'}, inplace=True)"
      ],
      "metadata": {
        "id": "YdOIHgAaARml"
      },
      "execution_count": null,
      "outputs": []
    },
    {
      "cell_type": "code",
      "source": [
        "df.head()"
      ],
      "metadata": {
        "id": "iEP1fgtsCvX-",
        "colab": {
          "base_uri": "https://localhost:8080/",
          "height": 206
        },
        "outputId": "b040aaea-fee5-48bf-ad24-24a478f6189c"
      },
      "execution_count": null,
      "outputs": [
        {
          "output_type": "execute_result",
          "data": {
            "text/plain": [
              "   Pregnant  Glucose    BP  Skin_Thickness  Serum_Insulin   BMI  Diabetes  \\\n",
              "0         6    148.0  72.0            35.0            NaN  33.6     0.627   \n",
              "1         1     85.0  66.0            29.0            NaN  26.6     0.351   \n",
              "2         8    183.0  64.0             NaN            NaN  23.3     0.672   \n",
              "3         1     89.0  66.0            23.0           94.0  28.1     0.167   \n",
              "4         0    137.0  40.0            35.0          168.0  43.1     2.288   \n",
              "\n",
              "   Age  Result  \n",
              "0   50       1  \n",
              "1   31       0  \n",
              "2   32       1  \n",
              "3   21       0  \n",
              "4   33       1  "
            ],
            "text/html": [
              "\n",
              "  <div id=\"df-2cf8eaf8-6b39-4021-b954-ce8db1a2b202\">\n",
              "    <div class=\"colab-df-container\">\n",
              "      <div>\n",
              "<style scoped>\n",
              "    .dataframe tbody tr th:only-of-type {\n",
              "        vertical-align: middle;\n",
              "    }\n",
              "\n",
              "    .dataframe tbody tr th {\n",
              "        vertical-align: top;\n",
              "    }\n",
              "\n",
              "    .dataframe thead th {\n",
              "        text-align: right;\n",
              "    }\n",
              "</style>\n",
              "<table border=\"1\" class=\"dataframe\">\n",
              "  <thead>\n",
              "    <tr style=\"text-align: right;\">\n",
              "      <th></th>\n",
              "      <th>Pregnant</th>\n",
              "      <th>Glucose</th>\n",
              "      <th>BP</th>\n",
              "      <th>Skin_Thickness</th>\n",
              "      <th>Serum_Insulin</th>\n",
              "      <th>BMI</th>\n",
              "      <th>Diabetes</th>\n",
              "      <th>Age</th>\n",
              "      <th>Result</th>\n",
              "    </tr>\n",
              "  </thead>\n",
              "  <tbody>\n",
              "    <tr>\n",
              "      <th>0</th>\n",
              "      <td>6</td>\n",
              "      <td>148.0</td>\n",
              "      <td>72.0</td>\n",
              "      <td>35.0</td>\n",
              "      <td>NaN</td>\n",
              "      <td>33.6</td>\n",
              "      <td>0.627</td>\n",
              "      <td>50</td>\n",
              "      <td>1</td>\n",
              "    </tr>\n",
              "    <tr>\n",
              "      <th>1</th>\n",
              "      <td>1</td>\n",
              "      <td>85.0</td>\n",
              "      <td>66.0</td>\n",
              "      <td>29.0</td>\n",
              "      <td>NaN</td>\n",
              "      <td>26.6</td>\n",
              "      <td>0.351</td>\n",
              "      <td>31</td>\n",
              "      <td>0</td>\n",
              "    </tr>\n",
              "    <tr>\n",
              "      <th>2</th>\n",
              "      <td>8</td>\n",
              "      <td>183.0</td>\n",
              "      <td>64.0</td>\n",
              "      <td>NaN</td>\n",
              "      <td>NaN</td>\n",
              "      <td>23.3</td>\n",
              "      <td>0.672</td>\n",
              "      <td>32</td>\n",
              "      <td>1</td>\n",
              "    </tr>\n",
              "    <tr>\n",
              "      <th>3</th>\n",
              "      <td>1</td>\n",
              "      <td>89.0</td>\n",
              "      <td>66.0</td>\n",
              "      <td>23.0</td>\n",
              "      <td>94.0</td>\n",
              "      <td>28.1</td>\n",
              "      <td>0.167</td>\n",
              "      <td>21</td>\n",
              "      <td>0</td>\n",
              "    </tr>\n",
              "    <tr>\n",
              "      <th>4</th>\n",
              "      <td>0</td>\n",
              "      <td>137.0</td>\n",
              "      <td>40.0</td>\n",
              "      <td>35.0</td>\n",
              "      <td>168.0</td>\n",
              "      <td>43.1</td>\n",
              "      <td>2.288</td>\n",
              "      <td>33</td>\n",
              "      <td>1</td>\n",
              "    </tr>\n",
              "  </tbody>\n",
              "</table>\n",
              "</div>\n",
              "      <button class=\"colab-df-convert\" onclick=\"convertToInteractive('df-2cf8eaf8-6b39-4021-b954-ce8db1a2b202')\"\n",
              "              title=\"Convert this dataframe to an interactive table.\"\n",
              "              style=\"display:none;\">\n",
              "        \n",
              "  <svg xmlns=\"http://www.w3.org/2000/svg\" height=\"24px\"viewBox=\"0 0 24 24\"\n",
              "       width=\"24px\">\n",
              "    <path d=\"M0 0h24v24H0V0z\" fill=\"none\"/>\n",
              "    <path d=\"M18.56 5.44l.94 2.06.94-2.06 2.06-.94-2.06-.94-.94-2.06-.94 2.06-2.06.94zm-11 1L8.5 8.5l.94-2.06 2.06-.94-2.06-.94L8.5 2.5l-.94 2.06-2.06.94zm10 10l.94 2.06.94-2.06 2.06-.94-2.06-.94-.94-2.06-.94 2.06-2.06.94z\"/><path d=\"M17.41 7.96l-1.37-1.37c-.4-.4-.92-.59-1.43-.59-.52 0-1.04.2-1.43.59L10.3 9.45l-7.72 7.72c-.78.78-.78 2.05 0 2.83L4 21.41c.39.39.9.59 1.41.59.51 0 1.02-.2 1.41-.59l7.78-7.78 2.81-2.81c.8-.78.8-2.07 0-2.86zM5.41 20L4 18.59l7.72-7.72 1.47 1.35L5.41 20z\"/>\n",
              "  </svg>\n",
              "      </button>\n",
              "      \n",
              "  <style>\n",
              "    .colab-df-container {\n",
              "      display:flex;\n",
              "      flex-wrap:wrap;\n",
              "      gap: 12px;\n",
              "    }\n",
              "\n",
              "    .colab-df-convert {\n",
              "      background-color: #E8F0FE;\n",
              "      border: none;\n",
              "      border-radius: 50%;\n",
              "      cursor: pointer;\n",
              "      display: none;\n",
              "      fill: #1967D2;\n",
              "      height: 32px;\n",
              "      padding: 0 0 0 0;\n",
              "      width: 32px;\n",
              "    }\n",
              "\n",
              "    .colab-df-convert:hover {\n",
              "      background-color: #E2EBFA;\n",
              "      box-shadow: 0px 1px 2px rgba(60, 64, 67, 0.3), 0px 1px 3px 1px rgba(60, 64, 67, 0.15);\n",
              "      fill: #174EA6;\n",
              "    }\n",
              "\n",
              "    [theme=dark] .colab-df-convert {\n",
              "      background-color: #3B4455;\n",
              "      fill: #D2E3FC;\n",
              "    }\n",
              "\n",
              "    [theme=dark] .colab-df-convert:hover {\n",
              "      background-color: #434B5C;\n",
              "      box-shadow: 0px 1px 3px 1px rgba(0, 0, 0, 0.15);\n",
              "      filter: drop-shadow(0px 1px 2px rgba(0, 0, 0, 0.3));\n",
              "      fill: #FFFFFF;\n",
              "    }\n",
              "  </style>\n",
              "\n",
              "      <script>\n",
              "        const buttonEl =\n",
              "          document.querySelector('#df-2cf8eaf8-6b39-4021-b954-ce8db1a2b202 button.colab-df-convert');\n",
              "        buttonEl.style.display =\n",
              "          google.colab.kernel.accessAllowed ? 'block' : 'none';\n",
              "\n",
              "        async function convertToInteractive(key) {\n",
              "          const element = document.querySelector('#df-2cf8eaf8-6b39-4021-b954-ce8db1a2b202');\n",
              "          const dataTable =\n",
              "            await google.colab.kernel.invokeFunction('convertToInteractive',\n",
              "                                                     [key], {});\n",
              "          if (!dataTable) return;\n",
              "\n",
              "          const docLinkHtml = 'Like what you see? Visit the ' +\n",
              "            '<a target=\"_blank\" href=https://colab.research.google.com/notebooks/data_table.ipynb>data table notebook</a>'\n",
              "            + ' to learn more about interactive tables.';\n",
              "          element.innerHTML = '';\n",
              "          dataTable['output_type'] = 'display_data';\n",
              "          await google.colab.output.renderOutput(dataTable, element);\n",
              "          const docLink = document.createElement('div');\n",
              "          docLink.innerHTML = docLinkHtml;\n",
              "          element.appendChild(docLink);\n",
              "        }\n",
              "      </script>\n",
              "    </div>\n",
              "  </div>\n",
              "  "
            ]
          },
          "metadata": {},
          "execution_count": 18
        }
      ]
    },
    {
      "cell_type": "code",
      "source": [
        "df.isna().sum()"
      ],
      "metadata": {
        "id": "C3KIm4enCvZa",
        "colab": {
          "base_uri": "https://localhost:8080/"
        },
        "outputId": "f005e19e-6bde-4fa8-e12a-0563e1fb8457"
      },
      "execution_count": null,
      "outputs": [
        {
          "output_type": "execute_result",
          "data": {
            "text/plain": [
              "Pregnant            0\n",
              "Glucose             5\n",
              "BP                 35\n",
              "Skin_Thickness    227\n",
              "Serum_Insulin     374\n",
              "BMI                11\n",
              "Diabetes            0\n",
              "Age                 0\n",
              "Result              0\n",
              "dtype: int64"
            ]
          },
          "metadata": {},
          "execution_count": 19
        }
      ]
    },
    {
      "cell_type": "code",
      "source": [
        "df.duplicated()"
      ],
      "metadata": {
        "colab": {
          "base_uri": "https://localhost:8080/"
        },
        "id": "XVy9BEjxeXLQ",
        "outputId": "275042a3-7752-4a5e-c108-6ee1e2f786db"
      },
      "execution_count": null,
      "outputs": [
        {
          "output_type": "execute_result",
          "data": {
            "text/plain": [
              "0      False\n",
              "1      False\n",
              "2      False\n",
              "3      False\n",
              "4      False\n",
              "       ...  \n",
              "763    False\n",
              "764    False\n",
              "765    False\n",
              "766    False\n",
              "767    False\n",
              "Length: 768, dtype: bool"
            ]
          },
          "metadata": {},
          "execution_count": 20
        }
      ]
    },
    {
      "cell_type": "code",
      "source": [
        "# we can pass the result of the df.duplicated into a set to see if there is any instance of True\n",
        "set(df.duplicated())"
      ],
      "metadata": {
        "colab": {
          "base_uri": "https://localhost:8080/"
        },
        "id": "QQDBMi6Yeflb",
        "outputId": "6e95fbee-d818-43b7-8f74-3008841b287d"
      },
      "execution_count": null,
      "outputs": [
        {
          "output_type": "execute_result",
          "data": {
            "text/plain": [
              "{False}"
            ]
          },
          "metadata": {},
          "execution_count": 21
        }
      ]
    },
    {
      "cell_type": "code",
      "source": [],
      "metadata": {
        "id": "UwM_6PgH8oOb"
      },
      "execution_count": null,
      "outputs": []
    },
    {
      "cell_type": "code",
      "source": [
        "plt.figure(figsize=(15,10))\n",
        "sns.histplot(df.Age)\n",
        "plt.title('Age Distribution', fontsize = 25)\n",
        "plt.show()"
      ],
      "metadata": {
        "colab": {
          "base_uri": "https://localhost:8080/",
          "height": 630
        },
        "id": "Aaqigxl4EjAH",
        "outputId": "49392d8b-1a79-4440-e0fb-ffc5eeaa559c"
      },
      "execution_count": null,
      "outputs": [
        {
          "output_type": "display_data",
          "data": {
            "text/plain": [
              "<Figure size 1080x720 with 1 Axes>"
            ],
            "image/png": "[encoded data removed]"
          },
          "metadata": {
            "needs_background": "light"
          }
        }
      ]
    },
    {
      "cell_type": "code",
      "source": [
        "plt.figure(figsize=(12,8))\n",
        "sns.histplot(df.Result)\n",
        "plt.title('Distribution of Class (Diabetes or not)', fontsize = 25)\n",
        "plt.show()"
      ],
      "metadata": {
        "colab": {
          "base_uri": "https://localhost:8080/",
          "height": 522
        },
        "id": "3XPfvXdg9x6e",
        "outputId": "e03c4ba7-b16c-432b-87b9-12ec0988879a"
      },
      "execution_count": null,
      "outputs": [
        {
          "output_type": "display_data",
          "data": {
            "text/plain": [
              "<Figure size 864x576 with 1 Axes>"
            ],
            "image/png": "[encoded data removed]"
          },
          "metadata": {
            "needs_background": "light"
          }
        }
      ]
    },
    {
      "cell_type": "code",
      "source": [
        "plt.figure(figsize=(15,8))\n",
        "plt.title('Diabetics Result with respect to Age', fontsize=15)\n",
        "sns.histplot(x='Age', hue ='Result', data=df)\n",
        "plt.show()"
      ],
      "metadata": {
        "colab": {
          "base_uri": "https://localhost:8080/",
          "height": 515
        },
        "id": "IhNlSCtREoJ3",
        "outputId": "8b2740de-4ca1-4cda-bdc9-3b87a001d05c"
      },
      "execution_count": null,
      "outputs": [
        {
          "output_type": "display_data",
          "data": {
            "text/plain": [
              "<Figure size 1080x576 with 1 Axes>"
            ],
            "image/png": "[encoded data removed]"
          },
          "metadata": {
            "needs_background": "light"
          }
        }
      ]
    },
    {
      "cell_type": "code",
      "source": [
        "df['Age'].value_counts()"
      ],
      "metadata": {
        "id": "gl56DBFeCvdI",
        "colab": {
          "base_uri": "https://localhost:8080/"
        },
        "outputId": "91e6bf38-5d69-43ab-ed69-7f39d90a550c"
      },
      "execution_count": null,
      "outputs": [
        {
          "output_type": "execute_result",
          "data": {
            "text/plain": [
              "22    72\n",
              "21    63\n",
              "25    48\n",
              "24    46\n",
              "23    38\n",
              "28    35\n",
              "26    33\n",
              "27    32\n",
              "29    29\n",
              "31    24\n",
              "41    22\n",
              "30    21\n",
              "37    19\n",
              "42    18\n",
              "33    17\n",
              "38    16\n",
              "36    16\n",
              "32    16\n",
              "45    15\n",
              "34    14\n",
              "46    13\n",
              "43    13\n",
              "40    13\n",
              "39    12\n",
              "35    10\n",
              "50     8\n",
              "51     8\n",
              "52     8\n",
              "44     8\n",
              "58     7\n",
              "47     6\n",
              "54     6\n",
              "49     5\n",
              "48     5\n",
              "57     5\n",
              "53     5\n",
              "60     5\n",
              "66     4\n",
              "63     4\n",
              "62     4\n",
              "55     4\n",
              "67     3\n",
              "56     3\n",
              "59     3\n",
              "65     3\n",
              "69     2\n",
              "61     2\n",
              "72     1\n",
              "81     1\n",
              "64     1\n",
              "70     1\n",
              "68     1\n",
              "Name: Age, dtype: int64"
            ]
          },
          "metadata": {},
          "execution_count": 25
        }
      ]
    },
    {
      "cell_type": "code",
      "source": [
        "from sklearn.impute import SimpleImputer"
      ],
      "metadata": {
        "id": "01p34Xf6Cvep"
      },
      "execution_count": null,
      "outputs": []
    },
    {
      "cell_type": "code",
      "source": [
        "imputer = SimpleImputer(missing_values=np.nan, strategy='median')\n",
        "imputer = imputer.fit(df[['Glucose','BP','Skin_Thickness','Serum_Insulin','BMI']])\n",
        "df[['Glucose','BP','Skin_Thickness','Serum_Insulin','BMI']] = imputer.transform(df[['Glucose','BP','Skin_Thickness','Serum_Insulin','BMI']])\n"
      ],
      "metadata": {
        "id": "_zXIEA6FCvpP"
      },
      "execution_count": null,
      "outputs": []
    },
    {
      "cell_type": "code",
      "source": [
        "df.head()"
      ],
      "metadata": {
        "id": "2bpP18uRCvs_",
        "colab": {
          "base_uri": "https://localhost:8080/",
          "height": 206
        },
        "outputId": "86d71d22-ff8e-40eb-bab1-990dde60fc86"
      },
      "execution_count": null,
      "outputs": [
        {
          "output_type": "execute_result",
          "data": {
            "text/plain": [
              "   Pregnant  Glucose    BP  Skin_Thickness  Serum_Insulin   BMI  Diabetes  \\\n",
              "0         6    148.0  72.0            35.0          125.0  33.6     0.627   \n",
              "1         1     85.0  66.0            29.0          125.0  26.6     0.351   \n",
              "2         8    183.0  64.0            29.0          125.0  23.3     0.672   \n",
              "3         1     89.0  66.0            23.0           94.0  28.1     0.167   \n",
              "4         0    137.0  40.0            35.0          168.0  43.1     2.288   \n",
              "\n",
              "   Age  Result  \n",
              "0   50       1  \n",
              "1   31       0  \n",
              "2   32       1  \n",
              "3   21       0  \n",
              "4   33       1  "
            ],
            "text/html": [
              "\n",
              "  <div id=\"df-4fbdb0a7-831a-4c91-9f56-94bf9fd6b28f\">\n",
              "    <div class=\"colab-df-container\">\n",
              "      <div>\n",
              "<style scoped>\n",
              "    .dataframe tbody tr th:only-of-type {\n",
              "        vertical-align: middle;\n",
              "    }\n",
              "\n",
              "    .dataframe tbody tr th {\n",
              "        vertical-align: top;\n",
              "    }\n",
              "\n",
              "    .dataframe thead th {\n",
              "        text-align: right;\n",
              "    }\n",
              "</style>\n",
              "<table border=\"1\" class=\"dataframe\">\n",
              "  <thead>\n",
              "    <tr style=\"text-align: right;\">\n",
              "      <th></th>\n",
              "      <th>Pregnant</th>\n",
              "      <th>Glucose</th>\n",
              "      <th>BP</th>\n",
              "      <th>Skin_Thickness</th>\n",
              "      <th>Serum_Insulin</th>\n",
              "      <th>BMI</th>\n",
              "      <th>Diabetes</th>\n",
              "      <th>Age</th>\n",
              "      <th>Result</th>\n",
              "    </tr>\n",
              "  </thead>\n",
              "  <tbody>\n",
              "    <tr>\n",
              "      <th>0</th>\n",
              "      <td>6</td>\n",
              "      <td>148.0</td>\n",
              "      <td>72.0</td>\n",
              "      <td>35.0</td>\n",
              "      <td>125.0</td>\n",
              "      <td>33.6</td>\n",
              "      <td>0.627</td>\n",
              "      <td>50</td>\n",
              "      <td>1</td>\n",
              "    </tr>\n",
              "    <tr>\n",
              "      <th>1</th>\n",
              "      <td>1</td>\n",
              "      <td>85.0</td>\n",
              "      <td>66.0</td>\n",
              "      <td>29.0</td>\n",
              "      <td>125.0</td>\n",
              "      <td>26.6</td>\n",
              "      <td>0.351</td>\n",
              "      <td>31</td>\n",
              "      <td>0</td>\n",
              "    </tr>\n",
              "    <tr>\n",
              "      <th>2</th>\n",
              "      <td>8</td>\n",
              "      <td>183.0</td>\n",
              "      <td>64.0</td>\n",
              "      <td>29.0</td>\n",
              "      <td>125.0</td>\n",
              "      <td>23.3</td>\n",
              "      <td>0.672</td>\n",
              "      <td>32</td>\n",
              "      <td>1</td>\n",
              "    </tr>\n",
              "    <tr>\n",
              "      <th>3</th>\n",
              "      <td>1</td>\n",
              "      <td>89.0</td>\n",
              "      <td>66.0</td>\n",
              "      <td>23.0</td>\n",
              "      <td>94.0</td>\n",
              "      <td>28.1</td>\n",
              "      <td>0.167</td>\n",
              "      <td>21</td>\n",
              "      <td>0</td>\n",
              "    </tr>\n",
              "    <tr>\n",
              "      <th>4</th>\n",
              "      <td>0</td>\n",
              "      <td>137.0</td>\n",
              "      <td>40.0</td>\n",
              "      <td>35.0</td>\n",
              "      <td>168.0</td>\n",
              "      <td>43.1</td>\n",
              "      <td>2.288</td>\n",
              "      <td>33</td>\n",
              "      <td>1</td>\n",
              "    </tr>\n",
              "  </tbody>\n",
              "</table>\n",
              "</div>\n",
              "      <button class=\"colab-df-convert\" onclick=\"convertToInteractive('df-4fbdb0a7-831a-4c91-9f56-94bf9fd6b28f')\"\n",
              "              title=\"Convert this dataframe to an interactive table.\"\n",
              "              style=\"display:none;\">\n",
              "        \n",
              "  <svg xmlns=\"http://www.w3.org/2000/svg\" height=\"24px\"viewBox=\"0 0 24 24\"\n",
              "       width=\"24px\">\n",
              "    <path d=\"M0 0h24v24H0V0z\" fill=\"none\"/>\n",
              "    <path d=\"M18.56 5.44l.94 2.06.94-2.06 2.06-.94-2.06-.94-.94-2.06-.94 2.06-2.06.94zm-11 1L8.5 8.5l.94-2.06 2.06-.94-2.06-.94L8.5 2.5l-.94 2.06-2.06.94zm10 10l.94 2.06.94-2.06 2.06-.94-2.06-.94-.94-2.06-.94 2.06-2.06.94z\"/><path d=\"M17.41 7.96l-1.37-1.37c-.4-.4-.92-.59-1.43-.59-.52 0-1.04.2-1.43.59L10.3 9.45l-7.72 7.72c-.78.78-.78 2.05 0 2.83L4 21.41c.39.39.9.59 1.41.59.51 0 1.02-.2 1.41-.59l7.78-7.78 2.81-2.81c.8-.78.8-2.07 0-2.86zM5.41 20L4 18.59l7.72-7.72 1.47 1.35L5.41 20z\"/>\n",
              "  </svg>\n",
              "      </button>\n",
              "      \n",
              "  <style>\n",
              "    .colab-df-container {\n",
              "      display:flex;\n",
              "      flex-wrap:wrap;\n",
              "      gap: 12px;\n",
              "    }\n",
              "\n",
              "    .colab-df-convert {\n",
              "      background-color: #E8F0FE;\n",
              "      border: none;\n",
              "      border-radius: 50%;\n",
              "      cursor: pointer;\n",
              "      display: none;\n",
              "      fill: #1967D2;\n",
              "      height: 32px;\n",
              "      padding: 0 0 0 0;\n",
              "      width: 32px;\n",
              "    }\n",
              "\n",
              "    .colab-df-convert:hover {\n",
              "      background-color: #E2EBFA;\n",
              "      box-shadow: 0px 1px 2px rgba(60, 64, 67, 0.3), 0px 1px 3px 1px rgba(60, 64, 67, 0.15);\n",
              "      fill: #174EA6;\n",
              "    }\n",
              "\n",
              "    [theme=dark] .colab-df-convert {\n",
              "      background-color: #3B4455;\n",
              "      fill: #D2E3FC;\n",
              "    }\n",
              "\n",
              "    [theme=dark] .colab-df-convert:hover {\n",
              "      background-color: #434B5C;\n",
              "      box-shadow: 0px 1px 3px 1px rgba(0, 0, 0, 0.15);\n",
              "      filter: drop-shadow(0px 1px 2px rgba(0, 0, 0, 0.3));\n",
              "      fill: #FFFFFF;\n",
              "    }\n",
              "  </style>\n",
              "\n",
              "      <script>\n",
              "        const buttonEl =\n",
              "          document.querySelector('#df-4fbdb0a7-831a-4c91-9f56-94bf9fd6b28f button.colab-df-convert');\n",
              "        buttonEl.style.display =\n",
              "          google.colab.kernel.accessAllowed ? 'block' : 'none';\n",
              "\n",
              "        async function convertToInteractive(key) {\n",
              "          const element = document.querySelector('#df-4fbdb0a7-831a-4c91-9f56-94bf9fd6b28f');\n",
              "          const dataTable =\n",
              "            await google.colab.kernel.invokeFunction('convertToInteractive',\n",
              "                                                     [key], {});\n",
              "          if (!dataTable) return;\n",
              "\n",
              "          const docLinkHtml = 'Like what you see? Visit the ' +\n",
              "            '<a target=\"_blank\" href=https://colab.research.google.com/notebooks/data_table.ipynb>data table notebook</a>'\n",
              "            + ' to learn more about interactive tables.';\n",
              "          element.innerHTML = '';\n",
              "          dataTable['output_type'] = 'display_data';\n",
              "          await google.colab.output.renderOutput(dataTable, element);\n",
              "          const docLink = document.createElement('div');\n",
              "          docLink.innerHTML = docLinkHtml;\n",
              "          element.appendChild(docLink);\n",
              "        }\n",
              "      </script>\n",
              "    </div>\n",
              "  </div>\n",
              "  "
            ]
          },
          "metadata": {},
          "execution_count": 28
        }
      ]
    },
    {
      "cell_type": "code",
      "source": [],
      "metadata": {
        "id": "Hgj6tYwXlIwX"
      },
      "execution_count": null,
      "outputs": []
    },
    {
      "cell_type": "code",
      "source": [
        "df.isna().sum()"
      ],
      "metadata": {
        "id": "-arbFhHYCvup",
        "colab": {
          "base_uri": "https://localhost:8080/"
        },
        "outputId": "ceb38fcb-8b37-483a-e3c2-7d4c7467f080"
      },
      "execution_count": null,
      "outputs": [
        {
          "output_type": "execute_result",
          "data": {
            "text/plain": [
              "Pregnant          0\n",
              "Glucose           0\n",
              "BP                0\n",
              "Skin_Thickness    0\n",
              "Serum_Insulin     0\n",
              "BMI               0\n",
              "Diabetes          0\n",
              "Age               0\n",
              "Result            0\n",
              "dtype: int64"
            ]
          },
          "metadata": {},
          "execution_count": 29
        }
      ]
    },
    {
      "cell_type": "code",
      "source": [
        "\n",
        "plt.figure(figsize=(18,10))\n",
        "df.boxplot(column=['Pregnant','BP','Skin_Thickness','Serum_Insulin','BMI','Diabetes'], return_type='axes')"
      ],
      "metadata": {
        "colab": {
          "base_uri": "https://localhost:8080/",
          "height": 609
        },
        "id": "_bLhYJ1U_4R0",
        "outputId": "81a96081-224e-4e54-bafc-2e4326f37a39"
      },
      "execution_count": null,
      "outputs": [
        {
          "output_type": "execute_result",
          "data": {
            "text/plain": [
              "<matplotlib.axes._subplots.AxesSubplot at 0x7fc5aaa2e1f0>"
            ]
          },
          "metadata": {},
          "execution_count": 30
        },
        {
          "output_type": "display_data",
          "data": {
            "text/plain": [
              "<Figure size 1296x720 with 1 Axes>"
            ],
            "image/png": "[encoded data removed]"
          },
          "metadata": {
            "needs_background": "light"
          }
        }
      ]
    },
    {
      "cell_type": "code",
      "source": [
        "# now our data has no missing values, we can ahead to scale our data and train our model. \n",
        "# For this we will use KNN as the first model and Neural Networks for the second"
      ],
      "metadata": {
        "id": "EMtuC7gTmJo3"
      },
      "execution_count": null,
      "outputs": []
    },
    {
      "cell_type": "code",
      "source": [
        "plt.figure(figsize=(18,10))\n",
        "sns.boxplot(data=df)"
      ],
      "metadata": {
        "colab": {
          "base_uri": "https://localhost:8080/",
          "height": 609
        },
        "id": "LqNt6Fw8pQjM",
        "outputId": "a0bbc272-c9f5-4b22-ba3d-8a66099f3a1a"
      },
      "execution_count": null,
      "outputs": [
        {
          "output_type": "execute_result",
          "data": {
            "text/plain": [
              "<matplotlib.axes._subplots.AxesSubplot at 0x7fc5a908cee0>"
            ]
          },
          "metadata": {},
          "execution_count": 158
        },
        {
          "output_type": "display_data",
          "data": {
            "text/plain": [
              "<Figure size 1296x720 with 1 Axes>"
            ],
            "image/png": "[encoded data removed]"
          },
          "metadata": {
            "needs_background": "light"
          }
        }
      ]
    },
    {
      "cell_type": "code",
      "source": [
        "df['Result'].value_counts(normalize=True)\n",
        "#We see a case of an imbalance class. "
      ],
      "metadata": {
        "colab": {
          "base_uri": "https://localhost:8080/"
        },
        "id": "FKcbxVzQIM18",
        "outputId": "a51cc390-f002-43e1-a80c-bff806456715"
      },
      "execution_count": null,
      "outputs": [
        {
          "output_type": "execute_result",
          "data": {
            "text/plain": [
              "0    0.651042\n",
              "1    0.348958\n",
              "Name: Result, dtype: float64"
            ]
          },
          "metadata": {},
          "execution_count": 31
        }
      ]
    },
    {
      "cell_type": "code",
      "source": [],
      "metadata": {
        "id": "Ixv_MBjIErIt"
      },
      "execution_count": null,
      "outputs": []
    },
    {
      "cell_type": "code",
      "source": [
        "\n",
        "\n",
        "#Using KNN for Classification\n"
      ],
      "metadata": {
        "id": "C8q7uJ1NCvyP"
      },
      "execution_count": null,
      "outputs": []
    },
    {
      "cell_type": "code",
      "source": [
        "# To use index location to slit the input features from the output features\n",
        "X = df.iloc[:, 0:8].values\n",
        "y = df.iloc[:, 8].values"
      ],
      "metadata": {
        "id": "HlfadegQoH8k"
      },
      "execution_count": null,
      "outputs": []
    },
    {
      "cell_type": "code",
      "source": [
        "from sklearn.model_selection import train_test_split\n",
        "X_train, X_test, y_train, y_test = train_test_split(X ,y, test_size=0.3, random_state = 5)"
      ],
      "metadata": {
        "id": "3V_vDK0hCvz1"
      },
      "execution_count": null,
      "outputs": []
    },
    {
      "cell_type": "code",
      "source": [
        "#To address the concern of class imbalance, we can use oversampling method since the data is not large\n",
        "from imblearn.over_sampling import RandomOverSampler\n",
        "resampler = RandomOverSampler(random_state=0)\n",
        "X_train_oversampled, y_train_oversampled = resampler.fit_resample(X_train, y_train)\n",
        "plt.figure(figsize=(15,8))\n",
        "plt.title('Class Balance', fontsize=15)\n",
        "sns.countplot(x= y_train_oversampled)\n"
      ],
      "metadata": {
        "colab": {
          "base_uri": "https://localhost:8080/",
          "height": 518
        },
        "id": "XnmItwgEMiF7",
        "outputId": "5098ebd7-a377-4c2b-8c09-e2e6c60669ac"
      },
      "execution_count": null,
      "outputs": [
        {
          "output_type": "execute_result",
          "data": {
            "text/plain": [
              "<matplotlib.axes._subplots.AxesSubplot at 0x7fc5aa815e50>"
            ]
          },
          "metadata": {},
          "execution_count": 34
        },
        {
          "output_type": "display_data",
          "data": {
            "text/plain": [
              "<Figure size 1080x576 with 1 Axes>"
            ],
            "image/png": "[encoded data removed]"
          },
          "metadata": {
            "needs_background": "light"
          }
        }
      ]
    },
    {
      "cell_type": "code",
      "source": [],
      "metadata": {
        "id": "bxRYZZfOKR-F"
      },
      "execution_count": null,
      "outputs": []
    },
    {
      "cell_type": "code",
      "source": [
        "from sklearn.preprocessing import StandardScaler\n",
        "scaler = StandardScaler()\n",
        "X_train_sc = scaler.fit_transform(X_train_oversampled)\n",
        "X_test_sc = scaler.transform (X_test)"
      ],
      "metadata": {
        "id": "1Vv2gcfLKR_u"
      },
      "execution_count": null,
      "outputs": []
    },
    {
      "cell_type": "code",
      "source": [],
      "metadata": {
        "id": "fxxl1lvRKSC5"
      },
      "execution_count": null,
      "outputs": []
    },
    {
      "cell_type": "code",
      "source": [
        "from sklearn.feature_selection import SelectKBest, f_classif\n",
        "# selector = SelectKBest(f_classif, k=3)\n",
        "# selector = SelectKBest(f_classif, k=5)\n",
        "selector = SelectKBest(f_classif, k='all')\n",
        "X_train_fs = selector.fit_transform(X_train_sc, y_train_oversampled)\n",
        "X_test_fs = selector.transform(X_test_sc)"
      ],
      "metadata": {
        "id": "J4CR088pRX6c"
      },
      "execution_count": null,
      "outputs": []
    },
    {
      "cell_type": "code",
      "source": [],
      "metadata": {
        "id": "GH3C2CbXV1hf"
      },
      "execution_count": null,
      "outputs": []
    },
    {
      "cell_type": "code",
      "source": [
        "from sklearn.neighbors import KNeighborsClassifier\n",
        "model =KNeighborsClassifier(n_neighbors = 3, metric='minkowski', p=2)\n",
        "model.fit(X_train_fs, y_train_oversampled)\n",
        "y_prediction = model.predict(X_test_fs)\n",
        "print(y_prediction)"
      ],
      "metadata": {
        "colab": {
          "base_uri": "https://localhost:8080/"
        },
        "id": "H8qjNH1EKSF0",
        "outputId": "9e9054c6-cabe-4376-9808-6116ac3f6291"
      },
      "execution_count": null,
      "outputs": [
        {
          "output_type": "stream",
          "name": "stdout",
          "text": [
            "[1 1 0 0 0 0 0 1 1 1 1 0 1 0 0 1 0 1 0 0 0 0 0 1 1 0 0 0 0 1 0 0 0 0 1 0 0\n",
            " 1 0 0 1 1 1 1 0 1 1 0 1 1 1 0 1 0 1 0 1 0 1 0 1 1 1 0 1 0 0 0 0 1 1 0 0 0\n",
            " 1 0 0 1 1 0 1 1 1 1 0 1 0 1 0 1 1 0 0 0 0 1 1 0 0 0 0 0 1 1 0 1 1 0 1 0 0\n",
            " 1 0 0 0 0 1 1 0 0 1 0 0 0 1 0 0 0 0 0 1 1 1 0 0 1 1 0 1 0 0 1 0 0 0 1 1 1\n",
            " 0 0 1 1 0 1 1 0 1 0 1 1 0 1 0 0 1 0 0 0 0 1 0 0 0 1 1 1 0 0 1 1 0 0 0 0 0\n",
            " 0 1 1 1 1 1 1 0 1 0 1 0 0 1 0 0 1 0 1 0 0 0 0 0 1 1 0 0 1 1 1 1 1 1 0 1 1\n",
            " 1 1 0 0 1 0 0 0 1]\n"
          ]
        }
      ]
    },
    {
      "cell_type": "code",
      "source": [
        "\n"
      ],
      "metadata": {
        "id": "97n8Fb4KCv9E"
      },
      "execution_count": null,
      "outputs": []
    },
    {
      "cell_type": "code",
      "source": [
        "from sklearn import metrics\n",
        "Accuracy = metrics.accuracy_score(y_test, y_prediction)\n",
        "print('Accuracy score:%.2f\\n\\n'%(Accuracy))\n",
        "conf_matrix = metrics.confusion_matrix(y_test, y_prediction)\n",
        "print('The confusion matrix is:')\n",
        "print(conf_matrix,'\\n\\n')\n",
        "print('---------------------')\n",
        "result = metrics.classification_report(y_test, y_prediction)\n",
        "print('Classification Report:\\n')\n",
        "print(result)"
      ],
      "metadata": {
        "id": "D0QRSSSrCv-r",
        "colab": {
          "base_uri": "https://localhost:8080/"
        },
        "outputId": "e8974388-8928-4510-bdd8-f3fe2eb48336"
      },
      "execution_count": null,
      "outputs": [
        {
          "output_type": "stream",
          "name": "stdout",
          "text": [
            "Accuracy score:0.70\n",
            "\n",
            "\n",
            "The confusion matrix is:\n",
            "[[108  52]\n",
            " [ 17  54]] \n",
            "\n",
            "\n",
            "---------------------\n",
            "Classification Report:\n",
            "\n",
            "              precision    recall  f1-score   support\n",
            "\n",
            "           0       0.86      0.68      0.76       160\n",
            "           1       0.51      0.76      0.61        71\n",
            "\n",
            "    accuracy                           0.70       231\n",
            "   macro avg       0.69      0.72      0.68       231\n",
            "weighted avg       0.76      0.70      0.71       231\n",
            "\n"
          ]
        }
      ]
    },
    {
      "cell_type": "code",
      "source": [],
      "metadata": {
        "id": "b4Py-FOrPoaX"
      },
      "execution_count": null,
      "outputs": []
    },
    {
      "cell_type": "code",
      "source": [
        "plt.figure(figsize=(15,8))\n",
        "zx = sns. heatmap(conf_matrix, cmap ='flare', annot= True, fmt = 'd')\n",
        "plt.title('KNN Confusion Matrix  where k =3', fontsize= 15)\n",
        "plt.xlabel('Predicted Ouput', fontsize =15)\n",
        "plt.ylabel('Actual Output', fontsize =15)\n",
        "plt.show()"
      ],
      "metadata": {
        "id": "5VDK05hHCwNn",
        "colab": {
          "base_uri": "https://localhost:8080/",
          "height": 520
        },
        "outputId": "2e501741-7b82-4099-d9eb-cab4fdf231bf"
      },
      "execution_count": null,
      "outputs": [
        {
          "output_type": "display_data",
          "data": {
            "text/plain": [
              "<Figure size 1080x576 with 2 Axes>"
            ],
            "image/png": "[encoded data removed]"
          },
          "metadata": {
            "needs_background": "light"
          }
        }
      ]
    },
    {
      "cell_type": "code",
      "source": [
        "#   using  n_neighbors = 5\n",
        "from sklearn.feature_selection import SelectKBest, f_classif\n",
        "selector = SelectKBest(f_classif, k='all')\n",
        "X_train_fs = selector.fit_transform(X_train_sc, y_train_oversampled)\n",
        "X_test_fs = selector.transform(X_test_sc)"
      ],
      "metadata": {
        "id": "zgITxlrlCwU6"
      },
      "execution_count": null,
      "outputs": []
    },
    {
      "cell_type": "code",
      "source": [
        "from sklearn.neighbors import KNeighborsClassifier\n",
        "model =KNeighborsClassifier(n_neighbors = 5, metric='minkowski', p=2)\n",
        "model.fit(X_train_fs, y_train_oversampled)\n",
        "y_prediction = model.predict(X_test_fs)\n",
        "print(y_prediction)"
      ],
      "metadata": {
        "id": "hubBdQhXCwY4",
        "colab": {
          "base_uri": "https://localhost:8080/"
        },
        "outputId": "a71fde08-d195-4213-9f3a-7577c97bef2d"
      },
      "execution_count": null,
      "outputs": [
        {
          "output_type": "stream",
          "name": "stdout",
          "text": [
            "[1 0 0 0 0 0 1 1 1 1 1 1 1 0 0 1 0 1 0 0 0 1 0 1 1 0 1 0 0 1 0 0 1 0 1 0 0\n",
            " 1 0 0 1 1 1 1 0 1 1 0 0 1 1 0 1 0 1 0 1 0 1 0 1 1 1 0 1 0 0 1 1 1 1 0 0 1\n",
            " 1 1 0 1 1 0 1 1 1 1 0 1 0 1 0 1 1 0 0 0 0 1 1 0 1 0 0 0 1 1 0 1 1 0 1 0 0\n",
            " 1 1 0 1 0 1 1 0 0 1 1 0 0 1 0 0 0 0 0 1 1 1 0 0 1 1 0 1 0 0 1 0 0 0 1 1 1\n",
            " 1 0 1 1 0 1 1 0 1 1 1 1 0 1 0 0 0 0 1 0 0 1 0 0 0 1 1 1 0 1 1 1 0 0 0 1 1\n",
            " 0 1 1 1 1 1 1 0 1 0 1 0 0 0 0 0 1 0 1 0 0 0 0 0 1 1 0 0 1 1 1 1 1 1 1 1 1\n",
            " 1 1 0 0 1 1 0 0 1]\n"
          ]
        }
      ]
    },
    {
      "cell_type": "code",
      "source": [
        "from sklearn import metrics\n",
        "Accuracy = metrics.accuracy_score(y_test, y_prediction)\n",
        "print('Accuracy score:%.2f\\n\\n'%(Accuracy))\n",
        "conf_matrix = metrics.confusion_matrix(y_test, y_prediction)\n",
        "print('The confusion matrix is:')\n",
        "print(conf_matrix,'\\n\\n')\n",
        "print('---------------------')\n",
        "result = metrics.classification_report(y_test, y_prediction)\n",
        "print('Classification Report:\\n')\n",
        "print(result)"
      ],
      "metadata": {
        "colab": {
          "base_uri": "https://localhost:8080/"
        },
        "id": "Z0GxyB-Qjl5A",
        "outputId": "9a54af06-d2eb-43cc-ca8a-fc71a84cbd39"
      },
      "execution_count": null,
      "outputs": [
        {
          "output_type": "stream",
          "name": "stdout",
          "text": [
            "Accuracy score:0.68\n",
            "\n",
            "\n",
            "The confusion matrix is:\n",
            "[[97 63]\n",
            " [11 60]] \n",
            "\n",
            "\n",
            "---------------------\n",
            "Classification Report:\n",
            "\n",
            "              precision    recall  f1-score   support\n",
            "\n",
            "           0       0.90      0.61      0.72       160\n",
            "           1       0.49      0.85      0.62        71\n",
            "\n",
            "    accuracy                           0.68       231\n",
            "   macro avg       0.69      0.73      0.67       231\n",
            "weighted avg       0.77      0.68      0.69       231\n",
            "\n"
          ]
        }
      ]
    },
    {
      "cell_type": "code",
      "source": [
        "\n",
        "\n",
        "plt.figure(figsize=(15,8))\n",
        "zx = sns. heatmap(conf_matrix, cmap ='flare', annot= True, fmt = 'd')\n",
        "plt.title('KNN Confusion Matrix  where k =5', fontsize= 15)\n",
        "plt.xlabel('Predicted Ouput', fontsize =15)\n",
        "plt.ylabel('Actual Output', fontsize =15)\n",
        "plt.show()"
      ],
      "metadata": {
        "colab": {
          "base_uri": "https://localhost:8080/",
          "height": 520
        },
        "id": "Kl_err9nnpK6",
        "outputId": "cf460d69-d09e-4775-8ebd-776de8ba831d"
      },
      "execution_count": null,
      "outputs": [
        {
          "output_type": "display_data",
          "data": {
            "text/plain": [
              "<Figure size 1080x576 with 2 Axes>"
            ],
            "image/png": "[encoded data removed]"
          },
          "metadata": {
            "needs_background": "light"
          }
        }
      ]
    },
    {
      "cell_type": "code",
      "source": [
        "# using n_neighbors = 9"
      ],
      "metadata": {
        "id": "9649W_0qjl7p"
      },
      "execution_count": null,
      "outputs": []
    },
    {
      "cell_type": "code",
      "source": [
        "from sklearn.feature_selection import SelectKBest, f_classif\n",
        "selector = SelectKBest(f_classif, k='all')\n",
        "X_train_fs = selector.fit_transform(X_train_sc, y_train_oversampled)\n",
        "X_test_fs = selector.transform(X_test_sc)"
      ],
      "metadata": {
        "id": "J3c45yaGjl-L"
      },
      "execution_count": null,
      "outputs": []
    },
    {
      "cell_type": "code",
      "source": [
        "from sklearn.neighbors import KNeighborsClassifier\n",
        "model =KNeighborsClassifier(n_neighbors = 9, metric='minkowski', p=2)\n",
        "model.fit(X_train_fs, y_train_oversampled)\n",
        "y_prediction = model.predict(X_test_fs)\n",
        "print(y_prediction)"
      ],
      "metadata": {
        "colab": {
          "base_uri": "https://localhost:8080/"
        },
        "id": "kePSb0pJjmA_",
        "outputId": "9841749f-4cb8-4e27-fe9b-3fdd902179f5"
      },
      "execution_count": null,
      "outputs": [
        {
          "output_type": "stream",
          "name": "stdout",
          "text": [
            "[1 1 0 0 0 0 1 1 1 1 1 0 1 0 0 1 0 0 1 0 0 1 0 1 0 0 0 0 1 1 0 0 1 0 1 0 0\n",
            " 1 0 0 1 1 0 1 0 1 1 0 1 1 1 0 1 0 1 0 1 0 1 0 1 1 1 0 0 0 0 1 1 1 1 0 0 1\n",
            " 1 0 0 1 1 0 1 1 1 1 0 0 0 0 0 0 1 0 1 1 0 1 1 0 0 0 0 0 1 1 0 1 0 0 1 0 0\n",
            " 1 0 0 0 0 1 1 0 0 1 1 0 0 0 0 0 0 0 0 1 1 1 0 0 1 1 0 1 0 0 1 0 0 0 1 0 1\n",
            " 0 0 1 1 0 1 1 0 1 0 1 1 0 1 0 0 0 0 1 0 0 1 0 0 0 1 1 1 0 1 1 1 0 0 0 1 1\n",
            " 0 1 1 1 1 1 1 0 1 0 1 0 0 1 0 0 1 0 1 1 0 0 1 1 1 1 1 0 1 1 0 1 1 1 1 1 1\n",
            " 1 1 0 0 1 1 0 0 1]\n"
          ]
        }
      ]
    },
    {
      "cell_type": "code",
      "source": [
        "from sklearn import metrics\n",
        "Accuracy = metrics.accuracy_score(y_test, y_prediction)\n",
        "print('Accuracy score:%.2f\\n\\n'%(Accuracy))\n",
        "conf_matrix = metrics.confusion_matrix(y_test, y_prediction)\n",
        "print('The confusion matrix is:')\n",
        "print(conf_matrix,'\\n\\n')\n",
        "print('---------------------')\n",
        "result = metrics.classification_report(y_test, y_prediction)\n",
        "print('Classification Report:\\n')\n",
        "print(result)"
      ],
      "metadata": {
        "colab": {
          "base_uri": "https://localhost:8080/"
        },
        "id": "V1h2qMYNjmDW",
        "outputId": "4e0bac84-31b8-4618-9993-f86bd39fd0a6"
      },
      "execution_count": null,
      "outputs": [
        {
          "output_type": "stream",
          "name": "stdout",
          "text": [
            "Accuracy score:0.71\n",
            "\n",
            "\n",
            "The confusion matrix is:\n",
            "[[104  56]\n",
            " [ 12  59]] \n",
            "\n",
            "\n",
            "---------------------\n",
            "Classification Report:\n",
            "\n",
            "              precision    recall  f1-score   support\n",
            "\n",
            "           0       0.90      0.65      0.75       160\n",
            "           1       0.51      0.83      0.63        71\n",
            "\n",
            "    accuracy                           0.71       231\n",
            "   macro avg       0.70      0.74      0.69       231\n",
            "weighted avg       0.78      0.71      0.72       231\n",
            "\n"
          ]
        }
      ]
    },
    {
      "cell_type": "code",
      "source": [
        "\n",
        "plt.figure(figsize=(15,8))\n",
        "zx = sns. heatmap(conf_matrix, cmap ='flare', annot= True, fmt = 'd')\n",
        "plt.title('KNN Confusion Matrix  where k =9', fontsize= 15)\n",
        "plt.xlabel('Predicted Ouput', fontsize =15)\n",
        "plt.ylabel('Actual Output', fontsize =15)\n",
        "plt.show()"
      ],
      "metadata": {
        "colab": {
          "base_uri": "https://localhost:8080/",
          "height": 520
        },
        "id": "uKpUI6MqjmGD",
        "outputId": "de35f2bc-e21d-4601-8957-e335dfb7c723"
      },
      "execution_count": null,
      "outputs": [
        {
          "output_type": "display_data",
          "data": {
            "text/plain": [
              "<Figure size 1080x576 with 2 Axes>"
            ],
            "image/png": "[encoded data removed]"
          },
          "metadata": {
            "needs_background": "light"
          }
        }
      ]
    },
    {
      "cell_type": "code",
      "source": [
        "# Neural Networks"
      ],
      "metadata": {
        "id": "X8d7GQsnjmN1"
      },
      "execution_count": null,
      "outputs": []
    },
    {
      "cell_type": "code",
      "source": [
        "\n",
        "import tensorflow as tf"
      ],
      "metadata": {
        "id": "tobf1A2ZjmaT"
      },
      "execution_count": null,
      "outputs": []
    },
    {
      "cell_type": "code",
      "source": [
        "imputer = SimpleImputer(missing_values=np.nan, strategy='median')\n",
        "imputer = imputer.fit(df[['Glucose','BP','Skin_Thickness','Serum_Insulin','BMI']])\n",
        "df[['Glucose','BP','Skin_Thickness','Serum_Insulin','BMI']] = imputer.transform(df[['Glucose','BP','Skin_Thickness','Serum_Insulin','BMI']])"
      ],
      "metadata": {
        "id": "h5Tr54btAZSo"
      },
      "execution_count": null,
      "outputs": []
    },
    {
      "cell_type": "code",
      "source": [
        "df2 =df"
      ],
      "metadata": {
        "id": "H8QfpA4xCwag"
      },
      "execution_count": null,
      "outputs": []
    },
    {
      "cell_type": "code",
      "source": [
        "X = df2.iloc[:, 0:8].values\n",
        "y = df2.iloc[:, 8].values\n"
      ],
      "metadata": {
        "id": "iBrAk_s2CweC"
      },
      "execution_count": null,
      "outputs": []
    },
    {
      "cell_type": "code",
      "source": [
        "X_train, X_test, y_train, y_test = train_test_split(X, y, test_size =\n",
        "0.3, stratify=y, random_state=20)"
      ],
      "metadata": {
        "id": "GP6vDn5eCwf2"
      },
      "execution_count": null,
      "outputs": []
    },
    {
      "cell_type": "code",
      "source": [
        "scaler = StandardScaler()\n",
        "X_train = scaler.fit_transform(X_train)\n",
        "X_test = scaler.transform(X_test)"
      ],
      "metadata": {
        "id": "zzofCyznCwjE"
      },
      "execution_count": null,
      "outputs": []
    },
    {
      "cell_type": "code",
      "source": [
        "model = tf.keras.models.Sequential()\n",
        "\n",
        "model.add(tf.keras.layers.Dense(8,activation='relu',input_shape=(8,)))\n",
        "model.add(tf.keras.layers.Dense(2,activation='sigmoid'))\n"
      ],
      "metadata": {
        "id": "GDTeJCIXCwk8"
      },
      "execution_count": null,
      "outputs": []
    },
    {
      "cell_type": "code",
      "source": [
        "model.compile(optimizer='adam',\n",
        " loss='sparse_categorical_crossentropy',\n",
        " metrics='accuracy')"
      ],
      "metadata": {
        "id": "RgE3sHxqCwoh"
      },
      "execution_count": null,
      "outputs": []
    },
    {
      "cell_type": "code",
      "source": [
        "# summary\n",
        "model.summary()"
      ],
      "metadata": {
        "id": "ub6sjzpIcOtb",
        "colab": {
          "base_uri": "https://localhost:8080/"
        },
        "outputId": "90989d66-267c-4506-9292-90d8b2b9ea51"
      },
      "execution_count": null,
      "outputs": [
        {
          "output_type": "stream",
          "name": "stdout",
          "text": [
            "Model: \"sequential\"\n",
            "_________________________________________________________________\n",
            " Layer (type)                Output Shape              Param #   \n",
            "=================================================================\n",
            " dense (Dense)               (None, 8)                 72        \n",
            "                                                                 \n",
            " dense_1 (Dense)             (None, 2)                 18        \n",
            "                                                                 \n",
            "=================================================================\n",
            "Total params: 90\n",
            "Trainable params: 90\n",
            "Non-trainable params: 0\n",
            "_________________________________________________________________\n"
          ]
        }
      ]
    },
    {
      "cell_type": "code",
      "source": [
        "class_weights = {0:1, 1:2}\n",
        "history = model.fit(X_train, y_train, \\\n",
        " batch_size = 8, epochs= 50, \\\n",
        " verbose=2, class_weight=class_weights, \\\n",
        " validation_split=0.3)"
      ],
      "metadata": {
        "id": "4tPXzj7wCwqD",
        "colab": {
          "base_uri": "https://localhost:8080/"
        },
        "outputId": "64cfd5f2-06e7-4231-ece7-826868ee227d"
      },
      "execution_count": null,
      "outputs": [
        {
          "output_type": "stream",
          "name": "stdout",
          "text": [
            "Epoch 1/50\n",
            "47/47 - 1s - loss: 1.1602 - accuracy: 0.4907 - val_loss: 0.8507 - val_accuracy: 0.4815 - 1s/epoch - 27ms/step\n",
            "Epoch 2/50\n",
            "47/47 - 0s - loss: 1.0548 - accuracy: 0.5253 - val_loss: 0.7803 - val_accuracy: 0.5185 - 180ms/epoch - 4ms/step\n",
            "Epoch 3/50\n",
            "47/47 - 0s - loss: 0.9838 - accuracy: 0.5573 - val_loss: 0.7352 - val_accuracy: 0.5494 - 212ms/epoch - 5ms/step\n",
            "Epoch 4/50\n",
            "47/47 - 0s - loss: 0.9324 - accuracy: 0.5760 - val_loss: 0.7007 - val_accuracy: 0.5741 - 266ms/epoch - 6ms/step\n",
            "Epoch 5/50\n",
            "47/47 - 0s - loss: 0.8933 - accuracy: 0.6027 - val_loss: 0.6725 - val_accuracy: 0.5926 - 157ms/epoch - 3ms/step\n",
            "Epoch 6/50\n",
            "47/47 - 0s - loss: 0.8613 - accuracy: 0.6187 - val_loss: 0.6532 - val_accuracy: 0.6173 - 144ms/epoch - 3ms/step\n",
            "Epoch 7/50\n",
            "47/47 - 0s - loss: 0.8354 - accuracy: 0.6373 - val_loss: 0.6348 - val_accuracy: 0.6296 - 148ms/epoch - 3ms/step\n",
            "Epoch 8/50\n",
            "47/47 - 0s - loss: 0.8156 - accuracy: 0.6373 - val_loss: 0.6233 - val_accuracy: 0.6543 - 151ms/epoch - 3ms/step\n",
            "Epoch 9/50\n",
            "47/47 - 0s - loss: 0.7972 - accuracy: 0.6400 - val_loss: 0.6078 - val_accuracy: 0.6543 - 150ms/epoch - 3ms/step\n",
            "Epoch 10/50\n",
            "47/47 - 0s - loss: 0.7821 - accuracy: 0.6507 - val_loss: 0.5945 - val_accuracy: 0.6728 - 116ms/epoch - 2ms/step\n",
            "Epoch 11/50\n",
            "47/47 - 0s - loss: 0.7684 - accuracy: 0.6560 - val_loss: 0.5865 - val_accuracy: 0.6790 - 146ms/epoch - 3ms/step\n",
            "Epoch 12/50\n",
            "47/47 - 0s - loss: 0.7553 - accuracy: 0.6720 - val_loss: 0.5768 - val_accuracy: 0.6975 - 113ms/epoch - 2ms/step\n",
            "Epoch 13/50\n",
            "47/47 - 0s - loss: 0.7435 - accuracy: 0.6800 - val_loss: 0.5663 - val_accuracy: 0.7037 - 169ms/epoch - 4ms/step\n",
            "Epoch 14/50\n",
            "47/47 - 0s - loss: 0.7318 - accuracy: 0.6800 - val_loss: 0.5610 - val_accuracy: 0.7099 - 148ms/epoch - 3ms/step\n",
            "Epoch 15/50\n",
            "47/47 - 0s - loss: 0.7217 - accuracy: 0.6800 - val_loss: 0.5553 - val_accuracy: 0.7099 - 144ms/epoch - 3ms/step\n",
            "Epoch 16/50\n",
            "47/47 - 0s - loss: 0.7131 - accuracy: 0.6907 - val_loss: 0.5511 - val_accuracy: 0.7284 - 164ms/epoch - 3ms/step\n",
            "Epoch 17/50\n",
            "47/47 - 0s - loss: 0.7050 - accuracy: 0.6907 - val_loss: 0.5455 - val_accuracy: 0.7222 - 104ms/epoch - 2ms/step\n",
            "Epoch 18/50\n",
            "47/47 - 0s - loss: 0.6984 - accuracy: 0.7067 - val_loss: 0.5405 - val_accuracy: 0.7407 - 110ms/epoch - 2ms/step\n",
            "Epoch 19/50\n",
            "47/47 - 0s - loss: 0.6923 - accuracy: 0.7013 - val_loss: 0.5380 - val_accuracy: 0.7346 - 142ms/epoch - 3ms/step\n",
            "Epoch 20/50\n",
            "47/47 - 0s - loss: 0.6876 - accuracy: 0.7093 - val_loss: 0.5368 - val_accuracy: 0.7284 - 109ms/epoch - 2ms/step\n",
            "Epoch 21/50\n",
            "47/47 - 0s - loss: 0.6807 - accuracy: 0.7067 - val_loss: 0.5336 - val_accuracy: 0.7346 - 157ms/epoch - 3ms/step\n",
            "Epoch 22/50\n",
            "47/47 - 0s - loss: 0.6766 - accuracy: 0.7120 - val_loss: 0.5301 - val_accuracy: 0.7407 - 122ms/epoch - 3ms/step\n",
            "Epoch 23/50\n",
            "47/47 - 0s - loss: 0.6715 - accuracy: 0.7200 - val_loss: 0.5299 - val_accuracy: 0.7407 - 106ms/epoch - 2ms/step\n",
            "Epoch 24/50\n",
            "47/47 - 0s - loss: 0.6674 - accuracy: 0.7253 - val_loss: 0.5293 - val_accuracy: 0.7407 - 151ms/epoch - 3ms/step\n",
            "Epoch 25/50\n",
            "47/47 - 0s - loss: 0.6634 - accuracy: 0.7280 - val_loss: 0.5286 - val_accuracy: 0.7407 - 153ms/epoch - 3ms/step\n",
            "Epoch 26/50\n",
            "47/47 - 0s - loss: 0.6609 - accuracy: 0.7387 - val_loss: 0.5270 - val_accuracy: 0.7407 - 106ms/epoch - 2ms/step\n",
            "Epoch 27/50\n",
            "47/47 - 0s - loss: 0.6580 - accuracy: 0.7360 - val_loss: 0.5267 - val_accuracy: 0.7469 - 144ms/epoch - 3ms/step\n",
            "Epoch 28/50\n",
            "47/47 - 0s - loss: 0.6554 - accuracy: 0.7440 - val_loss: 0.5265 - val_accuracy: 0.7469 - 103ms/epoch - 2ms/step\n",
            "Epoch 29/50\n",
            "47/47 - 0s - loss: 0.6528 - accuracy: 0.7413 - val_loss: 0.5256 - val_accuracy: 0.7469 - 148ms/epoch - 3ms/step\n",
            "Epoch 30/50\n",
            "47/47 - 0s - loss: 0.6498 - accuracy: 0.7573 - val_loss: 0.5234 - val_accuracy: 0.7531 - 120ms/epoch - 3ms/step\n",
            "Epoch 31/50\n",
            "47/47 - 0s - loss: 0.6476 - accuracy: 0.7493 - val_loss: 0.5234 - val_accuracy: 0.7531 - 102ms/epoch - 2ms/step\n",
            "Epoch 32/50\n",
            "47/47 - 0s - loss: 0.6454 - accuracy: 0.7547 - val_loss: 0.5231 - val_accuracy: 0.7531 - 146ms/epoch - 3ms/step\n",
            "Epoch 33/50\n",
            "47/47 - 0s - loss: 0.6438 - accuracy: 0.7547 - val_loss: 0.5220 - val_accuracy: 0.7531 - 148ms/epoch - 3ms/step\n",
            "Epoch 34/50\n",
            "47/47 - 0s - loss: 0.6417 - accuracy: 0.7547 - val_loss: 0.5207 - val_accuracy: 0.7531 - 151ms/epoch - 3ms/step\n",
            "Epoch 35/50\n",
            "47/47 - 0s - loss: 0.6400 - accuracy: 0.7600 - val_loss: 0.5185 - val_accuracy: 0.7469 - 127ms/epoch - 3ms/step\n",
            "Epoch 36/50\n",
            "47/47 - 0s - loss: 0.6379 - accuracy: 0.7627 - val_loss: 0.5211 - val_accuracy: 0.7531 - 100ms/epoch - 2ms/step\n",
            "Epoch 37/50\n",
            "47/47 - 0s - loss: 0.6364 - accuracy: 0.7520 - val_loss: 0.5205 - val_accuracy: 0.7531 - 109ms/epoch - 2ms/step\n",
            "Epoch 38/50\n",
            "47/47 - 0s - loss: 0.6354 - accuracy: 0.7627 - val_loss: 0.5204 - val_accuracy: 0.7469 - 113ms/epoch - 2ms/step\n",
            "Epoch 39/50\n",
            "47/47 - 0s - loss: 0.6333 - accuracy: 0.7653 - val_loss: 0.5194 - val_accuracy: 0.7407 - 103ms/epoch - 2ms/step\n",
            "Epoch 40/50\n",
            "47/47 - 0s - loss: 0.6332 - accuracy: 0.7680 - val_loss: 0.5198 - val_accuracy: 0.7407 - 139ms/epoch - 3ms/step\n",
            "Epoch 41/50\n",
            "47/47 - 0s - loss: 0.6311 - accuracy: 0.7653 - val_loss: 0.5193 - val_accuracy: 0.7469 - 104ms/epoch - 2ms/step\n",
            "Epoch 42/50\n",
            "47/47 - 0s - loss: 0.6294 - accuracy: 0.7707 - val_loss: 0.5206 - val_accuracy: 0.7407 - 141ms/epoch - 3ms/step\n",
            "Epoch 43/50\n",
            "47/47 - 0s - loss: 0.6281 - accuracy: 0.7707 - val_loss: 0.5198 - val_accuracy: 0.7407 - 112ms/epoch - 2ms/step\n",
            "Epoch 44/50\n",
            "47/47 - 0s - loss: 0.6265 - accuracy: 0.7760 - val_loss: 0.5214 - val_accuracy: 0.7346 - 140ms/epoch - 3ms/step\n",
            "Epoch 45/50\n",
            "47/47 - 0s - loss: 0.6253 - accuracy: 0.7733 - val_loss: 0.5219 - val_accuracy: 0.7407 - 145ms/epoch - 3ms/step\n",
            "Epoch 46/50\n",
            "47/47 - 0s - loss: 0.6244 - accuracy: 0.7733 - val_loss: 0.5200 - val_accuracy: 0.7346 - 148ms/epoch - 3ms/step\n",
            "Epoch 47/50\n",
            "47/47 - 0s - loss: 0.6250 - accuracy: 0.7680 - val_loss: 0.5221 - val_accuracy: 0.7407 - 114ms/epoch - 2ms/step\n",
            "Epoch 48/50\n",
            "47/47 - 0s - loss: 0.6219 - accuracy: 0.7680 - val_loss: 0.5213 - val_accuracy: 0.7407 - 143ms/epoch - 3ms/step\n",
            "Epoch 49/50\n",
            "47/47 - 0s - loss: 0.6215 - accuracy: 0.7707 - val_loss: 0.5199 - val_accuracy: 0.7407 - 144ms/epoch - 3ms/step\n",
            "Epoch 50/50\n",
            "47/47 - 0s - loss: 0.6188 - accuracy: 0.7733 - val_loss: 0.5217 - val_accuracy: 0.7346 - 157ms/epoch - 3ms/step\n"
          ]
        }
      ]
    },
    {
      "cell_type": "code",
      "source": [
        "plt.figure(figsize=(15,8))\n",
        "accuracy = history.history['accuracy']\n",
        "validation_accuracy = history.history['val_accuracy']\n",
        "plt.plot(accuracy, label='Training Set Accuracy')\n",
        "plt.plot(validation_accuracy, label='Validation Set Accuracy')\n",
        "plt.ylabel('Accuracy', fontsize=15)\n",
        "plt.ylim([min(plt.ylim()),1])\n",
        "plt.title('Training and Validation Accuracy Across Epochs')\n",
        "plt.legend()\n"
      ],
      "metadata": {
        "id": "jiYCeYNxCwt2",
        "colab": {
          "base_uri": "https://localhost:8080/",
          "height": 516
        },
        "outputId": "9255789d-681d-4ffb-8536-2eced806b164"
      },
      "execution_count": null,
      "outputs": [
        {
          "output_type": "execute_result",
          "data": {
            "text/plain": [
              "<matplotlib.legend.Legend at 0x7fc545b66970>"
            ]
          },
          "metadata": {},
          "execution_count": 58
        },
        {
          "output_type": "display_data",
          "data": {
            "text/plain": [
              "<Figure size 1080x576 with 1 Axes>"
            ],
            "image/png": "[encoded data removed]"
          },
          "metadata": {
            "needs_background": "light"
          }
        }
      ]
    },
    {
      "cell_type": "code",
      "source": [],
      "metadata": {
        "id": "nTVHRac9MHrn"
      },
      "execution_count": null,
      "outputs": []
    },
    {
      "cell_type": "code",
      "source": [
        "plt.figure(figsize=(15,8))\n",
        "loss = history.history['loss']\n",
        "validation_loss = history.history['val_loss']\n",
        "plt.plot(loss, label='Training Set Loss')\n",
        "plt.plot(validation_loss, label='Validation Set Loss')\n",
        "plt.ylabel('Loss', fontsize=15)\n",
        "plt.title('Training and Validation Accuracy Across Epochs')\n",
        "plt.legend()\n"
      ],
      "metadata": {
        "id": "2j6kHgQ1Cw9x",
        "colab": {
          "base_uri": "https://localhost:8080/",
          "height": 516
        },
        "outputId": "a46c5703-aef5-452d-a9b3-66319aeae661"
      },
      "execution_count": null,
      "outputs": [
        {
          "output_type": "execute_result",
          "data": {
            "text/plain": [
              "<matplotlib.legend.Legend at 0x7fc54ba65a00>"
            ]
          },
          "metadata": {},
          "execution_count": 59
        },
        {
          "output_type": "display_data",
          "data": {
            "text/plain": [
              "<Figure size 1080x576 with 1 Axes>"
            ],
            "image/png": "[encoded data removed]"
          },
          "metadata": {
            "needs_background": "light"
          }
        }
      ]
    },
    {
      "cell_type": "code",
      "source": [
        "from sklearn.metrics import confusion_matrix, classification_report\n"
      ],
      "metadata": {
        "id": "Kqdq-phkCw_u"
      },
      "execution_count": null,
      "outputs": []
    },
    {
      "cell_type": "code",
      "source": [
        "from sklearn.metrics import confusion_matrix, classification_report\n",
        "\n",
        "y_pred = model.predict(X_test)\n",
        "y_pred = y_pred.argmax(axis=1)\n",
        "\n",
        "confusion_matrix = confusion_matrix(y_test,y_pred)\n",
        "ax = sns.heatmap(confusion_matrix, cmap='flare',annot=True, fmt='d')\n",
        "plt.xlabel(\"Predicted Class\",fontsize=12)\n",
        "plt.ylabel(\"True Class\",fontsize=12)\n",
        "plt.title(\"Neural Networks Confusion Matrix, Layers=8, Epoch =50\",fontsize=12)\n",
        "plt.show()\n",
        "\n",
        "print(classification_report(y_test,y_pred))"
      ],
      "metadata": {
        "colab": {
          "base_uri": "https://localhost:8080/",
          "height": 472
        },
        "id": "PPcRW5Z4QCkU",
        "outputId": "d9f56563-760d-448d-90ba-ade517a47478"
      },
      "execution_count": null,
      "outputs": [
        {
          "output_type": "stream",
          "name": "stdout",
          "text": [
            "8/8 [==============================] - 0s 6ms/step\n"
          ]
        },
        {
          "output_type": "display_data",
          "data": {
            "text/plain": [
              "<Figure size 432x288 with 2 Axes>"
            ],
            "image/png": "[encoded data removed]"
          },
          "metadata": {
            "needs_background": "light"
          }
        },
        {
          "output_type": "stream",
          "name": "stdout",
          "text": [
            "              precision    recall  f1-score   support\n",
            "\n",
            "           0       0.86      0.76      0.81       150\n",
            "           1       0.64      0.78      0.70        81\n",
            "\n",
            "    accuracy                           0.77       231\n",
            "   macro avg       0.75      0.77      0.75       231\n",
            "weighted avg       0.78      0.77      0.77       231\n",
            "\n"
          ]
        }
      ]
    },
    {
      "cell_type": "code",
      "source": [
        "from sklearn.metrics import confusion_matrix, classification_report\n",
        "\n",
        "y_pred = model.predict(X_test)\n",
        "y_pred = y_pred.argmax(axis=1)\n",
        "\n",
        "confusion_matrix = confusion_matrix(y_test,y_pred)\n",
        "plt.figure(figsize=(15,8))\n",
        "ax = sns.heatmap(confusion_matrix, cmap='flare',annot=True, fmt='d')\n",
        "plt.xlabel(\"Predicted Class\",fontsize=12)\n",
        "plt.ylabel(\"True Class\",fontsize=12)\n",
        "plt.title(\"Neural Networks Confusion Matrix, Layers=8, Epoch =50\",fontsize=12)\n",
        "plt.show()\n",
        "\n",
        "print(classification_report(y_test,y_pred))"
      ],
      "metadata": {
        "colab": {
          "base_uri": "https://localhost:8080/",
          "height": 690
        },
        "id": "OhHWDUVEaEwg",
        "outputId": "9d2caf69-f354-464b-fd52-00cbfcf5c92b"
      },
      "execution_count": null,
      "outputs": [
        {
          "output_type": "stream",
          "name": "stdout",
          "text": [
            "8/8 [==============================] - 0s 2ms/step\n"
          ]
        },
        {
          "output_type": "display_data",
          "data": {
            "text/plain": [
              "<Figure size 1080x576 with 2 Axes>"
            ],
            "image/png": "[encoded data removed]"
          },
          "metadata": {
            "needs_background": "light"
          }
        },
        {
          "output_type": "stream",
          "name": "stdout",
          "text": [
            "              precision    recall  f1-score   support\n",
            "\n",
            "           0       0.86      0.76      0.81       150\n",
            "           1       0.64      0.78      0.70        81\n",
            "\n",
            "    accuracy                           0.77       231\n",
            "   macro avg       0.75      0.77      0.75       231\n",
            "weighted avg       0.78      0.77      0.77       231\n",
            "\n"
          ]
        }
      ]
    },
    {
      "cell_type": "code",
      "source": [
        "# Let us increase the change the number of layers to 15 and keep epoch at 50"
      ],
      "metadata": {
        "id": "gQClXG3JCxKN"
      },
      "execution_count": null,
      "outputs": []
    },
    {
      "cell_type": "code",
      "source": [],
      "metadata": {
        "id": "-pBlk-W-lPHy"
      },
      "execution_count": null,
      "outputs": []
    },
    {
      "cell_type": "code",
      "source": [
        "X_train, X_test, y_train, y_test = train_test_split(X, y, test_size =\n",
        "0.3, stratify=y, random_state=20)\n",
        "\n",
        "\n",
        "scaler = StandardScaler()\n",
        "X_train = scaler.fit_transform(X_train)\n",
        "X_test = scaler.transform(X_test)\n",
        "\n",
        "\n",
        "\n",
        "model = tf.keras.models.Sequential()\n",
        "\n",
        "model.add(tf.keras.layers.Dense(15,activation='relu',input_shape=(8,)))\n",
        "model.add(tf.keras.layers.Dense(2,activation='sigmoid'))\n",
        "\n",
        "model.compile(optimizer='adam',\n",
        " loss='sparse_categorical_crossentropy',\n",
        " metrics='accuracy')\n",
        "\n",
        "class_weights = {0:1, 1:2}\n",
        "history = model.fit(X_train, y_train, \\\n",
        " batch_size = 15, epochs= 50, \\\n",
        " verbose=2, class_weight=class_weights, \\\n",
        " validation_split=0.3)\n",
        "\n"
      ],
      "metadata": {
        "id": "fpTscq5bCxPZ",
        "colab": {
          "base_uri": "https://localhost:8080/"
        },
        "outputId": "35a29cf9-0786-419c-fe87-2ffc1519c73c"
      },
      "execution_count": null,
      "outputs": [
        {
          "output_type": "stream",
          "name": "stdout",
          "text": [
            "Epoch 1/50\n",
            "25/25 - 1s - loss: 0.9045 - accuracy: 0.6320 - val_loss: 0.6209 - val_accuracy: 0.6790 - 599ms/epoch - 24ms/step\n",
            "Epoch 2/50\n",
            "25/25 - 0s - loss: 0.8588 - accuracy: 0.6560 - val_loss: 0.6125 - val_accuracy: 0.7037 - 69ms/epoch - 3ms/step\n",
            "Epoch 3/50\n",
            "25/25 - 0s - loss: 0.8250 - accuracy: 0.6880 - val_loss: 0.5987 - val_accuracy: 0.7099 - 71ms/epoch - 3ms/step\n",
            "Epoch 4/50\n",
            "25/25 - 0s - loss: 0.8005 - accuracy: 0.6960 - val_loss: 0.5875 - val_accuracy: 0.7160 - 69ms/epoch - 3ms/step\n",
            "Epoch 5/50\n",
            "25/25 - 0s - loss: 0.7813 - accuracy: 0.7040 - val_loss: 0.5739 - val_accuracy: 0.7284 - 75ms/epoch - 3ms/step\n",
            "Epoch 6/50\n",
            "25/25 - 0s - loss: 0.7640 - accuracy: 0.7093 - val_loss: 0.5695 - val_accuracy: 0.7346 - 76ms/epoch - 3ms/step\n",
            "Epoch 7/50\n",
            "25/25 - 0s - loss: 0.7489 - accuracy: 0.7307 - val_loss: 0.5569 - val_accuracy: 0.7284 - 71ms/epoch - 3ms/step\n",
            "Epoch 8/50\n",
            "25/25 - 0s - loss: 0.7356 - accuracy: 0.7387 - val_loss: 0.5521 - val_accuracy: 0.7222 - 75ms/epoch - 3ms/step\n",
            "Epoch 9/50\n",
            "25/25 - 0s - loss: 0.7258 - accuracy: 0.7493 - val_loss: 0.5473 - val_accuracy: 0.7222 - 71ms/epoch - 3ms/step\n",
            "Epoch 10/50\n",
            "25/25 - 0s - loss: 0.7161 - accuracy: 0.7520 - val_loss: 0.5395 - val_accuracy: 0.7284 - 86ms/epoch - 3ms/step\n",
            "Epoch 11/50\n",
            "25/25 - 0s - loss: 0.7063 - accuracy: 0.7573 - val_loss: 0.5382 - val_accuracy: 0.7284 - 77ms/epoch - 3ms/step\n",
            "Epoch 12/50\n",
            "25/25 - 0s - loss: 0.6979 - accuracy: 0.7520 - val_loss: 0.5353 - val_accuracy: 0.7284 - 78ms/epoch - 3ms/step\n",
            "Epoch 13/50\n",
            "25/25 - 0s - loss: 0.6915 - accuracy: 0.7493 - val_loss: 0.5300 - val_accuracy: 0.7284 - 73ms/epoch - 3ms/step\n",
            "Epoch 14/50\n",
            "25/25 - 0s - loss: 0.6860 - accuracy: 0.7547 - val_loss: 0.5288 - val_accuracy: 0.7284 - 72ms/epoch - 3ms/step\n",
            "Epoch 15/50\n",
            "25/25 - 0s - loss: 0.6796 - accuracy: 0.7600 - val_loss: 0.5284 - val_accuracy: 0.7346 - 73ms/epoch - 3ms/step\n",
            "Epoch 16/50\n",
            "25/25 - 0s - loss: 0.6753 - accuracy: 0.7547 - val_loss: 0.5270 - val_accuracy: 0.7346 - 76ms/epoch - 3ms/step\n",
            "Epoch 17/50\n",
            "25/25 - 0s - loss: 0.6700 - accuracy: 0.7520 - val_loss: 0.5265 - val_accuracy: 0.7346 - 70ms/epoch - 3ms/step\n",
            "Epoch 18/50\n",
            "25/25 - 0s - loss: 0.6671 - accuracy: 0.7520 - val_loss: 0.5237 - val_accuracy: 0.7346 - 72ms/epoch - 3ms/step\n",
            "Epoch 19/50\n",
            "25/25 - 0s - loss: 0.6626 - accuracy: 0.7520 - val_loss: 0.5253 - val_accuracy: 0.7346 - 78ms/epoch - 3ms/step\n",
            "Epoch 20/50\n",
            "25/25 - 0s - loss: 0.6597 - accuracy: 0.7520 - val_loss: 0.5237 - val_accuracy: 0.7407 - 75ms/epoch - 3ms/step\n",
            "Epoch 21/50\n",
            "25/25 - 0s - loss: 0.6558 - accuracy: 0.7573 - val_loss: 0.5254 - val_accuracy: 0.7346 - 71ms/epoch - 3ms/step\n",
            "Epoch 22/50\n",
            "25/25 - 0s - loss: 0.6518 - accuracy: 0.7547 - val_loss: 0.5242 - val_accuracy: 0.7407 - 67ms/epoch - 3ms/step\n",
            "Epoch 23/50\n",
            "25/25 - 0s - loss: 0.6491 - accuracy: 0.7573 - val_loss: 0.5242 - val_accuracy: 0.7346 - 74ms/epoch - 3ms/step\n",
            "Epoch 24/50\n",
            "25/25 - 0s - loss: 0.6461 - accuracy: 0.7627 - val_loss: 0.5248 - val_accuracy: 0.7284 - 75ms/epoch - 3ms/step\n",
            "Epoch 25/50\n",
            "25/25 - 0s - loss: 0.6437 - accuracy: 0.7653 - val_loss: 0.5254 - val_accuracy: 0.7346 - 80ms/epoch - 3ms/step\n",
            "Epoch 26/50\n",
            "25/25 - 0s - loss: 0.6409 - accuracy: 0.7680 - val_loss: 0.5240 - val_accuracy: 0.7346 - 69ms/epoch - 3ms/step\n",
            "Epoch 27/50\n",
            "25/25 - 0s - loss: 0.6384 - accuracy: 0.7707 - val_loss: 0.5240 - val_accuracy: 0.7346 - 76ms/epoch - 3ms/step\n",
            "Epoch 28/50\n",
            "25/25 - 0s - loss: 0.6364 - accuracy: 0.7680 - val_loss: 0.5251 - val_accuracy: 0.7284 - 64ms/epoch - 3ms/step\n",
            "Epoch 29/50\n",
            "25/25 - 0s - loss: 0.6329 - accuracy: 0.7653 - val_loss: 0.5244 - val_accuracy: 0.7346 - 79ms/epoch - 3ms/step\n",
            "Epoch 30/50\n",
            "25/25 - 0s - loss: 0.6309 - accuracy: 0.7707 - val_loss: 0.5240 - val_accuracy: 0.7346 - 80ms/epoch - 3ms/step\n",
            "Epoch 31/50\n",
            "25/25 - 0s - loss: 0.6290 - accuracy: 0.7760 - val_loss: 0.5244 - val_accuracy: 0.7346 - 69ms/epoch - 3ms/step\n",
            "Epoch 32/50\n",
            "25/25 - 0s - loss: 0.6267 - accuracy: 0.7760 - val_loss: 0.5242 - val_accuracy: 0.7284 - 79ms/epoch - 3ms/step\n",
            "Epoch 33/50\n",
            "25/25 - 0s - loss: 0.6253 - accuracy: 0.7840 - val_loss: 0.5249 - val_accuracy: 0.7284 - 70ms/epoch - 3ms/step\n",
            "Epoch 34/50\n",
            "25/25 - 0s - loss: 0.6235 - accuracy: 0.7867 - val_loss: 0.5253 - val_accuracy: 0.7346 - 69ms/epoch - 3ms/step\n",
            "Epoch 35/50\n",
            "25/25 - 0s - loss: 0.6220 - accuracy: 0.7867 - val_loss: 0.5257 - val_accuracy: 0.7284 - 78ms/epoch - 3ms/step\n",
            "Epoch 36/50\n",
            "25/25 - 0s - loss: 0.6213 - accuracy: 0.7813 - val_loss: 0.5270 - val_accuracy: 0.7407 - 68ms/epoch - 3ms/step\n",
            "Epoch 37/50\n",
            "25/25 - 0s - loss: 0.6185 - accuracy: 0.7867 - val_loss: 0.5250 - val_accuracy: 0.7284 - 68ms/epoch - 3ms/step\n",
            "Epoch 38/50\n",
            "25/25 - 0s - loss: 0.6167 - accuracy: 0.7867 - val_loss: 0.5264 - val_accuracy: 0.7407 - 80ms/epoch - 3ms/step\n",
            "Epoch 39/50\n",
            "25/25 - 0s - loss: 0.6157 - accuracy: 0.7893 - val_loss: 0.5264 - val_accuracy: 0.7346 - 67ms/epoch - 3ms/step\n",
            "Epoch 40/50\n",
            "25/25 - 0s - loss: 0.6147 - accuracy: 0.7893 - val_loss: 0.5246 - val_accuracy: 0.7284 - 74ms/epoch - 3ms/step\n",
            "Epoch 41/50\n",
            "25/25 - 0s - loss: 0.6127 - accuracy: 0.7947 - val_loss: 0.5252 - val_accuracy: 0.7346 - 76ms/epoch - 3ms/step\n",
            "Epoch 42/50\n",
            "25/25 - 0s - loss: 0.6117 - accuracy: 0.7920 - val_loss: 0.5247 - val_accuracy: 0.7346 - 75ms/epoch - 3ms/step\n",
            "Epoch 43/50\n",
            "25/25 - 0s - loss: 0.6097 - accuracy: 0.7920 - val_loss: 0.5256 - val_accuracy: 0.7346 - 70ms/epoch - 3ms/step\n",
            "Epoch 44/50\n",
            "25/25 - 0s - loss: 0.6085 - accuracy: 0.7893 - val_loss: 0.5268 - val_accuracy: 0.7346 - 71ms/epoch - 3ms/step\n",
            "Epoch 45/50\n",
            "25/25 - 0s - loss: 0.6090 - accuracy: 0.7893 - val_loss: 0.5256 - val_accuracy: 0.7407 - 82ms/epoch - 3ms/step\n",
            "Epoch 46/50\n",
            "25/25 - 0s - loss: 0.6065 - accuracy: 0.7947 - val_loss: 0.5268 - val_accuracy: 0.7407 - 78ms/epoch - 3ms/step\n",
            "Epoch 47/50\n",
            "25/25 - 0s - loss: 0.6061 - accuracy: 0.7893 - val_loss: 0.5259 - val_accuracy: 0.7407 - 66ms/epoch - 3ms/step\n",
            "Epoch 48/50\n",
            "25/25 - 0s - loss: 0.6051 - accuracy: 0.7893 - val_loss: 0.5259 - val_accuracy: 0.7346 - 76ms/epoch - 3ms/step\n",
            "Epoch 49/50\n",
            "25/25 - 0s - loss: 0.6044 - accuracy: 0.7867 - val_loss: 0.5264 - val_accuracy: 0.7469 - 69ms/epoch - 3ms/step\n",
            "Epoch 50/50\n",
            "25/25 - 0s - loss: 0.6039 - accuracy: 0.7813 - val_loss: 0.5273 - val_accuracy: 0.7346 - 73ms/epoch - 3ms/step\n"
          ]
        }
      ]
    },
    {
      "cell_type": "code",
      "source": [
        "accuracy = history.history['accuracy']\n",
        "validation_accuracy = history.history['val_accuracy']\n",
        "plt.plot(accuracy, label='Training Set Accuracy')\n",
        "plt.plot(validation_accuracy, label='Validation Set Accuracy')\n",
        "plt.ylabel('Accuracy')\n",
        "plt.ylim([min(plt.ylim()),1])\n",
        "plt.title('Training and Validation Accuracy Across Epochs')\n",
        "plt.legend()\n",
        "\n",
        "\n",
        "\n",
        "\n"
      ],
      "metadata": {
        "id": "jfUyJul1CxS8",
        "colab": {
          "base_uri": "https://localhost:8080/",
          "height": 298
        },
        "outputId": "b739d369-5f39-469c-9685-4c439ece6c44"
      },
      "execution_count": null,
      "outputs": [
        {
          "output_type": "execute_result",
          "data": {
            "text/plain": [
              "<matplotlib.legend.Legend at 0x7fc54ba814c0>"
            ]
          },
          "metadata": {},
          "execution_count": 64
        },
        {
          "output_type": "display_data",
          "data": {
            "text/plain": [
              "<Figure size 432x288 with 1 Axes>"
            ],
            "image/png": "[encoded data removed]"
          },
          "metadata": {
            "needs_background": "light"
          }
        }
      ]
    },
    {
      "cell_type": "code",
      "source": [
        "loss = history.history['loss']\n",
        "validation_loss = history.history['val_loss']\n",
        "plt.plot(loss, label='Training Set Loss')\n",
        "plt.plot(validation_loss, label='Validation Set Loss')\n",
        "plt.ylabel('Loss')\n",
        "plt.title('Training and Validation Accuracy Across Epochs')\n",
        "plt.legend()"
      ],
      "metadata": {
        "id": "BY3PuMkhCxUk",
        "colab": {
          "base_uri": "https://localhost:8080/",
          "height": 298
        },
        "outputId": "163a20c9-4ce9-4929-a473-7b6d7e675714"
      },
      "execution_count": null,
      "outputs": [
        {
          "output_type": "execute_result",
          "data": {
            "text/plain": [
              "<matplotlib.legend.Legend at 0x7fc54b77b7f0>"
            ]
          },
          "metadata": {},
          "execution_count": 65
        },
        {
          "output_type": "display_data",
          "data": {
            "text/plain": [
              "<Figure size 432x288 with 1 Axes>"
            ],
            "image/png": "[encoded data removed]"
          },
          "metadata": {
            "needs_background": "light"
          }
        }
      ]
    },
    {
      "cell_type": "code",
      "source": [],
      "metadata": {
        "id": "UPOsM-CxCxYa"
      },
      "execution_count": null,
      "outputs": []
    },
    {
      "cell_type": "code",
      "source": [
        "\n",
        "\n",
        "from sklearn.metrics import confusion_matrix, classification_report\n",
        "\n",
        "y_pred = model.predict(X_test)\n",
        "y_pred = y_pred.argmax(axis=1)\n",
        "\n",
        "confusion_matrix = confusion_matrix(y_test,y_pred)\n",
        "plt.figure(figsize=(15,8))\n",
        "ax = sns.heatmap(confusion_matrix, cmap='flare',annot=True, fmt='d')\n",
        "plt.xlabel(\"Predicted Class\",fontsize=12)\n",
        "plt.ylabel(\"True Class\",fontsize=12)\n",
        "plt.title(\"Neural Networks Confusion Matrix, Layers=15, Epoch =50\",fontsize=12)\n",
        "plt.show()\n",
        "\n",
        "print(classification_report(y_test,y_pred))\n"
      ],
      "metadata": {
        "id": "FkdK1UUsCxaA",
        "colab": {
          "base_uri": "https://localhost:8080/",
          "height": 690
        },
        "outputId": "47884e9d-ed39-40db-9235-93393aff83b0"
      },
      "execution_count": null,
      "outputs": [
        {
          "output_type": "stream",
          "name": "stdout",
          "text": [
            "8/8 [==============================] - 0s 2ms/step\n"
          ]
        },
        {
          "output_type": "display_data",
          "data": {
            "text/plain": [
              "<Figure size 1080x576 with 2 Axes>"
            ],
            "image/png": "[encoded data removed]"
          },
          "metadata": {
            "needs_background": "light"
          }
        },
        {
          "output_type": "stream",
          "name": "stdout",
          "text": [
            "              precision    recall  f1-score   support\n",
            "\n",
            "           0       0.90      0.81      0.85       150\n",
            "           1       0.70      0.83      0.76        81\n",
            "\n",
            "    accuracy                           0.81       231\n",
            "   macro avg       0.80      0.82      0.80       231\n",
            "weighted avg       0.83      0.81      0.82       231\n",
            "\n"
          ]
        }
      ]
    },
    {
      "cell_type": "code",
      "source": [
        "#using epoch 0f 100 and 8 hidden layers\n",
        "X_train, X_test, y_train, y_test = train_test_split(X, y, test_size =\n",
        "0.3, stratify=y, random_state=20)\n",
        "\n",
        "\n",
        "scaler = StandardScaler()\n",
        "X_train = scaler.fit_transform(X_train)\n",
        "X_test = scaler.transform(X_test)\n",
        "\n",
        "\n",
        "\n",
        "model = tf.keras.models.Sequential()\n",
        "\n",
        "model.add(tf.keras.layers.Dense(8,activation='relu',input_shape=(8,)))\n",
        "model.add(tf.keras.layers.Dense(2,activation='sigmoid'))\n",
        "\n",
        "model.compile(optimizer='adam',\n",
        " loss='sparse_categorical_crossentropy',\n",
        " metrics='accuracy')\n",
        "\n",
        "class_weights = {0:1, 1:2}\n",
        "history = model.fit(X_train, y_train, \\\n",
        " batch_size = 15, epochs= 100, \\\n",
        " verbose=2, class_weight=class_weights, \\\n",
        " validation_split=0.3)\n",
        "\n"
      ],
      "metadata": {
        "id": "-yjT1HogCxd2",
        "colab": {
          "base_uri": "https://localhost:8080/"
        },
        "outputId": "3bc6bd66-4e45-4555-d8e3-5fe7435ec9a9"
      },
      "execution_count": null,
      "outputs": [
        {
          "output_type": "stream",
          "name": "stdout",
          "text": [
            "Epoch 1/100\n",
            "25/25 - 1s - loss: 1.0576 - accuracy: 0.3840 - val_loss: 0.8199 - val_accuracy: 0.4321 - 598ms/epoch - 24ms/step\n",
            "Epoch 2/100\n",
            "25/25 - 0s - loss: 0.9883 - accuracy: 0.4560 - val_loss: 0.7587 - val_accuracy: 0.5000 - 73ms/epoch - 3ms/step\n",
            "Epoch 3/100\n",
            "25/25 - 0s - loss: 0.9379 - accuracy: 0.5227 - val_loss: 0.7158 - val_accuracy: 0.5802 - 76ms/epoch - 3ms/step\n",
            "Epoch 4/100\n",
            "25/25 - 0s - loss: 0.8984 - accuracy: 0.5760 - val_loss: 0.6811 - val_accuracy: 0.6111 - 70ms/epoch - 3ms/step\n",
            "Epoch 5/100\n",
            "25/25 - 0s - loss: 0.8684 - accuracy: 0.6027 - val_loss: 0.6514 - val_accuracy: 0.6420 - 73ms/epoch - 3ms/step\n",
            "Epoch 6/100\n",
            "25/25 - 0s - loss: 0.8441 - accuracy: 0.6267 - val_loss: 0.6304 - val_accuracy: 0.6543 - 76ms/epoch - 3ms/step\n",
            "Epoch 7/100\n",
            "25/25 - 0s - loss: 0.8238 - accuracy: 0.6453 - val_loss: 0.6150 - val_accuracy: 0.6790 - 80ms/epoch - 3ms/step\n",
            "Epoch 8/100\n",
            "25/25 - 0s - loss: 0.8081 - accuracy: 0.6560 - val_loss: 0.6006 - val_accuracy: 0.6790 - 77ms/epoch - 3ms/step\n",
            "Epoch 9/100\n",
            "25/25 - 0s - loss: 0.7940 - accuracy: 0.6667 - val_loss: 0.5887 - val_accuracy: 0.6914 - 71ms/epoch - 3ms/step\n",
            "Epoch 10/100\n",
            "25/25 - 0s - loss: 0.7807 - accuracy: 0.6853 - val_loss: 0.5802 - val_accuracy: 0.7037 - 83ms/epoch - 3ms/step\n",
            "Epoch 11/100\n",
            "25/25 - 0s - loss: 0.7706 - accuracy: 0.6907 - val_loss: 0.5711 - val_accuracy: 0.7099 - 75ms/epoch - 3ms/step\n",
            "Epoch 12/100\n",
            "25/25 - 0s - loss: 0.7611 - accuracy: 0.6960 - val_loss: 0.5649 - val_accuracy: 0.7222 - 88ms/epoch - 4ms/step\n",
            "Epoch 13/100\n",
            "25/25 - 0s - loss: 0.7530 - accuracy: 0.7093 - val_loss: 0.5571 - val_accuracy: 0.7407 - 64ms/epoch - 3ms/step\n",
            "Epoch 14/100\n",
            "25/25 - 0s - loss: 0.7456 - accuracy: 0.7093 - val_loss: 0.5526 - val_accuracy: 0.7407 - 72ms/epoch - 3ms/step\n",
            "Epoch 15/100\n",
            "25/25 - 0s - loss: 0.7385 - accuracy: 0.7147 - val_loss: 0.5505 - val_accuracy: 0.7469 - 74ms/epoch - 3ms/step\n",
            "Epoch 16/100\n",
            "25/25 - 0s - loss: 0.7326 - accuracy: 0.7147 - val_loss: 0.5465 - val_accuracy: 0.7469 - 74ms/epoch - 3ms/step\n",
            "Epoch 17/100\n",
            "25/25 - 0s - loss: 0.7269 - accuracy: 0.7333 - val_loss: 0.5432 - val_accuracy: 0.7469 - 72ms/epoch - 3ms/step\n",
            "Epoch 18/100\n",
            "25/25 - 0s - loss: 0.7214 - accuracy: 0.7280 - val_loss: 0.5411 - val_accuracy: 0.7531 - 64ms/epoch - 3ms/step\n",
            "Epoch 19/100\n",
            "25/25 - 0s - loss: 0.7160 - accuracy: 0.7333 - val_loss: 0.5387 - val_accuracy: 0.7469 - 72ms/epoch - 3ms/step\n",
            "Epoch 20/100\n",
            "25/25 - 0s - loss: 0.7112 - accuracy: 0.7360 - val_loss: 0.5379 - val_accuracy: 0.7469 - 72ms/epoch - 3ms/step\n",
            "Epoch 21/100\n",
            "25/25 - 0s - loss: 0.7070 - accuracy: 0.7413 - val_loss: 0.5374 - val_accuracy: 0.7407 - 74ms/epoch - 3ms/step\n",
            "Epoch 22/100\n",
            "25/25 - 0s - loss: 0.7026 - accuracy: 0.7413 - val_loss: 0.5350 - val_accuracy: 0.7407 - 85ms/epoch - 3ms/step\n",
            "Epoch 23/100\n",
            "25/25 - 0s - loss: 0.6985 - accuracy: 0.7413 - val_loss: 0.5354 - val_accuracy: 0.7346 - 65ms/epoch - 3ms/step\n",
            "Epoch 24/100\n",
            "25/25 - 0s - loss: 0.6952 - accuracy: 0.7413 - val_loss: 0.5330 - val_accuracy: 0.7407 - 68ms/epoch - 3ms/step\n",
            "Epoch 25/100\n",
            "25/25 - 0s - loss: 0.6915 - accuracy: 0.7467 - val_loss: 0.5323 - val_accuracy: 0.7407 - 78ms/epoch - 3ms/step\n",
            "Epoch 26/100\n",
            "25/25 - 0s - loss: 0.6888 - accuracy: 0.7440 - val_loss: 0.5315 - val_accuracy: 0.7407 - 66ms/epoch - 3ms/step\n",
            "Epoch 27/100\n",
            "25/25 - 0s - loss: 0.6864 - accuracy: 0.7520 - val_loss: 0.5316 - val_accuracy: 0.7346 - 79ms/epoch - 3ms/step\n",
            "Epoch 28/100\n",
            "25/25 - 0s - loss: 0.6836 - accuracy: 0.7547 - val_loss: 0.5324 - val_accuracy: 0.7346 - 64ms/epoch - 3ms/step\n",
            "Epoch 29/100\n",
            "25/25 - 0s - loss: 0.6813 - accuracy: 0.7520 - val_loss: 0.5314 - val_accuracy: 0.7284 - 124ms/epoch - 5ms/step\n",
            "Epoch 30/100\n",
            "25/25 - 0s - loss: 0.6798 - accuracy: 0.7573 - val_loss: 0.5327 - val_accuracy: 0.7346 - 69ms/epoch - 3ms/step\n",
            "Epoch 31/100\n",
            "25/25 - 0s - loss: 0.6774 - accuracy: 0.7573 - val_loss: 0.5310 - val_accuracy: 0.7284 - 79ms/epoch - 3ms/step\n",
            "Epoch 32/100\n",
            "25/25 - 0s - loss: 0.6756 - accuracy: 0.7573 - val_loss: 0.5296 - val_accuracy: 0.7284 - 72ms/epoch - 3ms/step\n",
            "Epoch 33/100\n",
            "25/25 - 0s - loss: 0.6744 - accuracy: 0.7573 - val_loss: 0.5298 - val_accuracy: 0.7346 - 72ms/epoch - 3ms/step\n",
            "Epoch 34/100\n",
            "25/25 - 0s - loss: 0.6715 - accuracy: 0.7600 - val_loss: 0.5306 - val_accuracy: 0.7346 - 68ms/epoch - 3ms/step\n",
            "Epoch 35/100\n",
            "25/25 - 0s - loss: 0.6705 - accuracy: 0.7600 - val_loss: 0.5324 - val_accuracy: 0.7407 - 67ms/epoch - 3ms/step\n",
            "Epoch 36/100\n",
            "25/25 - 0s - loss: 0.6691 - accuracy: 0.7573 - val_loss: 0.5313 - val_accuracy: 0.7407 - 67ms/epoch - 3ms/step\n",
            "Epoch 37/100\n",
            "25/25 - 0s - loss: 0.6676 - accuracy: 0.7600 - val_loss: 0.5313 - val_accuracy: 0.7346 - 76ms/epoch - 3ms/step\n",
            "Epoch 38/100\n",
            "25/25 - 0s - loss: 0.6661 - accuracy: 0.7627 - val_loss: 0.5325 - val_accuracy: 0.7346 - 76ms/epoch - 3ms/step\n",
            "Epoch 39/100\n",
            "25/25 - 0s - loss: 0.6648 - accuracy: 0.7627 - val_loss: 0.5307 - val_accuracy: 0.7284 - 71ms/epoch - 3ms/step\n",
            "Epoch 40/100\n",
            "25/25 - 0s - loss: 0.6631 - accuracy: 0.7627 - val_loss: 0.5318 - val_accuracy: 0.7346 - 67ms/epoch - 3ms/step\n",
            "Epoch 41/100\n",
            "25/25 - 0s - loss: 0.6623 - accuracy: 0.7600 - val_loss: 0.5314 - val_accuracy: 0.7346 - 76ms/epoch - 3ms/step\n",
            "Epoch 42/100\n",
            "25/25 - 0s - loss: 0.6606 - accuracy: 0.7600 - val_loss: 0.5308 - val_accuracy: 0.7284 - 68ms/epoch - 3ms/step\n",
            "Epoch 43/100\n",
            "25/25 - 0s - loss: 0.6602 - accuracy: 0.7627 - val_loss: 0.5343 - val_accuracy: 0.7346 - 64ms/epoch - 3ms/step\n",
            "Epoch 44/100\n",
            "25/25 - 0s - loss: 0.6587 - accuracy: 0.7600 - val_loss: 0.5320 - val_accuracy: 0.7407 - 79ms/epoch - 3ms/step\n",
            "Epoch 45/100\n",
            "25/25 - 0s - loss: 0.6576 - accuracy: 0.7600 - val_loss: 0.5309 - val_accuracy: 0.7407 - 66ms/epoch - 3ms/step\n",
            "Epoch 46/100\n",
            "25/25 - 0s - loss: 0.6559 - accuracy: 0.7627 - val_loss: 0.5327 - val_accuracy: 0.7407 - 67ms/epoch - 3ms/step\n",
            "Epoch 47/100\n",
            "25/25 - 0s - loss: 0.6547 - accuracy: 0.7653 - val_loss: 0.5323 - val_accuracy: 0.7407 - 65ms/epoch - 3ms/step\n",
            "Epoch 48/100\n",
            "25/25 - 0s - loss: 0.6536 - accuracy: 0.7627 - val_loss: 0.5317 - val_accuracy: 0.7346 - 67ms/epoch - 3ms/step\n",
            "Epoch 49/100\n",
            "25/25 - 0s - loss: 0.6526 - accuracy: 0.7627 - val_loss: 0.5316 - val_accuracy: 0.7284 - 71ms/epoch - 3ms/step\n",
            "Epoch 50/100\n",
            "25/25 - 0s - loss: 0.6517 - accuracy: 0.7627 - val_loss: 0.5322 - val_accuracy: 0.7284 - 75ms/epoch - 3ms/step\n",
            "Epoch 51/100\n",
            "25/25 - 0s - loss: 0.6504 - accuracy: 0.7653 - val_loss: 0.5326 - val_accuracy: 0.7284 - 88ms/epoch - 4ms/step\n",
            "Epoch 52/100\n",
            "25/25 - 0s - loss: 0.6497 - accuracy: 0.7627 - val_loss: 0.5316 - val_accuracy: 0.7346 - 65ms/epoch - 3ms/step\n",
            "Epoch 53/100\n",
            "25/25 - 0s - loss: 0.6490 - accuracy: 0.7600 - val_loss: 0.5317 - val_accuracy: 0.7284 - 67ms/epoch - 3ms/step\n",
            "Epoch 54/100\n",
            "25/25 - 0s - loss: 0.6477 - accuracy: 0.7653 - val_loss: 0.5325 - val_accuracy: 0.7222 - 74ms/epoch - 3ms/step\n",
            "Epoch 55/100\n",
            "25/25 - 0s - loss: 0.6471 - accuracy: 0.7600 - val_loss: 0.5328 - val_accuracy: 0.7222 - 68ms/epoch - 3ms/step\n",
            "Epoch 56/100\n",
            "25/25 - 0s - loss: 0.6465 - accuracy: 0.7600 - val_loss: 0.5321 - val_accuracy: 0.7346 - 87ms/epoch - 3ms/step\n",
            "Epoch 57/100\n",
            "25/25 - 0s - loss: 0.6461 - accuracy: 0.7653 - val_loss: 0.5325 - val_accuracy: 0.7222 - 66ms/epoch - 3ms/step\n",
            "Epoch 58/100\n",
            "25/25 - 0s - loss: 0.6452 - accuracy: 0.7653 - val_loss: 0.5306 - val_accuracy: 0.7284 - 74ms/epoch - 3ms/step\n",
            "Epoch 59/100\n",
            "25/25 - 0s - loss: 0.6440 - accuracy: 0.7627 - val_loss: 0.5316 - val_accuracy: 0.7284 - 67ms/epoch - 3ms/step\n",
            "Epoch 60/100\n",
            "25/25 - 0s - loss: 0.6439 - accuracy: 0.7627 - val_loss: 0.5314 - val_accuracy: 0.7284 - 71ms/epoch - 3ms/step\n",
            "Epoch 61/100\n",
            "25/25 - 0s - loss: 0.6428 - accuracy: 0.7627 - val_loss: 0.5314 - val_accuracy: 0.7284 - 62ms/epoch - 2ms/step\n",
            "Epoch 62/100\n",
            "25/25 - 0s - loss: 0.6422 - accuracy: 0.7653 - val_loss: 0.5317 - val_accuracy: 0.7284 - 66ms/epoch - 3ms/step\n",
            "Epoch 63/100\n",
            "25/25 - 0s - loss: 0.6414 - accuracy: 0.7627 - val_loss: 0.5321 - val_accuracy: 0.7284 - 77ms/epoch - 3ms/step\n",
            "Epoch 64/100\n",
            "25/25 - 0s - loss: 0.6418 - accuracy: 0.7653 - val_loss: 0.5326 - val_accuracy: 0.7222 - 68ms/epoch - 3ms/step\n",
            "Epoch 65/100\n",
            "25/25 - 0s - loss: 0.6405 - accuracy: 0.7627 - val_loss: 0.5315 - val_accuracy: 0.7222 - 78ms/epoch - 3ms/step\n",
            "Epoch 66/100\n",
            "25/25 - 0s - loss: 0.6414 - accuracy: 0.7707 - val_loss: 0.5295 - val_accuracy: 0.7346 - 68ms/epoch - 3ms/step\n",
            "Epoch 67/100\n",
            "25/25 - 0s - loss: 0.6395 - accuracy: 0.7600 - val_loss: 0.5309 - val_accuracy: 0.7160 - 67ms/epoch - 3ms/step\n",
            "Epoch 68/100\n",
            "25/25 - 0s - loss: 0.6393 - accuracy: 0.7653 - val_loss: 0.5324 - val_accuracy: 0.7222 - 62ms/epoch - 2ms/step\n",
            "Epoch 69/100\n",
            "25/25 - 0s - loss: 0.6385 - accuracy: 0.7653 - val_loss: 0.5313 - val_accuracy: 0.7222 - 79ms/epoch - 3ms/step\n",
            "Epoch 70/100\n",
            "25/25 - 0s - loss: 0.6375 - accuracy: 0.7707 - val_loss: 0.5313 - val_accuracy: 0.7222 - 71ms/epoch - 3ms/step\n",
            "Epoch 71/100\n",
            "25/25 - 0s - loss: 0.6384 - accuracy: 0.7707 - val_loss: 0.5302 - val_accuracy: 0.7160 - 64ms/epoch - 3ms/step\n",
            "Epoch 72/100\n",
            "25/25 - 0s - loss: 0.6374 - accuracy: 0.7707 - val_loss: 0.5300 - val_accuracy: 0.7160 - 74ms/epoch - 3ms/step\n",
            "Epoch 73/100\n",
            "25/25 - 0s - loss: 0.6369 - accuracy: 0.7760 - val_loss: 0.5299 - val_accuracy: 0.7222 - 70ms/epoch - 3ms/step\n",
            "Epoch 74/100\n",
            "25/25 - 0s - loss: 0.6356 - accuracy: 0.7733 - val_loss: 0.5303 - val_accuracy: 0.7160 - 73ms/epoch - 3ms/step\n",
            "Epoch 75/100\n",
            "25/25 - 0s - loss: 0.6357 - accuracy: 0.7680 - val_loss: 0.5301 - val_accuracy: 0.7099 - 65ms/epoch - 3ms/step\n",
            "Epoch 76/100\n",
            "25/25 - 0s - loss: 0.6354 - accuracy: 0.7680 - val_loss: 0.5312 - val_accuracy: 0.7222 - 80ms/epoch - 3ms/step\n",
            "Epoch 77/100\n",
            "25/25 - 0s - loss: 0.6348 - accuracy: 0.7733 - val_loss: 0.5306 - val_accuracy: 0.7160 - 73ms/epoch - 3ms/step\n",
            "Epoch 78/100\n",
            "25/25 - 0s - loss: 0.6337 - accuracy: 0.7760 - val_loss: 0.5302 - val_accuracy: 0.7222 - 74ms/epoch - 3ms/step\n",
            "Epoch 79/100\n",
            "25/25 - 0s - loss: 0.6336 - accuracy: 0.7707 - val_loss: 0.5301 - val_accuracy: 0.7160 - 115ms/epoch - 5ms/step\n",
            "Epoch 80/100\n",
            "25/25 - 0s - loss: 0.6338 - accuracy: 0.7653 - val_loss: 0.5310 - val_accuracy: 0.7160 - 76ms/epoch - 3ms/step\n",
            "Epoch 81/100\n",
            "25/25 - 0s - loss: 0.6329 - accuracy: 0.7760 - val_loss: 0.5297 - val_accuracy: 0.7160 - 78ms/epoch - 3ms/step\n",
            "Epoch 82/100\n",
            "25/25 - 0s - loss: 0.6327 - accuracy: 0.7760 - val_loss: 0.5298 - val_accuracy: 0.7099 - 71ms/epoch - 3ms/step\n",
            "Epoch 83/100\n",
            "25/25 - 0s - loss: 0.6319 - accuracy: 0.7760 - val_loss: 0.5309 - val_accuracy: 0.7160 - 75ms/epoch - 3ms/step\n",
            "Epoch 84/100\n",
            "25/25 - 0s - loss: 0.6318 - accuracy: 0.7760 - val_loss: 0.5308 - val_accuracy: 0.7099 - 66ms/epoch - 3ms/step\n",
            "Epoch 85/100\n",
            "25/25 - 0s - loss: 0.6318 - accuracy: 0.7733 - val_loss: 0.5326 - val_accuracy: 0.7222 - 65ms/epoch - 3ms/step\n",
            "Epoch 86/100\n",
            "25/25 - 0s - loss: 0.6307 - accuracy: 0.7760 - val_loss: 0.5307 - val_accuracy: 0.7099 - 68ms/epoch - 3ms/step\n",
            "Epoch 87/100\n",
            "25/25 - 0s - loss: 0.6310 - accuracy: 0.7760 - val_loss: 0.5300 - val_accuracy: 0.7099 - 82ms/epoch - 3ms/step\n",
            "Epoch 88/100\n",
            "25/25 - 0s - loss: 0.6305 - accuracy: 0.7733 - val_loss: 0.5324 - val_accuracy: 0.7160 - 74ms/epoch - 3ms/step\n",
            "Epoch 89/100\n",
            "25/25 - 0s - loss: 0.6299 - accuracy: 0.7733 - val_loss: 0.5304 - val_accuracy: 0.7037 - 72ms/epoch - 3ms/step\n",
            "Epoch 90/100\n",
            "25/25 - 0s - loss: 0.6290 - accuracy: 0.7733 - val_loss: 0.5305 - val_accuracy: 0.7037 - 135ms/epoch - 5ms/step\n",
            "Epoch 91/100\n",
            "25/25 - 0s - loss: 0.6293 - accuracy: 0.7733 - val_loss: 0.5317 - val_accuracy: 0.7160 - 107ms/epoch - 4ms/step\n",
            "Epoch 92/100\n",
            "25/25 - 0s - loss: 0.6287 - accuracy: 0.7707 - val_loss: 0.5311 - val_accuracy: 0.7160 - 93ms/epoch - 4ms/step\n",
            "Epoch 93/100\n",
            "25/25 - 0s - loss: 0.6283 - accuracy: 0.7760 - val_loss: 0.5311 - val_accuracy: 0.7099 - 102ms/epoch - 4ms/step\n",
            "Epoch 94/100\n",
            "25/25 - 0s - loss: 0.6278 - accuracy: 0.7760 - val_loss: 0.5314 - val_accuracy: 0.7099 - 90ms/epoch - 4ms/step\n",
            "Epoch 95/100\n",
            "25/25 - 0s - loss: 0.6278 - accuracy: 0.7733 - val_loss: 0.5306 - val_accuracy: 0.7099 - 109ms/epoch - 4ms/step\n",
            "Epoch 96/100\n",
            "25/25 - 0s - loss: 0.6274 - accuracy: 0.7760 - val_loss: 0.5309 - val_accuracy: 0.7099 - 109ms/epoch - 4ms/step\n",
            "Epoch 97/100\n",
            "25/25 - 0s - loss: 0.6272 - accuracy: 0.7707 - val_loss: 0.5314 - val_accuracy: 0.7160 - 90ms/epoch - 4ms/step\n",
            "Epoch 98/100\n",
            "25/25 - 0s - loss: 0.6267 - accuracy: 0.7760 - val_loss: 0.5311 - val_accuracy: 0.7160 - 95ms/epoch - 4ms/step\n",
            "Epoch 99/100\n",
            "25/25 - 0s - loss: 0.6271 - accuracy: 0.7760 - val_loss: 0.5302 - val_accuracy: 0.7037 - 108ms/epoch - 4ms/step\n",
            "Epoch 100/100\n",
            "25/25 - 0s - loss: 0.6268 - accuracy: 0.7707 - val_loss: 0.5307 - val_accuracy: 0.7099 - 116ms/epoch - 5ms/step\n"
          ]
        }
      ]
    },
    {
      "cell_type": "code",
      "source": [
        "accuracy = history.history['accuracy']\n",
        "validation_accuracy = history.history['val_accuracy']\n",
        "plt.plot(accuracy, label='Training Set Accuracy')\n",
        "plt.plot(validation_accuracy, label='Validation Set Accuracy')\n",
        "plt.ylabel('Accuracy')\n",
        "plt.ylim([min(plt.ylim()),1])\n",
        "plt.title('Training and Validation Accuracy Across Epochs')\n",
        "plt.legend()"
      ],
      "metadata": {
        "id": "gt1WyC3fCxff",
        "colab": {
          "base_uri": "https://localhost:8080/",
          "height": 298
        },
        "outputId": "8b73685d-1b46-4354-ee11-460beff7c77d"
      },
      "execution_count": null,
      "outputs": [
        {
          "output_type": "execute_result",
          "data": {
            "text/plain": [
              "<matplotlib.legend.Legend at 0x7fc54b722220>"
            ]
          },
          "metadata": {},
          "execution_count": 68
        },
        {
          "output_type": "display_data",
          "data": {
            "text/plain": [
              "<Figure size 432x288 with 1 Axes>"
            ],
            "image/png": "[encoded data removed]"
          },
          "metadata": {
            "needs_background": "light"
          }
        }
      ]
    },
    {
      "cell_type": "code",
      "source": [
        "loss = history.history['loss']\n",
        "validation_loss = history.history['val_loss']\n",
        "plt.plot(loss, label='Training Set Loss')\n",
        "plt.plot(validation_loss, label='Validation Set Loss')\n",
        "plt.ylabel('Loss')\n",
        "plt.title('Training and Validation Accuracy Across Epochs')\n",
        "plt.legend()"
      ],
      "metadata": {
        "id": "-17u-VgnCxjI",
        "colab": {
          "base_uri": "https://localhost:8080/",
          "height": 298
        },
        "outputId": "ee841636-860b-4ef5-af4b-715473973f98"
      },
      "execution_count": null,
      "outputs": [
        {
          "output_type": "execute_result",
          "data": {
            "text/plain": [
              "<matplotlib.legend.Legend at 0x7fc54b50b7c0>"
            ]
          },
          "metadata": {},
          "execution_count": 69
        },
        {
          "output_type": "display_data",
          "data": {
            "text/plain": [
              "<Figure size 432x288 with 1 Axes>"
            ],
            "image/png": "[encoded data removed]"
          },
          "metadata": {
            "needs_background": "light"
          }
        }
      ]
    },
    {
      "cell_type": "code",
      "source": [
        "\n",
        "\n",
        "from sklearn.metrics import confusion_matrix, classification_report\n",
        "\n",
        "y_pred = model.predict(X_test)\n",
        "y_pred = y_pred.argmax(axis=1)\n",
        "\n",
        "confusion_matrix = confusion_matrix(y_test,y_pred)\n",
        "plt.figure(figsize=(15,8))\n",
        "ax = sns.heatmap(confusion_matrix, cmap='flare',annot=True, fmt='d')\n",
        "plt.xlabel(\"Predicted Class\",fontsize=12)\n",
        "plt.ylabel(\"True Class\",fontsize=12)\n",
        "plt.title(\"Neural Networks Confusion Matrix, Layers=8, Epoch =100\",fontsize=12)\n",
        "plt.show()\n",
        "\n",
        "print(classification_report(y_test,y_pred))\n"
      ],
      "metadata": {
        "id": "tK004kaxCxk9",
        "colab": {
          "base_uri": "https://localhost:8080/",
          "height": 690
        },
        "outputId": "db146b17-106a-4a22-934c-4c5da8191b63"
      },
      "execution_count": null,
      "outputs": [
        {
          "output_type": "stream",
          "name": "stdout",
          "text": [
            "8/8 [==============================] - 0s 2ms/step\n"
          ]
        },
        {
          "output_type": "display_data",
          "data": {
            "text/plain": [
              "<Figure size 1080x576 with 2 Axes>"
            ],
            "image/png": "[encoded data removed]"
          },
          "metadata": {
            "needs_background": "light"
          }
        },
        {
          "output_type": "stream",
          "name": "stdout",
          "text": [
            "              precision    recall  f1-score   support\n",
            "\n",
            "           0       0.88      0.76      0.81       150\n",
            "           1       0.64      0.80      0.71        81\n",
            "\n",
            "    accuracy                           0.77       231\n",
            "   macro avg       0.76      0.78      0.76       231\n",
            "weighted avg       0.80      0.77      0.78       231\n",
            "\n"
          ]
        }
      ]
    },
    {
      "cell_type": "code",
      "source": [
        "\n"
      ],
      "metadata": {
        "id": "WsWYvvqoCxqJ"
      },
      "execution_count": null,
      "outputs": []
    },
    {
      "cell_type": "code",
      "source": [
        "#using epoch 0f 100 and 15 hidden layers\n",
        "X_train, X_test, y_train, y_test = train_test_split(X, y, test_size =\n",
        "0.3, stratify=y, random_state=20)\n",
        "\n",
        "\n",
        "scaler = StandardScaler()\n",
        "X_train = scaler.fit_transform(X_train)\n",
        "X_test = scaler.transform(X_test)\n",
        "\n",
        "\n",
        "\n",
        "model = tf.keras.models.Sequential()\n",
        "\n",
        "model.add(tf.keras.layers.Dense(15,activation='relu',input_shape=(8,)))\n",
        "model.add(tf.keras.layers.Dense(2,activation='sigmoid'))\n",
        "\n",
        "model.compile(optimizer='adam',\n",
        " loss='sparse_categorical_crossentropy',\n",
        " metrics='accuracy')\n",
        "\n",
        "class_weights = {0:1, 1:2}\n",
        "history = model.fit(X_train, y_train, \\\n",
        " batch_size = 15, epochs= 100, \\\n",
        " verbose=2, class_weight=class_weights, \\\n",
        " validation_split=0.3)\n"
      ],
      "metadata": {
        "id": "ByWarMm4Cxt8",
        "colab": {
          "base_uri": "https://localhost:8080/"
        },
        "outputId": "a39dc653-a28e-4947-c73c-79a5726d8b8c"
      },
      "execution_count": null,
      "outputs": [
        {
          "output_type": "stream",
          "name": "stdout",
          "text": [
            "Epoch 1/100\n",
            "25/25 - 1s - loss: 1.4209 - accuracy: 0.3680 - val_loss: 1.0337 - val_accuracy: 0.3765 - 585ms/epoch - 23ms/step\n",
            "Epoch 2/100\n",
            "25/25 - 0s - loss: 1.2368 - accuracy: 0.4000 - val_loss: 0.8775 - val_accuracy: 0.4383 - 69ms/epoch - 3ms/step\n",
            "Epoch 3/100\n",
            "25/25 - 0s - loss: 1.1010 - accuracy: 0.4320 - val_loss: 0.7507 - val_accuracy: 0.5309 - 71ms/epoch - 3ms/step\n",
            "Epoch 4/100\n",
            "25/25 - 0s - loss: 0.9980 - accuracy: 0.4960 - val_loss: 0.6672 - val_accuracy: 0.6111 - 67ms/epoch - 3ms/step\n",
            "Epoch 5/100\n",
            "25/25 - 0s - loss: 0.9244 - accuracy: 0.5680 - val_loss: 0.6102 - val_accuracy: 0.6667 - 86ms/epoch - 3ms/step\n",
            "Epoch 6/100\n",
            "25/25 - 0s - loss: 0.8702 - accuracy: 0.6213 - val_loss: 0.5700 - val_accuracy: 0.7099 - 76ms/epoch - 3ms/step\n",
            "Epoch 7/100\n",
            "25/25 - 0s - loss: 0.8298 - accuracy: 0.6560 - val_loss: 0.5473 - val_accuracy: 0.7160 - 74ms/epoch - 3ms/step\n",
            "Epoch 8/100\n",
            "25/25 - 0s - loss: 0.7997 - accuracy: 0.6800 - val_loss: 0.5291 - val_accuracy: 0.7284 - 135ms/epoch - 5ms/step\n",
            "Epoch 9/100\n",
            "25/25 - 0s - loss: 0.7742 - accuracy: 0.6960 - val_loss: 0.5215 - val_accuracy: 0.7407 - 85ms/epoch - 3ms/step\n",
            "Epoch 10/100\n",
            "25/25 - 0s - loss: 0.7554 - accuracy: 0.7067 - val_loss: 0.5144 - val_accuracy: 0.7346 - 68ms/epoch - 3ms/step\n",
            "Epoch 11/100\n",
            "25/25 - 0s - loss: 0.7388 - accuracy: 0.7147 - val_loss: 0.5072 - val_accuracy: 0.7284 - 73ms/epoch - 3ms/step\n",
            "Epoch 12/100\n",
            "25/25 - 0s - loss: 0.7243 - accuracy: 0.7280 - val_loss: 0.5029 - val_accuracy: 0.7284 - 81ms/epoch - 3ms/step\n",
            "Epoch 13/100\n",
            "25/25 - 0s - loss: 0.7124 - accuracy: 0.7360 - val_loss: 0.5034 - val_accuracy: 0.7346 - 67ms/epoch - 3ms/step\n",
            "Epoch 14/100\n",
            "25/25 - 0s - loss: 0.7018 - accuracy: 0.7360 - val_loss: 0.4995 - val_accuracy: 0.7284 - 89ms/epoch - 4ms/step\n",
            "Epoch 15/100\n",
            "25/25 - 0s - loss: 0.6944 - accuracy: 0.7387 - val_loss: 0.4979 - val_accuracy: 0.7284 - 77ms/epoch - 3ms/step\n",
            "Epoch 16/100\n",
            "25/25 - 0s - loss: 0.6862 - accuracy: 0.7440 - val_loss: 0.4971 - val_accuracy: 0.7284 - 76ms/epoch - 3ms/step\n",
            "Epoch 17/100\n",
            "25/25 - 0s - loss: 0.6795 - accuracy: 0.7493 - val_loss: 0.4976 - val_accuracy: 0.7346 - 84ms/epoch - 3ms/step\n",
            "Epoch 18/100\n",
            "25/25 - 0s - loss: 0.6753 - accuracy: 0.7493 - val_loss: 0.4991 - val_accuracy: 0.7407 - 82ms/epoch - 3ms/step\n",
            "Epoch 19/100\n",
            "25/25 - 0s - loss: 0.6687 - accuracy: 0.7520 - val_loss: 0.4952 - val_accuracy: 0.7407 - 69ms/epoch - 3ms/step\n",
            "Epoch 20/100\n",
            "25/25 - 0s - loss: 0.6643 - accuracy: 0.7520 - val_loss: 0.4965 - val_accuracy: 0.7469 - 88ms/epoch - 4ms/step\n",
            "Epoch 21/100\n",
            "25/25 - 0s - loss: 0.6605 - accuracy: 0.7547 - val_loss: 0.4973 - val_accuracy: 0.7469 - 75ms/epoch - 3ms/step\n",
            "Epoch 22/100\n",
            "25/25 - 0s - loss: 0.6568 - accuracy: 0.7547 - val_loss: 0.4977 - val_accuracy: 0.7407 - 75ms/epoch - 3ms/step\n",
            "Epoch 23/100\n",
            "25/25 - 0s - loss: 0.6534 - accuracy: 0.7600 - val_loss: 0.4972 - val_accuracy: 0.7346 - 77ms/epoch - 3ms/step\n",
            "Epoch 24/100\n",
            "25/25 - 0s - loss: 0.6504 - accuracy: 0.7573 - val_loss: 0.4989 - val_accuracy: 0.7407 - 76ms/epoch - 3ms/step\n",
            "Epoch 25/100\n",
            "25/25 - 0s - loss: 0.6480 - accuracy: 0.7600 - val_loss: 0.5010 - val_accuracy: 0.7469 - 75ms/epoch - 3ms/step\n",
            "Epoch 26/100\n",
            "25/25 - 0s - loss: 0.6454 - accuracy: 0.7627 - val_loss: 0.4990 - val_accuracy: 0.7407 - 85ms/epoch - 3ms/step\n",
            "Epoch 27/100\n",
            "25/25 - 0s - loss: 0.6425 - accuracy: 0.7627 - val_loss: 0.5002 - val_accuracy: 0.7407 - 67ms/epoch - 3ms/step\n",
            "Epoch 28/100\n",
            "25/25 - 0s - loss: 0.6401 - accuracy: 0.7627 - val_loss: 0.4997 - val_accuracy: 0.7407 - 85ms/epoch - 3ms/step\n",
            "Epoch 29/100\n",
            "25/25 - 0s - loss: 0.6380 - accuracy: 0.7627 - val_loss: 0.5014 - val_accuracy: 0.7407 - 68ms/epoch - 3ms/step\n",
            "Epoch 30/100\n",
            "25/25 - 0s - loss: 0.6360 - accuracy: 0.7600 - val_loss: 0.5019 - val_accuracy: 0.7407 - 72ms/epoch - 3ms/step\n",
            "Epoch 31/100\n",
            "25/25 - 0s - loss: 0.6341 - accuracy: 0.7600 - val_loss: 0.5023 - val_accuracy: 0.7407 - 67ms/epoch - 3ms/step\n",
            "Epoch 32/100\n",
            "25/25 - 0s - loss: 0.6325 - accuracy: 0.7547 - val_loss: 0.5031 - val_accuracy: 0.7407 - 77ms/epoch - 3ms/step\n",
            "Epoch 33/100\n",
            "25/25 - 0s - loss: 0.6302 - accuracy: 0.7573 - val_loss: 0.5033 - val_accuracy: 0.7407 - 80ms/epoch - 3ms/step\n",
            "Epoch 34/100\n",
            "25/25 - 0s - loss: 0.6284 - accuracy: 0.7600 - val_loss: 0.5029 - val_accuracy: 0.7531 - 66ms/epoch - 3ms/step\n",
            "Epoch 35/100\n",
            "25/25 - 0s - loss: 0.6273 - accuracy: 0.7573 - val_loss: 0.5027 - val_accuracy: 0.7531 - 77ms/epoch - 3ms/step\n",
            "Epoch 36/100\n",
            "25/25 - 0s - loss: 0.6254 - accuracy: 0.7573 - val_loss: 0.5047 - val_accuracy: 0.7469 - 80ms/epoch - 3ms/step\n",
            "Epoch 37/100\n",
            "25/25 - 0s - loss: 0.6236 - accuracy: 0.7547 - val_loss: 0.5034 - val_accuracy: 0.7469 - 78ms/epoch - 3ms/step\n",
            "Epoch 38/100\n",
            "25/25 - 0s - loss: 0.6228 - accuracy: 0.7547 - val_loss: 0.5030 - val_accuracy: 0.7407 - 73ms/epoch - 3ms/step\n",
            "Epoch 39/100\n",
            "25/25 - 0s - loss: 0.6213 - accuracy: 0.7573 - val_loss: 0.5041 - val_accuracy: 0.7469 - 76ms/epoch - 3ms/step\n",
            "Epoch 40/100\n",
            "25/25 - 0s - loss: 0.6197 - accuracy: 0.7547 - val_loss: 0.5052 - val_accuracy: 0.7469 - 74ms/epoch - 3ms/step\n",
            "Epoch 41/100\n",
            "25/25 - 0s - loss: 0.6184 - accuracy: 0.7573 - val_loss: 0.5050 - val_accuracy: 0.7407 - 77ms/epoch - 3ms/step\n",
            "Epoch 42/100\n",
            "25/25 - 0s - loss: 0.6170 - accuracy: 0.7573 - val_loss: 0.5047 - val_accuracy: 0.7407 - 80ms/epoch - 3ms/step\n",
            "Epoch 43/100\n",
            "25/25 - 0s - loss: 0.6160 - accuracy: 0.7600 - val_loss: 0.5045 - val_accuracy: 0.7407 - 79ms/epoch - 3ms/step\n",
            "Epoch 44/100\n",
            "25/25 - 0s - loss: 0.6147 - accuracy: 0.7600 - val_loss: 0.5052 - val_accuracy: 0.7469 - 67ms/epoch - 3ms/step\n",
            "Epoch 45/100\n",
            "25/25 - 0s - loss: 0.6134 - accuracy: 0.7600 - val_loss: 0.5060 - val_accuracy: 0.7346 - 116ms/epoch - 5ms/step\n",
            "Epoch 46/100\n",
            "25/25 - 0s - loss: 0.6124 - accuracy: 0.7627 - val_loss: 0.5049 - val_accuracy: 0.7469 - 69ms/epoch - 3ms/step\n",
            "Epoch 47/100\n",
            "25/25 - 0s - loss: 0.6116 - accuracy: 0.7653 - val_loss: 0.5045 - val_accuracy: 0.7346 - 77ms/epoch - 3ms/step\n",
            "Epoch 48/100\n",
            "25/25 - 0s - loss: 0.6100 - accuracy: 0.7680 - val_loss: 0.5057 - val_accuracy: 0.7346 - 77ms/epoch - 3ms/step\n",
            "Epoch 49/100\n",
            "25/25 - 0s - loss: 0.6088 - accuracy: 0.7707 - val_loss: 0.5049 - val_accuracy: 0.7407 - 75ms/epoch - 3ms/step\n",
            "Epoch 50/100\n",
            "25/25 - 0s - loss: 0.6078 - accuracy: 0.7680 - val_loss: 0.5068 - val_accuracy: 0.7469 - 74ms/epoch - 3ms/step\n",
            "Epoch 51/100\n",
            "25/25 - 0s - loss: 0.6066 - accuracy: 0.7707 - val_loss: 0.5047 - val_accuracy: 0.7469 - 85ms/epoch - 3ms/step\n",
            "Epoch 52/100\n",
            "25/25 - 0s - loss: 0.6055 - accuracy: 0.7707 - val_loss: 0.5064 - val_accuracy: 0.7407 - 77ms/epoch - 3ms/step\n",
            "Epoch 53/100\n",
            "25/25 - 0s - loss: 0.6038 - accuracy: 0.7707 - val_loss: 0.5055 - val_accuracy: 0.7407 - 79ms/epoch - 3ms/step\n",
            "Epoch 54/100\n",
            "25/25 - 0s - loss: 0.6040 - accuracy: 0.7653 - val_loss: 0.5058 - val_accuracy: 0.7531 - 82ms/epoch - 3ms/step\n",
            "Epoch 55/100\n",
            "25/25 - 0s - loss: 0.6018 - accuracy: 0.7707 - val_loss: 0.5055 - val_accuracy: 0.7531 - 72ms/epoch - 3ms/step\n",
            "Epoch 56/100\n",
            "25/25 - 0s - loss: 0.6024 - accuracy: 0.7760 - val_loss: 0.5061 - val_accuracy: 0.7531 - 77ms/epoch - 3ms/step\n",
            "Epoch 57/100\n",
            "25/25 - 0s - loss: 0.6000 - accuracy: 0.7733 - val_loss: 0.5063 - val_accuracy: 0.7593 - 75ms/epoch - 3ms/step\n",
            "Epoch 58/100\n",
            "25/25 - 0s - loss: 0.5985 - accuracy: 0.7733 - val_loss: 0.5051 - val_accuracy: 0.7531 - 82ms/epoch - 3ms/step\n",
            "Epoch 59/100\n",
            "25/25 - 0s - loss: 0.5993 - accuracy: 0.7680 - val_loss: 0.5071 - val_accuracy: 0.7531 - 75ms/epoch - 3ms/step\n",
            "Epoch 60/100\n",
            "25/25 - 0s - loss: 0.5969 - accuracy: 0.7733 - val_loss: 0.5063 - val_accuracy: 0.7469 - 66ms/epoch - 3ms/step\n",
            "Epoch 61/100\n",
            "25/25 - 0s - loss: 0.5960 - accuracy: 0.7733 - val_loss: 0.5057 - val_accuracy: 0.7593 - 71ms/epoch - 3ms/step\n",
            "Epoch 62/100\n",
            "25/25 - 0s - loss: 0.5949 - accuracy: 0.7733 - val_loss: 0.5060 - val_accuracy: 0.7593 - 76ms/epoch - 3ms/step\n",
            "Epoch 63/100\n",
            "25/25 - 0s - loss: 0.5940 - accuracy: 0.7760 - val_loss: 0.5061 - val_accuracy: 0.7469 - 72ms/epoch - 3ms/step\n",
            "Epoch 64/100\n",
            "25/25 - 0s - loss: 0.5937 - accuracy: 0.7733 - val_loss: 0.5075 - val_accuracy: 0.7469 - 72ms/epoch - 3ms/step\n",
            "Epoch 65/100\n",
            "25/25 - 0s - loss: 0.5918 - accuracy: 0.7733 - val_loss: 0.5065 - val_accuracy: 0.7469 - 82ms/epoch - 3ms/step\n",
            "Epoch 66/100\n",
            "25/25 - 0s - loss: 0.5916 - accuracy: 0.7733 - val_loss: 0.5079 - val_accuracy: 0.7469 - 73ms/epoch - 3ms/step\n",
            "Epoch 67/100\n",
            "25/25 - 0s - loss: 0.5908 - accuracy: 0.7760 - val_loss: 0.5059 - val_accuracy: 0.7469 - 69ms/epoch - 3ms/step\n",
            "Epoch 68/100\n",
            "25/25 - 0s - loss: 0.5896 - accuracy: 0.7733 - val_loss: 0.5072 - val_accuracy: 0.7346 - 88ms/epoch - 4ms/step\n",
            "Epoch 69/100\n",
            "25/25 - 0s - loss: 0.5882 - accuracy: 0.7733 - val_loss: 0.5085 - val_accuracy: 0.7407 - 67ms/epoch - 3ms/step\n",
            "Epoch 70/100\n",
            "25/25 - 0s - loss: 0.5871 - accuracy: 0.7760 - val_loss: 0.5075 - val_accuracy: 0.7407 - 84ms/epoch - 3ms/step\n",
            "Epoch 71/100\n",
            "25/25 - 0s - loss: 0.5862 - accuracy: 0.7760 - val_loss: 0.5080 - val_accuracy: 0.7407 - 64ms/epoch - 3ms/step\n",
            "Epoch 72/100\n",
            "25/25 - 0s - loss: 0.5865 - accuracy: 0.7760 - val_loss: 0.5065 - val_accuracy: 0.7407 - 68ms/epoch - 3ms/step\n",
            "Epoch 73/100\n",
            "25/25 - 0s - loss: 0.5848 - accuracy: 0.7760 - val_loss: 0.5079 - val_accuracy: 0.7346 - 83ms/epoch - 3ms/step\n",
            "Epoch 74/100\n",
            "25/25 - 0s - loss: 0.5831 - accuracy: 0.7760 - val_loss: 0.5085 - val_accuracy: 0.7407 - 70ms/epoch - 3ms/step\n",
            "Epoch 75/100\n",
            "25/25 - 0s - loss: 0.5830 - accuracy: 0.7813 - val_loss: 0.5107 - val_accuracy: 0.7469 - 75ms/epoch - 3ms/step\n",
            "Epoch 76/100\n",
            "25/25 - 0s - loss: 0.5834 - accuracy: 0.7813 - val_loss: 0.5084 - val_accuracy: 0.7346 - 75ms/epoch - 3ms/step\n",
            "Epoch 77/100\n",
            "25/25 - 0s - loss: 0.5812 - accuracy: 0.7840 - val_loss: 0.5079 - val_accuracy: 0.7469 - 74ms/epoch - 3ms/step\n",
            "Epoch 78/100\n",
            "25/25 - 0s - loss: 0.5818 - accuracy: 0.7840 - val_loss: 0.5112 - val_accuracy: 0.7407 - 79ms/epoch - 3ms/step\n",
            "Epoch 79/100\n",
            "25/25 - 0s - loss: 0.5796 - accuracy: 0.7840 - val_loss: 0.5093 - val_accuracy: 0.7469 - 67ms/epoch - 3ms/step\n",
            "Epoch 80/100\n",
            "25/25 - 0s - loss: 0.5793 - accuracy: 0.7867 - val_loss: 0.5111 - val_accuracy: 0.7407 - 76ms/epoch - 3ms/step\n",
            "Epoch 81/100\n",
            "25/25 - 0s - loss: 0.5774 - accuracy: 0.7867 - val_loss: 0.5108 - val_accuracy: 0.7407 - 68ms/epoch - 3ms/step\n",
            "Epoch 82/100\n",
            "25/25 - 0s - loss: 0.5769 - accuracy: 0.7867 - val_loss: 0.5112 - val_accuracy: 0.7407 - 78ms/epoch - 3ms/step\n",
            "Epoch 83/100\n",
            "25/25 - 0s - loss: 0.5758 - accuracy: 0.7867 - val_loss: 0.5113 - val_accuracy: 0.7407 - 85ms/epoch - 3ms/step\n",
            "Epoch 84/100\n",
            "25/25 - 0s - loss: 0.5749 - accuracy: 0.7840 - val_loss: 0.5112 - val_accuracy: 0.7407 - 75ms/epoch - 3ms/step\n",
            "Epoch 85/100\n",
            "25/25 - 0s - loss: 0.5746 - accuracy: 0.7840 - val_loss: 0.5119 - val_accuracy: 0.7407 - 90ms/epoch - 4ms/step\n",
            "Epoch 86/100\n",
            "25/25 - 0s - loss: 0.5736 - accuracy: 0.7867 - val_loss: 0.5129 - val_accuracy: 0.7407 - 67ms/epoch - 3ms/step\n",
            "Epoch 87/100\n",
            "25/25 - 0s - loss: 0.5725 - accuracy: 0.7867 - val_loss: 0.5132 - val_accuracy: 0.7346 - 80ms/epoch - 3ms/step\n",
            "Epoch 88/100\n",
            "25/25 - 0s - loss: 0.5715 - accuracy: 0.7893 - val_loss: 0.5111 - val_accuracy: 0.7469 - 70ms/epoch - 3ms/step\n",
            "Epoch 89/100\n",
            "25/25 - 0s - loss: 0.5712 - accuracy: 0.7840 - val_loss: 0.5130 - val_accuracy: 0.7469 - 84ms/epoch - 3ms/step\n",
            "Epoch 90/100\n",
            "25/25 - 0s - loss: 0.5707 - accuracy: 0.7840 - val_loss: 0.5138 - val_accuracy: 0.7407 - 80ms/epoch - 3ms/step\n",
            "Epoch 91/100\n",
            "25/25 - 0s - loss: 0.5689 - accuracy: 0.7867 - val_loss: 0.5118 - val_accuracy: 0.7407 - 81ms/epoch - 3ms/step\n",
            "Epoch 92/100\n",
            "25/25 - 0s - loss: 0.5690 - accuracy: 0.7893 - val_loss: 0.5140 - val_accuracy: 0.7407 - 67ms/epoch - 3ms/step\n",
            "Epoch 93/100\n",
            "25/25 - 0s - loss: 0.5678 - accuracy: 0.7867 - val_loss: 0.5143 - val_accuracy: 0.7469 - 79ms/epoch - 3ms/step\n",
            "Epoch 94/100\n",
            "25/25 - 0s - loss: 0.5678 - accuracy: 0.7867 - val_loss: 0.5159 - val_accuracy: 0.7531 - 75ms/epoch - 3ms/step\n",
            "Epoch 95/100\n",
            "25/25 - 0s - loss: 0.5667 - accuracy: 0.7840 - val_loss: 0.5157 - val_accuracy: 0.7407 - 76ms/epoch - 3ms/step\n",
            "Epoch 96/100\n",
            "25/25 - 0s - loss: 0.5670 - accuracy: 0.7867 - val_loss: 0.5159 - val_accuracy: 0.7469 - 85ms/epoch - 3ms/step\n",
            "Epoch 97/100\n",
            "25/25 - 0s - loss: 0.5649 - accuracy: 0.7813 - val_loss: 0.5139 - val_accuracy: 0.7346 - 73ms/epoch - 3ms/step\n",
            "Epoch 98/100\n",
            "25/25 - 0s - loss: 0.5642 - accuracy: 0.7840 - val_loss: 0.5154 - val_accuracy: 0.7469 - 86ms/epoch - 3ms/step\n",
            "Epoch 99/100\n",
            "25/25 - 0s - loss: 0.5646 - accuracy: 0.7840 - val_loss: 0.5163 - val_accuracy: 0.7531 - 65ms/epoch - 3ms/step\n",
            "Epoch 100/100\n",
            "25/25 - 0s - loss: 0.5624 - accuracy: 0.7867 - val_loss: 0.5160 - val_accuracy: 0.7469 - 77ms/epoch - 3ms/step\n"
          ]
        }
      ]
    },
    {
      "cell_type": "code",
      "source": [
        "accuracy = history.history['accuracy']\n",
        "validation_accuracy = history.history['val_accuracy']\n",
        "plt.plot(accuracy, label='Training Set Accuracy')\n",
        "plt.plot(validation_accuracy, label='Validation Set Accuracy')\n",
        "plt.ylabel('Accuracy')\n",
        "plt.ylim([min(plt.ylim()),1])\n",
        "plt.title('Training and Validation Accuracy Across Epochs')\n",
        "plt.legend()"
      ],
      "metadata": {
        "id": "NDb-otYs3e17",
        "colab": {
          "base_uri": "https://localhost:8080/",
          "height": 298
        },
        "outputId": "577452f3-3b7e-4650-b3bf-2fd1cb1eed03"
      },
      "execution_count": null,
      "outputs": [
        {
          "output_type": "execute_result",
          "data": {
            "text/plain": [
              "<matplotlib.legend.Legend at 0x7fc54b4d8970>"
            ]
          },
          "metadata": {},
          "execution_count": 72
        },
        {
          "output_type": "display_data",
          "data": {
            "text/plain": [
              "<Figure size 432x288 with 1 Axes>"
            ],
            "image/png": "[encoded data removed]"
          },
          "metadata": {
            "needs_background": "light"
          }
        }
      ]
    },
    {
      "cell_type": "code",
      "source": [
        "loss = history.history['loss']\n",
        "validation_loss = history.history['val_loss']\n",
        "plt.plot(loss, label='Training Set Loss')\n",
        "plt.plot(validation_loss, label='Validation Set Loss')\n",
        "plt.ylabel('Loss')\n",
        "plt.title('Training and Validation Accuracy Across Epochs')\n",
        "plt.legend()"
      ],
      "metadata": {
        "id": "BlcvKtXH3fHQ",
        "colab": {
          "base_uri": "https://localhost:8080/",
          "height": 298
        },
        "outputId": "1749dafa-2097-4249-e4e8-2f1321831a2c"
      },
      "execution_count": null,
      "outputs": [
        {
          "output_type": "execute_result",
          "data": {
            "text/plain": [
              "<matplotlib.legend.Legend at 0x7fc544b04e80>"
            ]
          },
          "metadata": {},
          "execution_count": 73
        },
        {
          "output_type": "display_data",
          "data": {
            "text/plain": [
              "<Figure size 432x288 with 1 Axes>"
            ],
            "image/png": "[encoded data removed]"
          },
          "metadata": {
            "needs_background": "light"
          }
        }
      ]
    },
    {
      "cell_type": "code",
      "source": [
        "\n",
        "from sklearn.metrics import confusion_matrix, classification_report\n",
        "\n",
        "y_pred = model.predict(X_test)\n",
        "y_pred = y_pred.argmax(axis=1)\n",
        "\n",
        "confusion_matrix = confusion_matrix(y_test,y_pred)\n",
        "plt.figure(figsize=(15,8))\n",
        "ax = sns.heatmap(confusion_matrix, cmap='flare',annot=True, fmt='d')\n",
        "plt.xlabel(\"Predicted Class\",fontsize=12)\n",
        "plt.ylabel(\"True Class\",fontsize=12)\n",
        "plt.title(\"Neural Networks Confusion Matrix, Layers=15, Epoch =100\",fontsize=12)\n",
        "plt.show()\n",
        "\n",
        "print(classification_report(y_test,y_pred))\n"
      ],
      "metadata": {
        "id": "Gw5b0mxF3ffj",
        "colab": {
          "base_uri": "https://localhost:8080/",
          "height": 690
        },
        "outputId": "d11e9c86-c3c6-4312-cf26-64260ed58d9e"
      },
      "execution_count": null,
      "outputs": [
        {
          "output_type": "stream",
          "name": "stdout",
          "text": [
            "8/8 [==============================] - 0s 2ms/step\n"
          ]
        },
        {
          "output_type": "display_data",
          "data": {
            "text/plain": [
              "<Figure size 1080x576 with 2 Axes>"
            ],
            "image/png": "[encoded data removed]"
          },
          "metadata": {
            "needs_background": "light"
          }
        },
        {
          "output_type": "stream",
          "name": "stdout",
          "text": [
            "              precision    recall  f1-score   support\n",
            "\n",
            "           0       0.87      0.77      0.82       150\n",
            "           1       0.65      0.78      0.71        81\n",
            "\n",
            "    accuracy                           0.77       231\n",
            "   macro avg       0.76      0.78      0.76       231\n",
            "weighted avg       0.79      0.77      0.78       231\n",
            "\n"
          ]
        }
      ]
    },
    {
      "cell_type": "code",
      "source": [],
      "metadata": {
        "id": "vtUutQzdQ5Vz"
      },
      "execution_count": null,
      "outputs": []
    },
    {
      "cell_type": "code",
      "source": [],
      "metadata": {
        "id": "Wkm2KAETQ5XH"
      },
      "execution_count": null,
      "outputs": []
    },
    {
      "cell_type": "code",
      "source": [],
      "metadata": {
        "id": "Ac2rL0u3TaLS"
      },
      "execution_count": null,
      "outputs": []
    }
  ]
}